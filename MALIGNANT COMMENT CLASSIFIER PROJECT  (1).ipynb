{
 "cells": [
  {
   "cell_type": "code",
   "execution_count": 34,
   "id": "89d4409e",
   "metadata": {},
   "outputs": [],
   "source": [
    "import pandas as pd\n",
    "import numpy as np\n",
    "import warnings\n",
    "warnings.filterwarnings('ignore')\n",
    "import matplotlib.pyplot as plt\n",
    "import seaborn as sns"
   ]
  },
  {
   "cell_type": "code",
   "execution_count": 2,
   "id": "bc0e0d96",
   "metadata": {},
   "outputs": [],
   "source": [
    "df=pd.read_csv('MALIGN_train.csv')"
   ]
  },
  {
   "cell_type": "code",
   "execution_count": 3,
   "id": "1128f250",
   "metadata": {},
   "outputs": [
    {
     "data": {
      "text/html": [
       "<div>\n",
       "<style scoped>\n",
       "    .dataframe tbody tr th:only-of-type {\n",
       "        vertical-align: middle;\n",
       "    }\n",
       "\n",
       "    .dataframe tbody tr th {\n",
       "        vertical-align: top;\n",
       "    }\n",
       "\n",
       "    .dataframe thead th {\n",
       "        text-align: right;\n",
       "    }\n",
       "</style>\n",
       "<table border=\"1\" class=\"dataframe\">\n",
       "  <thead>\n",
       "    <tr style=\"text-align: right;\">\n",
       "      <th></th>\n",
       "      <th>id</th>\n",
       "      <th>comment_text</th>\n",
       "      <th>malignant</th>\n",
       "      <th>highly_malignant</th>\n",
       "      <th>rude</th>\n",
       "      <th>threat</th>\n",
       "      <th>abuse</th>\n",
       "      <th>loathe</th>\n",
       "    </tr>\n",
       "  </thead>\n",
       "  <tbody>\n",
       "    <tr>\n",
       "      <th>0</th>\n",
       "      <td>0000997932d777bf</td>\n",
       "      <td>Explanation\\nWhy the edits made under my usern...</td>\n",
       "      <td>0</td>\n",
       "      <td>0</td>\n",
       "      <td>0</td>\n",
       "      <td>0</td>\n",
       "      <td>0</td>\n",
       "      <td>0</td>\n",
       "    </tr>\n",
       "    <tr>\n",
       "      <th>1</th>\n",
       "      <td>000103f0d9cfb60f</td>\n",
       "      <td>D'aww! He matches this background colour I'm s...</td>\n",
       "      <td>0</td>\n",
       "      <td>0</td>\n",
       "      <td>0</td>\n",
       "      <td>0</td>\n",
       "      <td>0</td>\n",
       "      <td>0</td>\n",
       "    </tr>\n",
       "    <tr>\n",
       "      <th>2</th>\n",
       "      <td>000113f07ec002fd</td>\n",
       "      <td>Hey man, I'm really not trying to edit war. It...</td>\n",
       "      <td>0</td>\n",
       "      <td>0</td>\n",
       "      <td>0</td>\n",
       "      <td>0</td>\n",
       "      <td>0</td>\n",
       "      <td>0</td>\n",
       "    </tr>\n",
       "    <tr>\n",
       "      <th>3</th>\n",
       "      <td>0001b41b1c6bb37e</td>\n",
       "      <td>\"\\nMore\\nI can't make any real suggestions on ...</td>\n",
       "      <td>0</td>\n",
       "      <td>0</td>\n",
       "      <td>0</td>\n",
       "      <td>0</td>\n",
       "      <td>0</td>\n",
       "      <td>0</td>\n",
       "    </tr>\n",
       "    <tr>\n",
       "      <th>4</th>\n",
       "      <td>0001d958c54c6e35</td>\n",
       "      <td>You, sir, are my hero. Any chance you remember...</td>\n",
       "      <td>0</td>\n",
       "      <td>0</td>\n",
       "      <td>0</td>\n",
       "      <td>0</td>\n",
       "      <td>0</td>\n",
       "      <td>0</td>\n",
       "    </tr>\n",
       "    <tr>\n",
       "      <th>...</th>\n",
       "      <td>...</td>\n",
       "      <td>...</td>\n",
       "      <td>...</td>\n",
       "      <td>...</td>\n",
       "      <td>...</td>\n",
       "      <td>...</td>\n",
       "      <td>...</td>\n",
       "      <td>...</td>\n",
       "    </tr>\n",
       "    <tr>\n",
       "      <th>159566</th>\n",
       "      <td>ffe987279560d7ff</td>\n",
       "      <td>\":::::And for the second time of asking, when ...</td>\n",
       "      <td>0</td>\n",
       "      <td>0</td>\n",
       "      <td>0</td>\n",
       "      <td>0</td>\n",
       "      <td>0</td>\n",
       "      <td>0</td>\n",
       "    </tr>\n",
       "    <tr>\n",
       "      <th>159567</th>\n",
       "      <td>ffea4adeee384e90</td>\n",
       "      <td>You should be ashamed of yourself \\n\\nThat is ...</td>\n",
       "      <td>0</td>\n",
       "      <td>0</td>\n",
       "      <td>0</td>\n",
       "      <td>0</td>\n",
       "      <td>0</td>\n",
       "      <td>0</td>\n",
       "    </tr>\n",
       "    <tr>\n",
       "      <th>159568</th>\n",
       "      <td>ffee36eab5c267c9</td>\n",
       "      <td>Spitzer \\n\\nUmm, theres no actual article for ...</td>\n",
       "      <td>0</td>\n",
       "      <td>0</td>\n",
       "      <td>0</td>\n",
       "      <td>0</td>\n",
       "      <td>0</td>\n",
       "      <td>0</td>\n",
       "    </tr>\n",
       "    <tr>\n",
       "      <th>159569</th>\n",
       "      <td>fff125370e4aaaf3</td>\n",
       "      <td>And it looks like it was actually you who put ...</td>\n",
       "      <td>0</td>\n",
       "      <td>0</td>\n",
       "      <td>0</td>\n",
       "      <td>0</td>\n",
       "      <td>0</td>\n",
       "      <td>0</td>\n",
       "    </tr>\n",
       "    <tr>\n",
       "      <th>159570</th>\n",
       "      <td>fff46fc426af1f9a</td>\n",
       "      <td>\"\\nAnd ... I really don't think you understand...</td>\n",
       "      <td>0</td>\n",
       "      <td>0</td>\n",
       "      <td>0</td>\n",
       "      <td>0</td>\n",
       "      <td>0</td>\n",
       "      <td>0</td>\n",
       "    </tr>\n",
       "  </tbody>\n",
       "</table>\n",
       "<p>159571 rows × 8 columns</p>\n",
       "</div>"
      ],
      "text/plain": [
       "                      id                                       comment_text  \\\n",
       "0       0000997932d777bf  Explanation\\nWhy the edits made under my usern...   \n",
       "1       000103f0d9cfb60f  D'aww! He matches this background colour I'm s...   \n",
       "2       000113f07ec002fd  Hey man, I'm really not trying to edit war. It...   \n",
       "3       0001b41b1c6bb37e  \"\\nMore\\nI can't make any real suggestions on ...   \n",
       "4       0001d958c54c6e35  You, sir, are my hero. Any chance you remember...   \n",
       "...                  ...                                                ...   \n",
       "159566  ffe987279560d7ff  \":::::And for the second time of asking, when ...   \n",
       "159567  ffea4adeee384e90  You should be ashamed of yourself \\n\\nThat is ...   \n",
       "159568  ffee36eab5c267c9  Spitzer \\n\\nUmm, theres no actual article for ...   \n",
       "159569  fff125370e4aaaf3  And it looks like it was actually you who put ...   \n",
       "159570  fff46fc426af1f9a  \"\\nAnd ... I really don't think you understand...   \n",
       "\n",
       "        malignant  highly_malignant  rude  threat  abuse  loathe  \n",
       "0               0                 0     0       0      0       0  \n",
       "1               0                 0     0       0      0       0  \n",
       "2               0                 0     0       0      0       0  \n",
       "3               0                 0     0       0      0       0  \n",
       "4               0                 0     0       0      0       0  \n",
       "...           ...               ...   ...     ...    ...     ...  \n",
       "159566          0                 0     0       0      0       0  \n",
       "159567          0                 0     0       0      0       0  \n",
       "159568          0                 0     0       0      0       0  \n",
       "159569          0                 0     0       0      0       0  \n",
       "159570          0                 0     0       0      0       0  \n",
       "\n",
       "[159571 rows x 8 columns]"
      ]
     },
     "execution_count": 3,
     "metadata": {},
     "output_type": "execute_result"
    }
   ],
   "source": [
    "df"
   ]
  },
  {
   "cell_type": "markdown",
   "id": "8dbe372b",
   "metadata": {},
   "source": [
    "## DUPLICATE VALUES CHECK "
   ]
  },
  {
   "cell_type": "code",
   "execution_count": 4,
   "id": "013e5765",
   "metadata": {},
   "outputs": [],
   "source": [
    "newdf=df.drop_duplicates()"
   ]
  },
  {
   "cell_type": "code",
   "execution_count": 5,
   "id": "d47887a8",
   "metadata": {},
   "outputs": [
    {
     "data": {
      "text/html": [
       "<div>\n",
       "<style scoped>\n",
       "    .dataframe tbody tr th:only-of-type {\n",
       "        vertical-align: middle;\n",
       "    }\n",
       "\n",
       "    .dataframe tbody tr th {\n",
       "        vertical-align: top;\n",
       "    }\n",
       "\n",
       "    .dataframe thead th {\n",
       "        text-align: right;\n",
       "    }\n",
       "</style>\n",
       "<table border=\"1\" class=\"dataframe\">\n",
       "  <thead>\n",
       "    <tr style=\"text-align: right;\">\n",
       "      <th></th>\n",
       "      <th>id</th>\n",
       "      <th>comment_text</th>\n",
       "      <th>malignant</th>\n",
       "      <th>highly_malignant</th>\n",
       "      <th>rude</th>\n",
       "      <th>threat</th>\n",
       "      <th>abuse</th>\n",
       "      <th>loathe</th>\n",
       "    </tr>\n",
       "  </thead>\n",
       "  <tbody>\n",
       "    <tr>\n",
       "      <th>0</th>\n",
       "      <td>0000997932d777bf</td>\n",
       "      <td>Explanation\\nWhy the edits made under my usern...</td>\n",
       "      <td>0</td>\n",
       "      <td>0</td>\n",
       "      <td>0</td>\n",
       "      <td>0</td>\n",
       "      <td>0</td>\n",
       "      <td>0</td>\n",
       "    </tr>\n",
       "    <tr>\n",
       "      <th>1</th>\n",
       "      <td>000103f0d9cfb60f</td>\n",
       "      <td>D'aww! He matches this background colour I'm s...</td>\n",
       "      <td>0</td>\n",
       "      <td>0</td>\n",
       "      <td>0</td>\n",
       "      <td>0</td>\n",
       "      <td>0</td>\n",
       "      <td>0</td>\n",
       "    </tr>\n",
       "    <tr>\n",
       "      <th>2</th>\n",
       "      <td>000113f07ec002fd</td>\n",
       "      <td>Hey man, I'm really not trying to edit war. It...</td>\n",
       "      <td>0</td>\n",
       "      <td>0</td>\n",
       "      <td>0</td>\n",
       "      <td>0</td>\n",
       "      <td>0</td>\n",
       "      <td>0</td>\n",
       "    </tr>\n",
       "    <tr>\n",
       "      <th>3</th>\n",
       "      <td>0001b41b1c6bb37e</td>\n",
       "      <td>\"\\nMore\\nI can't make any real suggestions on ...</td>\n",
       "      <td>0</td>\n",
       "      <td>0</td>\n",
       "      <td>0</td>\n",
       "      <td>0</td>\n",
       "      <td>0</td>\n",
       "      <td>0</td>\n",
       "    </tr>\n",
       "    <tr>\n",
       "      <th>4</th>\n",
       "      <td>0001d958c54c6e35</td>\n",
       "      <td>You, sir, are my hero. Any chance you remember...</td>\n",
       "      <td>0</td>\n",
       "      <td>0</td>\n",
       "      <td>0</td>\n",
       "      <td>0</td>\n",
       "      <td>0</td>\n",
       "      <td>0</td>\n",
       "    </tr>\n",
       "    <tr>\n",
       "      <th>...</th>\n",
       "      <td>...</td>\n",
       "      <td>...</td>\n",
       "      <td>...</td>\n",
       "      <td>...</td>\n",
       "      <td>...</td>\n",
       "      <td>...</td>\n",
       "      <td>...</td>\n",
       "      <td>...</td>\n",
       "    </tr>\n",
       "    <tr>\n",
       "      <th>159566</th>\n",
       "      <td>ffe987279560d7ff</td>\n",
       "      <td>\":::::And for the second time of asking, when ...</td>\n",
       "      <td>0</td>\n",
       "      <td>0</td>\n",
       "      <td>0</td>\n",
       "      <td>0</td>\n",
       "      <td>0</td>\n",
       "      <td>0</td>\n",
       "    </tr>\n",
       "    <tr>\n",
       "      <th>159567</th>\n",
       "      <td>ffea4adeee384e90</td>\n",
       "      <td>You should be ashamed of yourself \\n\\nThat is ...</td>\n",
       "      <td>0</td>\n",
       "      <td>0</td>\n",
       "      <td>0</td>\n",
       "      <td>0</td>\n",
       "      <td>0</td>\n",
       "      <td>0</td>\n",
       "    </tr>\n",
       "    <tr>\n",
       "      <th>159568</th>\n",
       "      <td>ffee36eab5c267c9</td>\n",
       "      <td>Spitzer \\n\\nUmm, theres no actual article for ...</td>\n",
       "      <td>0</td>\n",
       "      <td>0</td>\n",
       "      <td>0</td>\n",
       "      <td>0</td>\n",
       "      <td>0</td>\n",
       "      <td>0</td>\n",
       "    </tr>\n",
       "    <tr>\n",
       "      <th>159569</th>\n",
       "      <td>fff125370e4aaaf3</td>\n",
       "      <td>And it looks like it was actually you who put ...</td>\n",
       "      <td>0</td>\n",
       "      <td>0</td>\n",
       "      <td>0</td>\n",
       "      <td>0</td>\n",
       "      <td>0</td>\n",
       "      <td>0</td>\n",
       "    </tr>\n",
       "    <tr>\n",
       "      <th>159570</th>\n",
       "      <td>fff46fc426af1f9a</td>\n",
       "      <td>\"\\nAnd ... I really don't think you understand...</td>\n",
       "      <td>0</td>\n",
       "      <td>0</td>\n",
       "      <td>0</td>\n",
       "      <td>0</td>\n",
       "      <td>0</td>\n",
       "      <td>0</td>\n",
       "    </tr>\n",
       "  </tbody>\n",
       "</table>\n",
       "<p>159571 rows × 8 columns</p>\n",
       "</div>"
      ],
      "text/plain": [
       "                      id                                       comment_text  \\\n",
       "0       0000997932d777bf  Explanation\\nWhy the edits made under my usern...   \n",
       "1       000103f0d9cfb60f  D'aww! He matches this background colour I'm s...   \n",
       "2       000113f07ec002fd  Hey man, I'm really not trying to edit war. It...   \n",
       "3       0001b41b1c6bb37e  \"\\nMore\\nI can't make any real suggestions on ...   \n",
       "4       0001d958c54c6e35  You, sir, are my hero. Any chance you remember...   \n",
       "...                  ...                                                ...   \n",
       "159566  ffe987279560d7ff  \":::::And for the second time of asking, when ...   \n",
       "159567  ffea4adeee384e90  You should be ashamed of yourself \\n\\nThat is ...   \n",
       "159568  ffee36eab5c267c9  Spitzer \\n\\nUmm, theres no actual article for ...   \n",
       "159569  fff125370e4aaaf3  And it looks like it was actually you who put ...   \n",
       "159570  fff46fc426af1f9a  \"\\nAnd ... I really don't think you understand...   \n",
       "\n",
       "        malignant  highly_malignant  rude  threat  abuse  loathe  \n",
       "0               0                 0     0       0      0       0  \n",
       "1               0                 0     0       0      0       0  \n",
       "2               0                 0     0       0      0       0  \n",
       "3               0                 0     0       0      0       0  \n",
       "4               0                 0     0       0      0       0  \n",
       "...           ...               ...   ...     ...    ...     ...  \n",
       "159566          0                 0     0       0      0       0  \n",
       "159567          0                 0     0       0      0       0  \n",
       "159568          0                 0     0       0      0       0  \n",
       "159569          0                 0     0       0      0       0  \n",
       "159570          0                 0     0       0      0       0  \n",
       "\n",
       "[159571 rows x 8 columns]"
      ]
     },
     "execution_count": 5,
     "metadata": {},
     "output_type": "execute_result"
    }
   ],
   "source": [
    "newdf"
   ]
  },
  {
   "cell_type": "markdown",
   "id": "45333bfe",
   "metadata": {},
   "source": [
    "### NO DUPLICATE VALUES FOUND"
   ]
  },
  {
   "cell_type": "markdown",
   "id": "2d1edeac",
   "metadata": {},
   "source": [
    "## CHECKING DATA TYPES & VARIABLES"
   ]
  },
  {
   "cell_type": "code",
   "execution_count": 6,
   "id": "cb1a8605",
   "metadata": {},
   "outputs": [
    {
     "data": {
      "text/plain": [
       "id                  object\n",
       "comment_text        object\n",
       "malignant            int64\n",
       "highly_malignant     int64\n",
       "rude                 int64\n",
       "threat               int64\n",
       "abuse                int64\n",
       "loathe               int64\n",
       "dtype: object"
      ]
     },
     "execution_count": 6,
     "metadata": {},
     "output_type": "execute_result"
    }
   ],
   "source": [
    "df.dtypes"
   ]
  },
  {
   "cell_type": "code",
   "execution_count": 7,
   "id": "db445fd4",
   "metadata": {},
   "outputs": [
    {
     "name": "stdout",
     "output_type": "stream",
     "text": [
      "<class 'pandas.core.frame.DataFrame'>\n",
      "RangeIndex: 159571 entries, 0 to 159570\n",
      "Data columns (total 8 columns):\n",
      " #   Column            Non-Null Count   Dtype \n",
      "---  ------            --------------   ----- \n",
      " 0   id                159571 non-null  object\n",
      " 1   comment_text      159571 non-null  object\n",
      " 2   malignant         159571 non-null  int64 \n",
      " 3   highly_malignant  159571 non-null  int64 \n",
      " 4   rude              159571 non-null  int64 \n",
      " 5   threat            159571 non-null  int64 \n",
      " 6   abuse             159571 non-null  int64 \n",
      " 7   loathe            159571 non-null  int64 \n",
      "dtypes: int64(6), object(2)\n",
      "memory usage: 9.7+ MB\n"
     ]
    }
   ],
   "source": [
    "df.info()"
   ]
  },
  {
   "cell_type": "markdown",
   "id": "f7797317",
   "metadata": {},
   "source": [
    "## COUNT & VALUE CHECK OF ALL COLUMNS "
   ]
  },
  {
   "cell_type": "code",
   "execution_count": 8,
   "id": "495d9a49",
   "metadata": {},
   "outputs": [
    {
     "data": {
      "text/plain": [
       "array(['0000997932d777bf', '000103f0d9cfb60f', '000113f07ec002fd', ...,\n",
       "       'ffee36eab5c267c9', 'fff125370e4aaaf3', 'fff46fc426af1f9a'],\n",
       "      dtype=object)"
      ]
     },
     "execution_count": 8,
     "metadata": {},
     "output_type": "execute_result"
    }
   ],
   "source": [
    "df['id'].unique()"
   ]
  },
  {
   "cell_type": "code",
   "execution_count": 9,
   "id": "7616d2be",
   "metadata": {},
   "outputs": [
    {
     "data": {
      "text/plain": [
       "0000997932d777bf    1\n",
       "392f4a9354209ec6    1\n",
       "3925db56b320ccc6    1\n",
       "392753482da03615    1\n",
       "3927dd49d646f41f    1\n",
       "                   ..\n",
       "8e30b2de937e8de9    1\n",
       "8e30fd3564ba0b4a    1\n",
       "8e328798f6397fcc    1\n",
       "8e34742563534edd    1\n",
       "fff46fc426af1f9a    1\n",
       "Name: id, Length: 159571, dtype: int64"
      ]
     },
     "execution_count": 9,
     "metadata": {},
     "output_type": "execute_result"
    }
   ],
   "source": [
    "df['id'].value_counts()"
   ]
  },
  {
   "cell_type": "code",
   "execution_count": 10,
   "id": "700b12a9",
   "metadata": {},
   "outputs": [
    {
     "data": {
      "text/plain": [
       "array([\"Explanation\\nWhy the edits made under my username Hardcore Metallica Fan were reverted? They weren't vandalisms, just closure on some GAs after I voted at New York Dolls FAC. And please don't remove the template from the talk page since I'm retired now.89.205.38.27\",\n",
       "       \"D'aww! He matches this background colour I'm seemingly stuck with. Thanks.  (talk) 21:51, January 11, 2016 (UTC)\",\n",
       "       \"Hey man, I'm really not trying to edit war. It's just that this guy is constantly removing relevant information and talking to me through edits instead of my talk page. He seems to care more about the formatting than the actual info.\",\n",
       "       ...,\n",
       "       'Spitzer \\n\\nUmm, theres no actual article for prostitution ring.  - Crunch Captain.',\n",
       "       'And it looks like it was actually you who put on the speedy to have the first version deleted now that I look at it.',\n",
       "       '\"\\nAnd ... I really don\\'t think you understand.  I came here and my idea was bad right away.  What kind of community goes \"\"you have bad ideas\"\" go away, instead of helping rewrite them.   \"'],\n",
       "      dtype=object)"
      ]
     },
     "execution_count": 10,
     "metadata": {},
     "output_type": "execute_result"
    }
   ],
   "source": [
    "df['comment_text'].unique()"
   ]
  },
  {
   "cell_type": "code",
   "execution_count": 11,
   "id": "0ab2f86c",
   "metadata": {},
   "outputs": [
    {
     "data": {
      "text/plain": [
       "Explanation\\nWhy the edits made under my username Hardcore Metallica Fan were reverted? They weren't vandalisms, just closure on some GAs after I voted at New York Dolls FAC. And please don't remove the template from the talk page since I'm retired now.89.205.38.27                                                                                                                                                                                                                                                                                                                                                                                                                                                                                                                                                                                                                                                                                                                                                                                                                                                                                                                                                                                                                                                                                                                                                                                                                                                                                                                                                                                                                                                                                                                                                                                                                                                                                                                                                                                                                                                                                                                                                                                                                                                                                                                                                                                                                                                                                                                                                                                                                                                                                                                                                                                                                                                                                                                                                                                                                                                                                                                                                                                                                                                                                                                                                                                                                                                                                                                                                                                                                                                                                                                                                                                                                                                                                                                                                                                     1\n",
       "John Barbirolli \\n\\nWarm thanks for promoting the article and for your kind words about it. At your service for GA, peer review or FA etc if I can be of any use. -                                                                                                                                                                                                                                                                                                                                                                                                                                                                                                                                                                                                                                                                                                                                                                                                                                                                                                                                                                                                                                                                                                                                                                                                                                                                                                                                                                                                                                                                                                                                                                                                                                                                                                                                                                                                                                                                                                                                                                                                                                                                                                                                                                                                                                                                                                                                                                                                                                                                                                                                                                                                                                                                                                                                                                                                                                                                                                                                                                                                                                                                                                                                                                                                                                                                                                                                                                                                                                                                                                                                                                                                                                                                                                                                                                                                                                                                                           1\n",
       "\"\\n\\nHe is an Alumnus, a scientist and an Interaction Design pioneer.  If you want to reword the article, by all means User:Kmarkey  call Carnegie Mellon for verification.  Also, if you read Category:Suspected_Wikipedia_sockpuppets_of_Young_Zaphod it mentions \"\"Herb Gilliland\"\" because of an article involving Mr. Gilliland.  \\n \"                                                                                                                                                                                                                                                                                                                                                                                                                                                                                                                                                                                                                                                                                                                                                                                                                                                                                                                                                                                                                                                                                                                                                                                                                                                                                                                                                                                                                                                                                                                                                                                                                                                                                                                                                                                                                                                                                                                                                                                                                                                                                                                                                                                                                                                                                                                                                                                                                                                                                                                                                                                                                                                                                                                                                                                                                                                                                                                                                                                                                                                                                                                                                                                                                                                                                                                                                                                                                                                                                                                                                                                                                                                                                                                   1\n",
       "Reply on my talk page. -                                                                                                                                                                                                                                                                                                                                                                                                                                                                                                                                                                                                                                                                                                                                                                                                                                                                                                                                                                                                                                                                                                                                                                                                                                                                                                                                                                                                                                                                                                                                                                                                                                                                                                                                                                                                                                                                                                                                                                                                                                                                                                                                                                                                                                                                                                                                                                                                                                                                                                                                                                                                                                                                                                                                                                                                                                                                                                                                                                                                                                                                                                                                                                                                                                                                                                                                                                                                                                                                                                                                                                                                                                                                                                                                                                                                                                                                                                                                                                                                                                      1\n",
       "\"\\n\\n Some tips for you! \\n\\nHi , I thought I'd drop a few notes on your talk page with some help on writing articles o)\\n\\nFirst of all, it may be best for you to do a bit of reading, starting with the Wikipedia manual of style, which will give you a lot of information about how Wikipedia prefers its articles to be written.  It's not as hard to follow as it might look; quite a bit of the information there probably won't be vital for you at first.\\n\\nSecond, I recommend you make a user sandbox - which is just an area you can use to practise in, and to make notes in, and to get things ready in.  If you click this red link: user:/Sandbox, that will let you create that page (it gives you an edit window to start work in).  Anything, anywhere, on the help and information pages which gives you an example, try it out in your sandbox until you're familiar with it.\\n\\nFor your article, the next thing you want to do is start collecting as much information as you can about it.  Google searches (particularly in Books and Scholar) will be your best friend for this!  Once you've found the information, the next most important thing is to start writing up each fact in your own words (very important, this), and make a note at the same time of exactly where that information came from.  Build in the references as you go along; I'm going to copy in, down below this, a whole heap of help on doing references, which was produced by one of our best teachers ().\\n\\nHere's another place that you'll find incredibly useful - citation templates which you can copy and paste into your sandbox, between  tags; you just fill in the blanks from your sources into the template, and you'll end up with nicely formatted inline citations o)  It all helps.  Remember to add a references section to your sandbox (make a new line, and put ==References== on it, and type {{reflist}} on the next line, so that you can see how your citations look as you do them.  Remember to save your page often! You don't want to lose your work.\\n\\nHopefully this will give you a good start and make life easier for you.  (talk …stalk!) \\nHow references work\\n\\n Simple references \\n\\nThese require two parts;\\n\\na)\\nChzz is 98 years old. \"\"The book of Chzz\"\", Aardvark Books, 2009. \\n\\nHe likes tea.  [http://www.nicecupofteaandasitdown.com Tea website] \\n\\nb) A section called \"\"References\"\" with the special code \"\"{{reflist}}\"\";\\n== References ==\\n{{reflist}}\\n\\n(an existing article is likely to already have one of these sections)\\n\\nTo see the result of that, please look at user:chzz/demo/simpleref. Edit it, and check the code; perhaps make a test page of your own, such as user:/reftest and try it out.\\n\\n Named references \\n\\nChzz was born in 1837. \\n\"\"The book of Chzz\"\", Aardvark Books, 2009. \\n \\n\\nChzz lives in Footown.\\n\\nNote that the second usage has a / (and no closing ref tag). This needs a reference section as above; please see user:chzz/demo/namedref to see the result.\\n\\n Citation templates \\n\\nYou can put anything you like between  and , but using citation templates makes for a neat, consistent look;\\n\\nChzz has 37 Olympic medals.  {{Citation\\n | last = Smith\\n | first = John\\n | title = Olympic medal winners of the 20th century\\n | publication-date = 2001\\n | publisher = [[Cambridge University Press]]\\n | page = 125\\n | isbn = 0-521-37169-4\\n}}\\n\\n\\nPlease see user:chzz/demo/citeref to see the result.\\n\\nFor more help and tips on that subject, see user:chzz/help/refs.\\nSomething to make your life easier!\\n\\nHi there !  I've just come across one of your articles, and noticed that you had to create titles for your url links manually, or were using bare urls as references.\\n\\nYou  might want to consider using this tool - it makes your life a whole heap easier, by filling in complete citation templates for your links.  All you do is install the script on Special:MyPage/common.js, or or    1\n",
       "                                                                                                                                                                                                                                                                                                                                                                                                                                                                                                                                                                                                                                                                                                                                                                                                                                                                                                                                                                                                                                                                                                                                                                                                                                                                                                                                                                                                                                                                                                                                                                                                                                                                                                                                                                                                                                                                                                                                                                                                                                                                                                                                                                                                                                                                                                                                                                                                                                                                                                                                                                                                                                                                                                                                                                                                                                                                                                                                                                                                                                                                                                                                                                                                                                                                                                                                                                                                                                                                                                                                                                                                                                                                                                                                                                                                                                                                                                                                                                                                                                                             ..\n",
       ", which also mean that I will avoid edit-warring as WP:BRD says                                                                                                                                                                                                                                                                                                                                                                                                                                                                                                                                                                                                                                                                                                                                                                                                                                                                                                                                                                                                                                                                                                                                                                                                                                                                                                                                                                                                                                                                                                                                                                                                                                                                                                                                                                                                                                                                                                                                                                                                                                                                                                                                                                                                                                                                                                                                                                                                                                                                                                                                                                                                                                                                                                                                                                                                                                                                                                                                                                                                                                                                                                                                                                                                                                                                                                                                                                                                                                                                                                                                                                                                                                                                                                                                                                                                                                                                                                                                                                                               1\n",
       "nutcase \\n\\nyou're a sick bloody nutcase                                                                                                                                                                                                                                                                                                                                                                                                                                                                                                                                                                                                                                                                                                                                                                                                                                                                                                                                                                                                                                                                                                                                                                                                                                                                                                                                                                                                                                                                                                                                                                                                                                                                                                                                                                                                                                                                                                                                                                                                                                                                                                                                                                                                                                                                                                                                                                                                                                                                                                                                                                                                                                                                                                                                                                                                                                                                                                                                                                                                                                                                                                                                                                                                                                                                                                                                                                                                                                                                                                                                                                                                                                                                                                                                                                                                                                                                                                                                                                                                                      1\n",
       "\"\\n\\nDon't worry about the above too much - but copyrighted files like this can't be used when it's \"\"easy\"\" to get free shots.  That's why so many articles on living people don't have an image, they're waiting for free images to appear.  You also need to find some more sources about Kelly - IMDb isn't classed as a very reliable source because like wikipedia most of it is user generated content, so it isn't verifiably correct.   \"                                                                                                                                                                                                                                                                                                                                                                                                                                                                                                                                                                                                                                                                                                                                                                                                                                                                                                                                                                                                                                                                                                                                                                                                                                                                                                                                                                                                                                                                                                                                                                                                                                                                                                                                                                                                                                                                                                                                                                                                                                                                                                                                                                                                                                                                                                                                                                                                                                                                                                                                                                                                                                                                                                                                                                                                                                                                                                                                                                                                                                                                                                                                                                                                                                                                                                                                                                                                                                                                                                                                                                                                            1\n",
       "please reffer tkz.jpg                                                                                                                                                                                                                                                                                                                                                                                                                                                                                                                                                                                                                                                                                                                                                                                                                                                                                                                                                                                                                                                                                                                                                                                                                                                                                                                                                                                                                                                                                                                                                                                                                                                                                                                                                                                                                                                                                                                                                                                                                                                                                                                                                                                                                                                                                                                                                                                                                                                                                                                                                                                                                                                                                                                                                                                                                                                                                                                                                                                                                                                                                                                                                                                                                                                                                                                                                                                                                                                                                                                                                                                                                                                                                                                                                                                                                                                                                                                                                                                                                                         1\n",
       "\"\\nAnd ... I really don't think you understand.  I came here and my idea was bad right away.  What kind of community goes \"\"you have bad ideas\"\" go away, instead of helping rewrite them.   \"                                                                                                                                                                                                                                                                                                                                                                                                                                                                                                                                                                                                                                                                                                                                                                                                                                                                                                                                                                                                                                                                                                                                                                                                                                                                                                                                                                                                                                                                                                                                                                                                                                                                                                                                                                                                                                                                                                                                                                                                                                                                                                                                                                                                                                                                                                                                                                                                                                                                                                                                                                                                                                                                                                                                                                                                                                                                                                                                                                                                                                                                                                                                                                                                                                                                                                                                                                                                                                                                                                                                                                                                                                                                                                                                                                                                                                                                1\n",
       "Name: comment_text, Length: 159571, dtype: int64"
      ]
     },
     "execution_count": 11,
     "metadata": {},
     "output_type": "execute_result"
    }
   ],
   "source": [
    "df['comment_text'].value_counts()"
   ]
  },
  {
   "cell_type": "code",
   "execution_count": 12,
   "id": "a1a6ec02",
   "metadata": {},
   "outputs": [
    {
     "data": {
      "text/plain": [
       "array([0, 1])"
      ]
     },
     "execution_count": 12,
     "metadata": {},
     "output_type": "execute_result"
    }
   ],
   "source": [
    "df['malignant'].unique()"
   ]
  },
  {
   "cell_type": "code",
   "execution_count": 13,
   "id": "daa91083",
   "metadata": {},
   "outputs": [
    {
     "data": {
      "text/plain": [
       "0    144277\n",
       "1     15294\n",
       "Name: malignant, dtype: int64"
      ]
     },
     "execution_count": 13,
     "metadata": {},
     "output_type": "execute_result"
    }
   ],
   "source": [
    "df['malignant'].value_counts()"
   ]
  },
  {
   "cell_type": "code",
   "execution_count": 14,
   "id": "7805e750",
   "metadata": {},
   "outputs": [
    {
     "data": {
      "text/plain": [
       "array([0, 1])"
      ]
     },
     "execution_count": 14,
     "metadata": {},
     "output_type": "execute_result"
    }
   ],
   "source": [
    "df['highly_malignant'].unique()"
   ]
  },
  {
   "cell_type": "code",
   "execution_count": 15,
   "id": "278a280d",
   "metadata": {},
   "outputs": [
    {
     "data": {
      "text/plain": [
       "0    157976\n",
       "1      1595\n",
       "Name: highly_malignant, dtype: int64"
      ]
     },
     "execution_count": 15,
     "metadata": {},
     "output_type": "execute_result"
    }
   ],
   "source": [
    "df['highly_malignant'].value_counts()"
   ]
  },
  {
   "cell_type": "code",
   "execution_count": 16,
   "id": "7af03a3c",
   "metadata": {},
   "outputs": [
    {
     "data": {
      "text/plain": [
       "array([0, 1])"
      ]
     },
     "execution_count": 16,
     "metadata": {},
     "output_type": "execute_result"
    }
   ],
   "source": [
    "df['rude'].unique()"
   ]
  },
  {
   "cell_type": "code",
   "execution_count": 17,
   "id": "903572b6",
   "metadata": {},
   "outputs": [
    {
     "data": {
      "text/plain": [
       "0    151122\n",
       "1      8449\n",
       "Name: rude, dtype: int64"
      ]
     },
     "execution_count": 17,
     "metadata": {},
     "output_type": "execute_result"
    }
   ],
   "source": [
    "df['rude'].value_counts()"
   ]
  },
  {
   "cell_type": "code",
   "execution_count": 18,
   "id": "e6ef8c41",
   "metadata": {},
   "outputs": [
    {
     "data": {
      "text/plain": [
       "array([0, 1])"
      ]
     },
     "execution_count": 18,
     "metadata": {},
     "output_type": "execute_result"
    }
   ],
   "source": [
    "df['threat'].unique()"
   ]
  },
  {
   "cell_type": "code",
   "execution_count": 19,
   "id": "784a5515",
   "metadata": {},
   "outputs": [
    {
     "data": {
      "text/plain": [
       "0    159093\n",
       "1       478\n",
       "Name: threat, dtype: int64"
      ]
     },
     "execution_count": 19,
     "metadata": {},
     "output_type": "execute_result"
    }
   ],
   "source": [
    "df['threat'].value_counts()"
   ]
  },
  {
   "cell_type": "code",
   "execution_count": 20,
   "id": "b5d0a0a3",
   "metadata": {},
   "outputs": [
    {
     "data": {
      "text/plain": [
       "array([0, 1])"
      ]
     },
     "execution_count": 20,
     "metadata": {},
     "output_type": "execute_result"
    }
   ],
   "source": [
    "df['abuse'].unique()"
   ]
  },
  {
   "cell_type": "code",
   "execution_count": 21,
   "id": "0c90ac52",
   "metadata": {},
   "outputs": [
    {
     "data": {
      "text/plain": [
       "0    151694\n",
       "1      7877\n",
       "Name: abuse, dtype: int64"
      ]
     },
     "execution_count": 21,
     "metadata": {},
     "output_type": "execute_result"
    }
   ],
   "source": [
    "df['abuse'].value_counts()"
   ]
  },
  {
   "cell_type": "code",
   "execution_count": 22,
   "id": "73d3c85e",
   "metadata": {},
   "outputs": [
    {
     "data": {
      "text/plain": [
       "array([0, 1])"
      ]
     },
     "execution_count": 22,
     "metadata": {},
     "output_type": "execute_result"
    }
   ],
   "source": [
    "df['loathe'].unique()"
   ]
  },
  {
   "cell_type": "code",
   "execution_count": 23,
   "id": "a16fdb21",
   "metadata": {},
   "outputs": [
    {
     "data": {
      "text/plain": [
       "0    158166\n",
       "1      1405\n",
       "Name: loathe, dtype: int64"
      ]
     },
     "execution_count": 23,
     "metadata": {},
     "output_type": "execute_result"
    }
   ],
   "source": [
    "df['loathe'].value_counts()"
   ]
  },
  {
   "cell_type": "markdown",
   "id": "f207d356",
   "metadata": {},
   "source": [
    "## MISSING VALUES CHECK "
   ]
  },
  {
   "cell_type": "code",
   "execution_count": 24,
   "id": "4460eb42",
   "metadata": {},
   "outputs": [
    {
     "data": {
      "text/plain": [
       "id                  0\n",
       "comment_text        0\n",
       "malignant           0\n",
       "highly_malignant    0\n",
       "rude                0\n",
       "threat              0\n",
       "abuse               0\n",
       "loathe              0\n",
       "dtype: int64"
      ]
     },
     "execution_count": 24,
     "metadata": {},
     "output_type": "execute_result"
    }
   ],
   "source": [
    "df.isnull().sum()"
   ]
  },
  {
   "cell_type": "markdown",
   "id": "68aeb9b9",
   "metadata": {},
   "source": [
    "## NON GRAPHICAL UNIVARIATE ANALYSIS"
   ]
  },
  {
   "cell_type": "code",
   "execution_count": 31,
   "id": "f97ef8a5",
   "metadata": {},
   "outputs": [
    {
     "data": {
      "text/html": [
       "<div>\n",
       "<style scoped>\n",
       "    .dataframe tbody tr th:only-of-type {\n",
       "        vertical-align: middle;\n",
       "    }\n",
       "\n",
       "    .dataframe tbody tr th {\n",
       "        vertical-align: top;\n",
       "    }\n",
       "\n",
       "    .dataframe thead th {\n",
       "        text-align: right;\n",
       "    }\n",
       "</style>\n",
       "<table border=\"1\" class=\"dataframe\">\n",
       "  <thead>\n",
       "    <tr style=\"text-align: right;\">\n",
       "      <th></th>\n",
       "      <th>malignant</th>\n",
       "      <th>highly_malignant</th>\n",
       "      <th>rude</th>\n",
       "      <th>threat</th>\n",
       "      <th>abuse</th>\n",
       "      <th>loathe</th>\n",
       "    </tr>\n",
       "  </thead>\n",
       "  <tbody>\n",
       "    <tr>\n",
       "      <th>count</th>\n",
       "      <td>159571.000000</td>\n",
       "      <td>159571.000000</td>\n",
       "      <td>159571.000000</td>\n",
       "      <td>159571.000000</td>\n",
       "      <td>159571.000000</td>\n",
       "      <td>159571.000000</td>\n",
       "    </tr>\n",
       "    <tr>\n",
       "      <th>mean</th>\n",
       "      <td>0.095844</td>\n",
       "      <td>0.009996</td>\n",
       "      <td>0.052948</td>\n",
       "      <td>0.002996</td>\n",
       "      <td>0.049364</td>\n",
       "      <td>0.008805</td>\n",
       "    </tr>\n",
       "    <tr>\n",
       "      <th>std</th>\n",
       "      <td>0.294379</td>\n",
       "      <td>0.099477</td>\n",
       "      <td>0.223931</td>\n",
       "      <td>0.054650</td>\n",
       "      <td>0.216627</td>\n",
       "      <td>0.093420</td>\n",
       "    </tr>\n",
       "    <tr>\n",
       "      <th>min</th>\n",
       "      <td>0.000000</td>\n",
       "      <td>0.000000</td>\n",
       "      <td>0.000000</td>\n",
       "      <td>0.000000</td>\n",
       "      <td>0.000000</td>\n",
       "      <td>0.000000</td>\n",
       "    </tr>\n",
       "    <tr>\n",
       "      <th>25%</th>\n",
       "      <td>0.000000</td>\n",
       "      <td>0.000000</td>\n",
       "      <td>0.000000</td>\n",
       "      <td>0.000000</td>\n",
       "      <td>0.000000</td>\n",
       "      <td>0.000000</td>\n",
       "    </tr>\n",
       "    <tr>\n",
       "      <th>50%</th>\n",
       "      <td>0.000000</td>\n",
       "      <td>0.000000</td>\n",
       "      <td>0.000000</td>\n",
       "      <td>0.000000</td>\n",
       "      <td>0.000000</td>\n",
       "      <td>0.000000</td>\n",
       "    </tr>\n",
       "    <tr>\n",
       "      <th>75%</th>\n",
       "      <td>0.000000</td>\n",
       "      <td>0.000000</td>\n",
       "      <td>0.000000</td>\n",
       "      <td>0.000000</td>\n",
       "      <td>0.000000</td>\n",
       "      <td>0.000000</td>\n",
       "    </tr>\n",
       "    <tr>\n",
       "      <th>max</th>\n",
       "      <td>1.000000</td>\n",
       "      <td>1.000000</td>\n",
       "      <td>1.000000</td>\n",
       "      <td>1.000000</td>\n",
       "      <td>1.000000</td>\n",
       "      <td>1.000000</td>\n",
       "    </tr>\n",
       "  </tbody>\n",
       "</table>\n",
       "</div>"
      ],
      "text/plain": [
       "           malignant  highly_malignant           rude         threat  \\\n",
       "count  159571.000000     159571.000000  159571.000000  159571.000000   \n",
       "mean        0.095844          0.009996       0.052948       0.002996   \n",
       "std         0.294379          0.099477       0.223931       0.054650   \n",
       "min         0.000000          0.000000       0.000000       0.000000   \n",
       "25%         0.000000          0.000000       0.000000       0.000000   \n",
       "50%         0.000000          0.000000       0.000000       0.000000   \n",
       "75%         0.000000          0.000000       0.000000       0.000000   \n",
       "max         1.000000          1.000000       1.000000       1.000000   \n",
       "\n",
       "               abuse         loathe  \n",
       "count  159571.000000  159571.000000  \n",
       "mean        0.049364       0.008805  \n",
       "std         0.216627       0.093420  \n",
       "min         0.000000       0.000000  \n",
       "25%         0.000000       0.000000  \n",
       "50%         0.000000       0.000000  \n",
       "75%         0.000000       0.000000  \n",
       "max         1.000000       1.000000  "
      ]
     },
     "execution_count": 31,
     "metadata": {},
     "output_type": "execute_result"
    }
   ],
   "source": [
    "df.describe()"
   ]
  },
  {
   "cell_type": "markdown",
   "id": "aabbc2d6",
   "metadata": {},
   "source": [
    "## GRAPHICAL UNIVARIATE ANALYSIS "
   ]
  },
  {
   "cell_type": "code",
   "execution_count": 39,
   "id": "02ace7f1",
   "metadata": {},
   "outputs": [
    {
     "data": {
      "text/plain": [
       "<AxesSubplot:xlabel='malignant', ylabel='count'>"
      ]
     },
     "execution_count": 39,
     "metadata": {},
     "output_type": "execute_result"
    },
    {
     "data": {
      "image/png": "[encoded data removed]",
      "text/plain": [
       "<Figure size 432x288 with 1 Axes>"
      ]
     },
     "metadata": {
      "needs_background": "light"
     },
     "output_type": "display_data"
    }
   ],
   "source": [
    "sns.countplot(df['malignant'])"
   ]
  },
  {
   "cell_type": "code",
   "execution_count": 40,
   "id": "8f784829",
   "metadata": {},
   "outputs": [
    {
     "data": {
      "text/plain": [
       "<AxesSubplot:xlabel='highly_malignant', ylabel='count'>"
      ]
     },
     "execution_count": 40,
     "metadata": {},
     "output_type": "execute_result"
    },
    {
     "data": {
      "image/png": "[encoded data removed]",
      "text/plain": [
       "<Figure size 432x288 with 1 Axes>"
      ]
     },
     "metadata": {
      "needs_background": "light"
     },
     "output_type": "display_data"
    }
   ],
   "source": [
    "sns.countplot(df['highly_malignant'])"
   ]
  },
  {
   "cell_type": "code",
   "execution_count": 41,
   "id": "72aadbf9",
   "metadata": {},
   "outputs": [
    {
     "data": {
      "text/plain": [
       "<AxesSubplot:xlabel='rude', ylabel='count'>"
      ]
     },
     "execution_count": 41,
     "metadata": {},
     "output_type": "execute_result"
    },
    {
     "data": {
      "image/png": "[encoded data removed]",
      "text/plain": [
       "<Figure size 432x288 with 1 Axes>"
      ]
     },
     "metadata": {
      "needs_background": "light"
     },
     "output_type": "display_data"
    }
   ],
   "source": [
    "sns.countplot(df['rude'])"
   ]
  },
  {
   "cell_type": "code",
   "execution_count": 42,
   "id": "6f740a3f",
   "metadata": {},
   "outputs": [
    {
     "data": {
      "text/plain": [
       "<AxesSubplot:xlabel='threat', ylabel='count'>"
      ]
     },
     "execution_count": 42,
     "metadata": {},
     "output_type": "execute_result"
    },
    {
     "data": {
      "image/png": "[encoded data removed]",
      "text/plain": [
       "<Figure size 432x288 with 1 Axes>"
      ]
     },
     "metadata": {
      "needs_background": "light"
     },
     "output_type": "display_data"
    }
   ],
   "source": [
    "sns.countplot(df['threat'])"
   ]
  },
  {
   "cell_type": "code",
   "execution_count": 43,
   "id": "25fe8685",
   "metadata": {},
   "outputs": [
    {
     "data": {
      "text/plain": [
       "<AxesSubplot:xlabel='abuse', ylabel='count'>"
      ]
     },
     "execution_count": 43,
     "metadata": {},
     "output_type": "execute_result"
    },
    {
     "data": {
      "image/png": "[encoded data removed]",
      "text/plain": [
       "<Figure size 432x288 with 1 Axes>"
      ]
     },
     "metadata": {
      "needs_background": "light"
     },
     "output_type": "display_data"
    }
   ],
   "source": [
    "sns.countplot(df['abuse'])"
   ]
  },
  {
   "cell_type": "code",
   "execution_count": 44,
   "id": "0e5b8c83",
   "metadata": {},
   "outputs": [
    {
     "data": {
      "text/plain": [
       "<AxesSubplot:xlabel='loathe', ylabel='count'>"
      ]
     },
     "execution_count": 44,
     "metadata": {},
     "output_type": "execute_result"
    },
    {
     "data": {
      "image/png": "[encoded data removed]",
      "text/plain": [
       "<Figure size 432x288 with 1 Axes>"
      ]
     },
     "metadata": {
      "needs_background": "light"
     },
     "output_type": "display_data"
    }
   ],
   "source": [
    "sns.countplot(df['loathe'])"
   ]
  },
  {
   "cell_type": "markdown",
   "id": "98426358",
   "metadata": {},
   "source": [
    "## GRAPHICAL BIVARIATE ANALYSIS "
   ]
  },
  {
   "cell_type": "code",
   "execution_count": 46,
   "id": "886b0ae7",
   "metadata": {},
   "outputs": [
    {
     "data": {
      "text/plain": [
       "Index(['id', 'comment_text', 'malignant', 'highly_malignant', 'rude', 'threat',\n",
       "       'abuse', 'loathe'],\n",
       "      dtype='object')"
      ]
     },
     "execution_count": 46,
     "metadata": {},
     "output_type": "execute_result"
    }
   ],
   "source": [
    "df.columns"
   ]
  },
  {
   "cell_type": "code",
   "execution_count": 45,
   "id": "ba1565a9",
   "metadata": {},
   "outputs": [
    {
     "data": {
      "text/plain": [
       "<AxesSubplot:xlabel='threat', ylabel='count'>"
      ]
     },
     "execution_count": 45,
     "metadata": {},
     "output_type": "execute_result"
    },
    {
     "data": {
      "image/png": "[encoded data removed]",
      "text/plain": [
       "<Figure size 432x288 with 1 Axes>"
      ]
     },
     "metadata": {
      "needs_background": "light"
     },
     "output_type": "display_data"
    }
   ],
   "source": [
    "sns.countplot(data=df,x='threat',hue='rude')"
   ]
  },
  {
   "cell_type": "code",
   "execution_count": 47,
   "id": "98fb895f",
   "metadata": {},
   "outputs": [
    {
     "data": {
      "text/plain": [
       "<AxesSubplot:xlabel='threat', ylabel='count'>"
      ]
     },
     "execution_count": 47,
     "metadata": {},
     "output_type": "execute_result"
    },
    {
     "data": {
      "image/png": "[encoded data removed]",
      "text/plain": [
       "<Figure size 432x288 with 1 Axes>"
      ]
     },
     "metadata": {
      "needs_background": "light"
     },
     "output_type": "display_data"
    }
   ],
   "source": [
    "sns.countplot(data=df,x='threat',hue='malignant')"
   ]
  },
  {
   "cell_type": "code",
   "execution_count": 48,
   "id": "c321d427",
   "metadata": {},
   "outputs": [
    {
     "data": {
      "text/plain": [
       "<AxesSubplot:xlabel='threat', ylabel='count'>"
      ]
     },
     "execution_count": 48,
     "metadata": {},
     "output_type": "execute_result"
    },
    {
     "data": {
      "image/png": "[encoded data removed]",
      "text/plain": [
       "<Figure size 432x288 with 1 Axes>"
      ]
     },
     "metadata": {
      "needs_background": "light"
     },
     "output_type": "display_data"
    }
   ],
   "source": [
    "sns.countplot(data=df,x='threat',hue='highly_malignant')"
   ]
  },
  {
   "cell_type": "code",
   "execution_count": 49,
   "id": "afe0bfb1",
   "metadata": {},
   "outputs": [
    {
     "data": {
      "text/plain": [
       "<AxesSubplot:xlabel='threat', ylabel='count'>"
      ]
     },
     "execution_count": 49,
     "metadata": {},
     "output_type": "execute_result"
    },
    {
     "data": {
      "image/png": "[encoded data removed]",
      "text/plain": [
       "<Figure size 432x288 with 1 Axes>"
      ]
     },
     "metadata": {
      "needs_background": "light"
     },
     "output_type": "display_data"
    }
   ],
   "source": [
    "sns.countplot(data=df,x='threat',hue='abuse')"
   ]
  },
  {
   "cell_type": "code",
   "execution_count": 50,
   "id": "a7fcea1d",
   "metadata": {},
   "outputs": [
    {
     "data": {
      "text/plain": [
       "<AxesSubplot:xlabel='threat', ylabel='count'>"
      ]
     },
     "execution_count": 50,
     "metadata": {},
     "output_type": "execute_result"
    },
    {
     "data": {
      "image/png": "[encoded data removed]",
      "text/plain": [
       "<Figure size 432x288 with 1 Axes>"
      ]
     },
     "metadata": {
      "needs_background": "light"
     },
     "output_type": "display_data"
    }
   ],
   "source": [
    "sns.countplot(data=df,x='threat',hue='loathe')"
   ]
  },
  {
   "cell_type": "code",
   "execution_count": 51,
   "id": "45c99478",
   "metadata": {},
   "outputs": [
    {
     "data": {
      "text/plain": [
       "<AxesSubplot:xlabel='malignant', ylabel='count'>"
      ]
     },
     "execution_count": 51,
     "metadata": {},
     "output_type": "execute_result"
    },
    {
     "data": {
      "image/png": "[encoded data removed]",
      "text/plain": [
       "<Figure size 432x288 with 1 Axes>"
      ]
     },
     "metadata": {
      "needs_background": "light"
     },
     "output_type": "display_data"
    }
   ],
   "source": [
    "sns.countplot(data=df,x='malignant',hue='loathe')"
   ]
  },
  {
   "cell_type": "code",
   "execution_count": 52,
   "id": "233507c4",
   "metadata": {},
   "outputs": [
    {
     "data": {
      "text/plain": [
       "<AxesSubplot:xlabel='malignant', ylabel='count'>"
      ]
     },
     "execution_count": 52,
     "metadata": {},
     "output_type": "execute_result"
    },
    {
     "data": {
      "image/png": "[encoded data removed]",
      "text/plain": [
       "<Figure size 432x288 with 1 Axes>"
      ]
     },
     "metadata": {
      "needs_background": "light"
     },
     "output_type": "display_data"
    }
   ],
   "source": [
    "sns.countplot(data=df,x='malignant',hue='highly_malignant')"
   ]
  },
  {
   "cell_type": "code",
   "execution_count": 54,
   "id": "8a11a6d4",
   "metadata": {},
   "outputs": [
    {
     "data": {
      "text/plain": [
       "<AxesSubplot:xlabel='malignant', ylabel='count'>"
      ]
     },
     "execution_count": 54,
     "metadata": {},
     "output_type": "execute_result"
    },
    {
     "data": {
      "image/png": "[encoded data removed]",
      "text/plain": [
       "<Figure size 432x288 with 1 Axes>"
      ]
     },
     "metadata": {
      "needs_background": "light"
     },
     "output_type": "display_data"
    }
   ],
   "source": [
    "sns.countplot(data=df,x='malignant',hue='abuse')"
   ]
  },
  {
   "cell_type": "code",
   "execution_count": 55,
   "id": "76f5bdd6",
   "metadata": {},
   "outputs": [
    {
     "data": {
      "text/plain": [
       "<AxesSubplot:xlabel='malignant', ylabel='count'>"
      ]
     },
     "execution_count": 55,
     "metadata": {},
     "output_type": "execute_result"
    },
    {
     "data": {
      "image/png": "[encoded data removed]",
      "text/plain": [
       "<Figure size 432x288 with 1 Axes>"
      ]
     },
     "metadata": {
      "needs_background": "light"
     },
     "output_type": "display_data"
    }
   ],
   "source": [
    "sns.countplot(data=df,x='malignant',hue='rude')"
   ]
  },
  {
   "cell_type": "code",
   "execution_count": 56,
   "id": "78a14e89",
   "metadata": {},
   "outputs": [
    {
     "data": {
      "text/plain": [
       "<AxesSubplot:xlabel='highly_malignant', ylabel='count'>"
      ]
     },
     "execution_count": 56,
     "metadata": {},
     "output_type": "execute_result"
    },
    {
     "data": {
      "image/png": "[encoded data removed]",
      "text/plain": [
       "<Figure size 432x288 with 1 Axes>"
      ]
     },
     "metadata": {
      "needs_background": "light"
     },
     "output_type": "display_data"
    }
   ],
   "source": [
    "sns.countplot(data=df,x='highly_malignant',hue='rude')"
   ]
  },
  {
   "cell_type": "code",
   "execution_count": 57,
   "id": "f38f593f",
   "metadata": {},
   "outputs": [
    {
     "data": {
      "text/plain": [
       "<AxesSubplot:xlabel='highly_malignant', ylabel='count'>"
      ]
     },
     "execution_count": 57,
     "metadata": {},
     "output_type": "execute_result"
    },
    {
     "data": {
      "image/png": "[encoded data removed]",
      "text/plain": [
       "<Figure size 432x288 with 1 Axes>"
      ]
     },
     "metadata": {
      "needs_background": "light"
     },
     "output_type": "display_data"
    }
   ],
   "source": [
    "sns.countplot(data=df,x='highly_malignant',hue='abuse')"
   ]
  },
  {
   "cell_type": "code",
   "execution_count": 58,
   "id": "2b18c334",
   "metadata": {},
   "outputs": [
    {
     "data": {
      "text/plain": [
       "<AxesSubplot:xlabel='highly_malignant', ylabel='count'>"
      ]
     },
     "execution_count": 58,
     "metadata": {},
     "output_type": "execute_result"
    },
    {
     "data": {
      "image/png": "[encoded data removed]",
      "text/plain": [
       "<Figure size 432x288 with 1 Axes>"
      ]
     },
     "metadata": {
      "needs_background": "light"
     },
     "output_type": "display_data"
    }
   ],
   "source": [
    "sns.countplot(data=df,x='highly_malignant',hue='loathe')"
   ]
  },
  {
   "cell_type": "code",
   "execution_count": 59,
   "id": "61b0f857",
   "metadata": {},
   "outputs": [
    {
     "data": {
      "text/plain": [
       "<AxesSubplot:xlabel='rude', ylabel='count'>"
      ]
     },
     "execution_count": 59,
     "metadata": {},
     "output_type": "execute_result"
    },
    {
     "data": {
      "image/png": "[encoded data removed]",
      "text/plain": [
       "<Figure size 432x288 with 1 Axes>"
      ]
     },
     "metadata": {
      "needs_background": "light"
     },
     "output_type": "display_data"
    }
   ],
   "source": [
    "sns.countplot(data=df,x='rude',hue='loathe')"
   ]
  },
  {
   "cell_type": "code",
   "execution_count": 60,
   "id": "40604be2",
   "metadata": {},
   "outputs": [
    {
     "data": {
      "text/plain": [
       "<AxesSubplot:xlabel='rude', ylabel='count'>"
      ]
     },
     "execution_count": 60,
     "metadata": {},
     "output_type": "execute_result"
    },
    {
     "data": {
      "image/png": "[encoded data removed]",
      "text/plain": [
       "<Figure size 432x288 with 1 Axes>"
      ]
     },
     "metadata": {
      "needs_background": "light"
     },
     "output_type": "display_data"
    }
   ],
   "source": [
    "sns.countplot(data=df,x='rude',hue='abuse')"
   ]
  },
  {
   "cell_type": "code",
   "execution_count": 61,
   "id": "bb68df2e",
   "metadata": {},
   "outputs": [
    {
     "data": {
      "text/plain": [
       "<AxesSubplot:xlabel='loathe', ylabel='count'>"
      ]
     },
     "execution_count": 61,
     "metadata": {},
     "output_type": "execute_result"
    },
    {
     "data": {
      "image/png": "[encoded data removed]",
      "text/plain": [
       "<Figure size 432x288 with 1 Axes>"
      ]
     },
     "metadata": {
      "needs_background": "light"
     },
     "output_type": "display_data"
    }
   ],
   "source": [
    "sns.countplot(data=df,x='loathe',hue='abuse')"
   ]
  },
  {
   "cell_type": "markdown",
   "id": "297a565f",
   "metadata": {},
   "source": [
    "## CORELATION CHECK "
   ]
  },
  {
   "cell_type": "code",
   "execution_count": 32,
   "id": "ccde89aa",
   "metadata": {},
   "outputs": [
    {
     "data": {
      "text/html": [
       "<div>\n",
       "<style scoped>\n",
       "    .dataframe tbody tr th:only-of-type {\n",
       "        vertical-align: middle;\n",
       "    }\n",
       "\n",
       "    .dataframe tbody tr th {\n",
       "        vertical-align: top;\n",
       "    }\n",
       "\n",
       "    .dataframe thead th {\n",
       "        text-align: right;\n",
       "    }\n",
       "</style>\n",
       "<table border=\"1\" class=\"dataframe\">\n",
       "  <thead>\n",
       "    <tr style=\"text-align: right;\">\n",
       "      <th></th>\n",
       "      <th>malignant</th>\n",
       "      <th>highly_malignant</th>\n",
       "      <th>rude</th>\n",
       "      <th>threat</th>\n",
       "      <th>abuse</th>\n",
       "      <th>loathe</th>\n",
       "    </tr>\n",
       "  </thead>\n",
       "  <tbody>\n",
       "    <tr>\n",
       "      <th>malignant</th>\n",
       "      <td>1.000000</td>\n",
       "      <td>0.308619</td>\n",
       "      <td>0.676515</td>\n",
       "      <td>0.157058</td>\n",
       "      <td>0.647518</td>\n",
       "      <td>0.266009</td>\n",
       "    </tr>\n",
       "    <tr>\n",
       "      <th>highly_malignant</th>\n",
       "      <td>0.308619</td>\n",
       "      <td>1.000000</td>\n",
       "      <td>0.403014</td>\n",
       "      <td>0.123601</td>\n",
       "      <td>0.375807</td>\n",
       "      <td>0.201600</td>\n",
       "    </tr>\n",
       "    <tr>\n",
       "      <th>rude</th>\n",
       "      <td>0.676515</td>\n",
       "      <td>0.403014</td>\n",
       "      <td>1.000000</td>\n",
       "      <td>0.141179</td>\n",
       "      <td>0.741272</td>\n",
       "      <td>0.286867</td>\n",
       "    </tr>\n",
       "    <tr>\n",
       "      <th>threat</th>\n",
       "      <td>0.157058</td>\n",
       "      <td>0.123601</td>\n",
       "      <td>0.141179</td>\n",
       "      <td>1.000000</td>\n",
       "      <td>0.150022</td>\n",
       "      <td>0.115128</td>\n",
       "    </tr>\n",
       "    <tr>\n",
       "      <th>abuse</th>\n",
       "      <td>0.647518</td>\n",
       "      <td>0.375807</td>\n",
       "      <td>0.741272</td>\n",
       "      <td>0.150022</td>\n",
       "      <td>1.000000</td>\n",
       "      <td>0.337736</td>\n",
       "    </tr>\n",
       "    <tr>\n",
       "      <th>loathe</th>\n",
       "      <td>0.266009</td>\n",
       "      <td>0.201600</td>\n",
       "      <td>0.286867</td>\n",
       "      <td>0.115128</td>\n",
       "      <td>0.337736</td>\n",
       "      <td>1.000000</td>\n",
       "    </tr>\n",
       "  </tbody>\n",
       "</table>\n",
       "</div>"
      ],
      "text/plain": [
       "                  malignant  highly_malignant      rude    threat     abuse  \\\n",
       "malignant          1.000000          0.308619  0.676515  0.157058  0.647518   \n",
       "highly_malignant   0.308619          1.000000  0.403014  0.123601  0.375807   \n",
       "rude               0.676515          0.403014  1.000000  0.141179  0.741272   \n",
       "threat             0.157058          0.123601  0.141179  1.000000  0.150022   \n",
       "abuse              0.647518          0.375807  0.741272  0.150022  1.000000   \n",
       "loathe             0.266009          0.201600  0.286867  0.115128  0.337736   \n",
       "\n",
       "                    loathe  \n",
       "malignant         0.266009  \n",
       "highly_malignant  0.201600  \n",
       "rude              0.286867  \n",
       "threat            0.115128  \n",
       "abuse             0.337736  \n",
       "loathe            1.000000  "
      ]
     },
     "execution_count": 32,
     "metadata": {},
     "output_type": "execute_result"
    }
   ],
   "source": [
    "df.corr()"
   ]
  },
  {
   "cell_type": "code",
   "execution_count": 38,
   "id": "355d8083",
   "metadata": {},
   "outputs": [
    {
     "data": {
      "text/plain": [
       "<AxesSubplot:>"
      ]
     },
     "execution_count": 38,
     "metadata": {},
     "output_type": "execute_result"
    },
    {
     "data": {
      "image/png": "[encoded data removed]",
      "text/plain": [
       "<Figure size 864x432 with 2 Axes>"
      ]
     },
     "metadata": {
      "needs_background": "light"
     },
     "output_type": "display_data"
    }
   ],
   "source": [
    "plt.figure(figsize=(12,6))\n",
    "sns.heatmap(df.corr())"
   ]
  },
  {
   "cell_type": "markdown",
   "id": "1a616449",
   "metadata": {},
   "source": [
    "### MODERATE TO LOW CORRELATION (BOTH POSITIVE & NEGATIVE)"
   ]
  },
  {
   "cell_type": "markdown",
   "id": "ca35e14c",
   "metadata": {},
   "source": [
    "## SKEWNESS CHECK "
   ]
  },
  {
   "cell_type": "code",
   "execution_count": 30,
   "id": "e1eea616",
   "metadata": {},
   "outputs": [
    {
     "data": {
      "text/plain": [
       "malignant            2.745854\n",
       "highly_malignant     9.851722\n",
       "rude                 3.992817\n",
       "threat              18.189001\n",
       "abuse                4.160540\n",
       "loathe              10.515923\n",
       "dtype: float64"
      ]
     },
     "execution_count": 30,
     "metadata": {},
     "output_type": "execute_result"
    }
   ],
   "source": [
    "df.skew()"
   ]
  },
  {
   "cell_type": "markdown",
   "id": "f21ff40b",
   "metadata": {},
   "source": [
    "## REPLACING EMAIL ADDRESSES WITH EMAIL"
   ]
  },
  {
   "cell_type": "code",
   "execution_count": 62,
   "id": "025eb508",
   "metadata": {},
   "outputs": [],
   "source": [
    "df['comment_text'] = df['comment_text'].str.replace(r'^.+@[^\\.].*\\.[a-z]{2,}$','emailaddress')"
   ]
  },
  {
   "cell_type": "markdown",
   "id": "d18a9a1a",
   "metadata": {},
   "source": [
    "## REPLACING URL'S WITH WEBADDRESS"
   ]
  },
  {
   "cell_type": "code",
   "execution_count": 63,
   "id": "d3aa957e",
   "metadata": {},
   "outputs": [],
   "source": [
    "df['comment_text'] = df['comment_text'].str.replace(r'^http\\://[a-zA-Z0-9\\-\\.]+\\.[a-zA-Z]{2,3}(/\\S*)?$','webaddress')"
   ]
  },
  {
   "cell_type": "markdown",
   "id": "3a966032",
   "metadata": {},
   "source": [
    "## REPLACING MONEY SYMBOLS WITH 'CURRENCY'"
   ]
  },
  {
   "cell_type": "code",
   "execution_count": 64,
   "id": "11762460",
   "metadata": {},
   "outputs": [],
   "source": [
    "df['comment_text'] = df['comment_text'].str.replace(r'£|\\$', 'Currency')"
   ]
  },
  {
   "cell_type": "markdown",
   "id": "57f3c6b3",
   "metadata": {},
   "source": [
    "# REPLACING 10 DIGIT PHONE NUMBERS WITH 'PHONE NUMBER'"
   ]
  },
  {
   "cell_type": "code",
   "execution_count": 67,
   "id": "3d4c01dd",
   "metadata": {},
   "outputs": [],
   "source": [
    "df['comment_text'] =df['comment_text'].str.replace(r'^\\(?[\\d]{3}\\)?[\\s-]?[\\d]{3}[\\s-]?[\\d]{4}$','Phonenumber')"
   ]
  },
  {
   "cell_type": "markdown",
   "id": "6d859d85",
   "metadata": {},
   "source": [
    "## REPLACING NUMBERS WITH 'NUMBERS'"
   ]
  },
  {
   "cell_type": "code",
   "execution_count": 66,
   "id": "26632dea",
   "metadata": {},
   "outputs": [],
   "source": [
    "df['comment_text'] = df['comment_text'].str.replace(r'\\d+(\\.\\d+)?', 'Numbers')"
   ]
  },
  {
   "cell_type": "markdown",
   "id": "638bca0e",
   "metadata": {},
   "source": [
    "## REMOVING PUNCTUATION "
   ]
  },
  {
   "cell_type": "code",
   "execution_count": 68,
   "id": "49fffba0",
   "metadata": {},
   "outputs": [],
   "source": [
    "df['comment_text'] = df['comment_text'].str.replace(r'[^\\w\\d\\s]', ' ')"
   ]
  },
  {
   "cell_type": "markdown",
   "id": "26943539",
   "metadata": {},
   "source": [
    "## REPLACING WHITESPACE BETWEEN TERMS WITH SIGNLE SPACE"
   ]
  },
  {
   "cell_type": "code",
   "execution_count": 69,
   "id": "6bf64131",
   "metadata": {},
   "outputs": [],
   "source": [
    "df['comment_text'] = df['comment_text'].str.replace(r'\\s+', ' ')"
   ]
  },
  {
   "cell_type": "markdown",
   "id": "c656f742",
   "metadata": {},
   "source": [
    "## REMOVING LEADING AND TRAILING WHITESPACE"
   ]
  },
  {
   "cell_type": "code",
   "execution_count": 70,
   "id": "e12b81de",
   "metadata": {},
   "outputs": [],
   "source": [
    "df['comment_text'] =df['comment_text'].str.replace(r'^\\s+|\\s+?$', '')"
   ]
  },
  {
   "cell_type": "code",
   "execution_count": 79,
   "id": "6c9f8979",
   "metadata": {},
   "outputs": [],
   "source": [
    "import nltk\n",
    "import string\n",
    "from nltk.corpus import stopwords\n",
    "from nltk.tokenize import word_tokenize\n",
    "import nltk\n",
    "from nltk.stem import PorterStemmer,WordNetLemmatizer\n",
    "from sklearn.feature_extraction.text import TfidfVectorizer\n",
    "from wordcloud import WordCloud"
   ]
  },
  {
   "cell_type": "code",
   "execution_count": 84,
   "id": "73981fb9",
   "metadata": {},
   "outputs": [
    {
     "name": "stdout",
     "output_type": "stream",
     "text": [
      "Requirement already satisfied: nltk in ./opt/anaconda3/lib/python3.9/site-packages (3.7)\n",
      "Requirement already satisfied: tqdm in ./opt/anaconda3/lib/python3.9/site-packages (from nltk) (4.64.0)\n",
      "Requirement already satisfied: click in ./opt/anaconda3/lib/python3.9/site-packages (from nltk) (8.0.4)\n",
      "Requirement already satisfied: regex>=2021.8.3 in ./opt/anaconda3/lib/python3.9/site-packages (from nltk) (2022.3.15)\n",
      "Requirement already satisfied: joblib in ./opt/anaconda3/lib/python3.9/site-packages (from nltk) (1.1.0)\n",
      "Note: you may need to restart the kernel to use updated packages.\n"
     ]
    }
   ],
   "source": [
    "pip install nltk"
   ]
  },
  {
   "cell_type": "code",
   "execution_count": 85,
   "id": "3dab4f97",
   "metadata": {},
   "outputs": [],
   "source": [
    "import nltk"
   ]
  },
  {
   "cell_type": "code",
   "execution_count": 86,
   "id": "1c91ce83",
   "metadata": {},
   "outputs": [
    {
     "name": "stderr",
     "output_type": "stream",
     "text": [
      "[nltk_data] Downloading collection 'all'\n",
      "[nltk_data]    | \n",
      "[nltk_data]    | Downloading package abc to\n",
      "[nltk_data]    |     /Users/natashapoddar/nltk_data...\n",
      "[nltk_data]    |   Unzipping corpora/abc.zip.\n",
      "[nltk_data]    | Downloading package alpino to\n",
      "[nltk_data]    |     /Users/natashapoddar/nltk_data...\n",
      "[nltk_data]    |   Unzipping corpora/alpino.zip.\n",
      "[nltk_data]    | Downloading package averaged_perceptron_tagger to\n",
      "[nltk_data]    |     /Users/natashapoddar/nltk_data...\n",
      "[nltk_data]    |   Unzipping taggers/averaged_perceptron_tagger.zip.\n",
      "[nltk_data]    | Downloading package averaged_perceptron_tagger_ru to\n",
      "[nltk_data]    |     /Users/natashapoddar/nltk_data...\n",
      "[nltk_data]    |   Unzipping\n",
      "[nltk_data]    |       taggers/averaged_perceptron_tagger_ru.zip.\n",
      "[nltk_data]    | Downloading package basque_grammars to\n",
      "[nltk_data]    |     /Users/natashapoddar/nltk_data...\n",
      "[nltk_data]    |   Unzipping grammars/basque_grammars.zip.\n",
      "[nltk_data]    | Downloading package biocreative_ppi to\n",
      "[nltk_data]    |     /Users/natashapoddar/nltk_data...\n",
      "[nltk_data]    |   Unzipping corpora/biocreative_ppi.zip.\n",
      "[nltk_data]    | Downloading package bllip_wsj_no_aux to\n",
      "[nltk_data]    |     /Users/natashapoddar/nltk_data...\n",
      "[nltk_data]    |   Unzipping models/bllip_wsj_no_aux.zip.\n",
      "[nltk_data]    | Downloading package book_grammars to\n",
      "[nltk_data]    |     /Users/natashapoddar/nltk_data...\n",
      "[nltk_data]    |   Unzipping grammars/book_grammars.zip.\n",
      "[nltk_data]    | Downloading package brown to\n",
      "[nltk_data]    |     /Users/natashapoddar/nltk_data...\n",
      "[nltk_data]    |   Unzipping corpora/brown.zip.\n",
      "[nltk_data]    | Downloading package brown_tei to\n",
      "[nltk_data]    |     /Users/natashapoddar/nltk_data...\n",
      "[nltk_data]    |   Unzipping corpora/brown_tei.zip.\n",
      "[nltk_data]    | Downloading package cess_cat to\n",
      "[nltk_data]    |     /Users/natashapoddar/nltk_data...\n",
      "[nltk_data]    |   Unzipping corpora/cess_cat.zip.\n",
      "[nltk_data]    | Downloading package cess_esp to\n",
      "[nltk_data]    |     /Users/natashapoddar/nltk_data...\n",
      "[nltk_data]    |   Unzipping corpora/cess_esp.zip.\n",
      "[nltk_data]    | Downloading package chat80 to\n",
      "[nltk_data]    |     /Users/natashapoddar/nltk_data...\n",
      "[nltk_data]    |   Unzipping corpora/chat80.zip.\n",
      "[nltk_data]    | Downloading package city_database to\n",
      "[nltk_data]    |     /Users/natashapoddar/nltk_data...\n",
      "[nltk_data]    |   Unzipping corpora/city_database.zip.\n",
      "[nltk_data]    | Downloading package cmudict to\n",
      "[nltk_data]    |     /Users/natashapoddar/nltk_data...\n",
      "[nltk_data]    |   Unzipping corpora/cmudict.zip.\n",
      "[nltk_data]    | Downloading package comparative_sentences to\n",
      "[nltk_data]    |     /Users/natashapoddar/nltk_data...\n",
      "[nltk_data]    |   Unzipping corpora/comparative_sentences.zip.\n",
      "[nltk_data]    | Downloading package comtrans to\n",
      "[nltk_data]    |     /Users/natashapoddar/nltk_data...\n",
      "[nltk_data]    | Downloading package conll2000 to\n",
      "[nltk_data]    |     /Users/natashapoddar/nltk_data...\n",
      "[nltk_data]    |   Unzipping corpora/conll2000.zip.\n",
      "[nltk_data]    | Downloading package conll2002 to\n",
      "[nltk_data]    |     /Users/natashapoddar/nltk_data...\n",
      "[nltk_data]    |   Unzipping corpora/conll2002.zip.\n",
      "[nltk_data]    | Downloading package conll2007 to\n",
      "[nltk_data]    |     /Users/natashapoddar/nltk_data...\n",
      "[nltk_data]    | Downloading package crubadan to\n",
      "[nltk_data]    |     /Users/natashapoddar/nltk_data...\n",
      "[nltk_data]    |   Unzipping corpora/crubadan.zip.\n",
      "[nltk_data]    | Downloading package dependency_treebank to\n",
      "[nltk_data]    |     /Users/natashapoddar/nltk_data...\n",
      "[nltk_data]    |   Unzipping corpora/dependency_treebank.zip.\n",
      "[nltk_data]    | Downloading package dolch to\n",
      "[nltk_data]    |     /Users/natashapoddar/nltk_data...\n",
      "[nltk_data]    |   Unzipping corpora/dolch.zip.\n",
      "[nltk_data]    | Downloading package europarl_raw to\n",
      "[nltk_data]    |     /Users/natashapoddar/nltk_data...\n",
      "[nltk_data]    |   Unzipping corpora/europarl_raw.zip.\n",
      "[nltk_data]    | Downloading package extended_omw to\n",
      "[nltk_data]    |     /Users/natashapoddar/nltk_data...\n",
      "[nltk_data]    | Downloading package floresta to\n",
      "[nltk_data]    |     /Users/natashapoddar/nltk_data...\n",
      "[nltk_data]    |   Unzipping corpora/floresta.zip.\n",
      "[nltk_data]    | Downloading package framenet_v15 to\n",
      "[nltk_data]    |     /Users/natashapoddar/nltk_data...\n",
      "[nltk_data]    |   Unzipping corpora/framenet_v15.zip.\n",
      "[nltk_data]    | Downloading package framenet_v17 to\n",
      "[nltk_data]    |     /Users/natashapoddar/nltk_data...\n",
      "[nltk_data]    |   Unzipping corpora/framenet_v17.zip.\n",
      "[nltk_data]    | Downloading package gazetteers to\n",
      "[nltk_data]    |     /Users/natashapoddar/nltk_data...\n",
      "[nltk_data]    |   Unzipping corpora/gazetteers.zip.\n",
      "[nltk_data]    | Downloading package genesis to\n",
      "[nltk_data]    |     /Users/natashapoddar/nltk_data...\n",
      "[nltk_data]    |   Unzipping corpora/genesis.zip.\n",
      "[nltk_data]    | Downloading package gutenberg to\n",
      "[nltk_data]    |     /Users/natashapoddar/nltk_data...\n",
      "[nltk_data]    |   Unzipping corpora/gutenberg.zip.\n",
      "[nltk_data]    | Downloading package ieer to\n",
      "[nltk_data]    |     /Users/natashapoddar/nltk_data...\n",
      "[nltk_data]    |   Unzipping corpora/ieer.zip.\n",
      "[nltk_data]    | Downloading package inaugural to\n",
      "[nltk_data]    |     /Users/natashapoddar/nltk_data...\n",
      "[nltk_data]    |   Unzipping corpora/inaugural.zip.\n",
      "[nltk_data]    | Downloading package indian to\n",
      "[nltk_data]    |     /Users/natashapoddar/nltk_data...\n",
      "[nltk_data]    |   Unzipping corpora/indian.zip.\n",
      "[nltk_data]    | Downloading package jeita to\n",
      "[nltk_data]    |     /Users/natashapoddar/nltk_data...\n",
      "[nltk_data]    | Downloading package kimmo to\n",
      "[nltk_data]    |     /Users/natashapoddar/nltk_data...\n",
      "[nltk_data]    |   Unzipping corpora/kimmo.zip.\n",
      "[nltk_data]    | Downloading package knbc to\n",
      "[nltk_data]    |     /Users/natashapoddar/nltk_data...\n",
      "[nltk_data]    | Downloading package large_grammars to\n",
      "[nltk_data]    |     /Users/natashapoddar/nltk_data...\n",
      "[nltk_data]    |   Unzipping grammars/large_grammars.zip.\n",
      "[nltk_data]    | Downloading package lin_thesaurus to\n",
      "[nltk_data]    |     /Users/natashapoddar/nltk_data...\n",
      "[nltk_data]    |   Unzipping corpora/lin_thesaurus.zip.\n",
      "[nltk_data]    | Downloading package mac_morpho to\n",
      "[nltk_data]    |     /Users/natashapoddar/nltk_data...\n",
      "[nltk_data]    |   Unzipping corpora/mac_morpho.zip.\n",
      "[nltk_data]    | Downloading package machado to\n",
      "[nltk_data]    |     /Users/natashapoddar/nltk_data...\n",
      "[nltk_data]    | Downloading package masc_tagged to\n",
      "[nltk_data]    |     /Users/natashapoddar/nltk_data...\n",
      "[nltk_data]    | Downloading package maxent_ne_chunker to\n",
      "[nltk_data]    |     /Users/natashapoddar/nltk_data...\n",
      "[nltk_data]    |   Unzipping chunkers/maxent_ne_chunker.zip.\n",
      "[nltk_data]    | Downloading package maxent_treebank_pos_tagger to\n",
      "[nltk_data]    |     /Users/natashapoddar/nltk_data...\n",
      "[nltk_data]    |   Unzipping taggers/maxent_treebank_pos_tagger.zip.\n",
      "[nltk_data]    | Downloading package moses_sample to\n",
      "[nltk_data]    |     /Users/natashapoddar/nltk_data...\n",
      "[nltk_data]    |   Unzipping models/moses_sample.zip.\n",
      "[nltk_data]    | Downloading package movie_reviews to\n",
      "[nltk_data]    |     /Users/natashapoddar/nltk_data...\n",
      "[nltk_data]    |   Unzipping corpora/movie_reviews.zip.\n",
      "[nltk_data]    | Downloading package mte_teip5 to\n",
      "[nltk_data]    |     /Users/natashapoddar/nltk_data...\n",
      "[nltk_data]    |   Unzipping corpora/mte_teip5.zip.\n",
      "[nltk_data]    | Downloading package mwa_ppdb to\n",
      "[nltk_data]    |     /Users/natashapoddar/nltk_data...\n",
      "[nltk_data]    |   Unzipping misc/mwa_ppdb.zip.\n",
      "[nltk_data]    | Downloading package names to\n",
      "[nltk_data]    |     /Users/natashapoddar/nltk_data...\n",
      "[nltk_data]    |   Unzipping corpora/names.zip.\n",
      "[nltk_data]    | Downloading package nombank.1.0 to\n",
      "[nltk_data]    |     /Users/natashapoddar/nltk_data...\n",
      "[nltk_data]    | Downloading package nonbreaking_prefixes to\n",
      "[nltk_data]    |     /Users/natashapoddar/nltk_data...\n",
      "[nltk_data]    |   Unzipping corpora/nonbreaking_prefixes.zip.\n",
      "[nltk_data]    | Downloading package nps_chat to\n",
      "[nltk_data]    |     /Users/natashapoddar/nltk_data...\n",
      "[nltk_data]    |   Unzipping corpora/nps_chat.zip.\n",
      "[nltk_data]    | Downloading package omw to\n",
      "[nltk_data]    |     /Users/natashapoddar/nltk_data...\n",
      "[nltk_data]    | Downloading package omw-1.4 to\n",
      "[nltk_data]    |     /Users/natashapoddar/nltk_data...\n",
      "[nltk_data]    | Downloading package opinion_lexicon to\n",
      "[nltk_data]    |     /Users/natashapoddar/nltk_data...\n",
      "[nltk_data]    |   Unzipping corpora/opinion_lexicon.zip.\n",
      "[nltk_data]    | Downloading package panlex_swadesh to\n",
      "[nltk_data]    |     /Users/natashapoddar/nltk_data...\n",
      "[nltk_data]    | Downloading package paradigms to\n",
      "[nltk_data]    |     /Users/natashapoddar/nltk_data...\n",
      "[nltk_data]    |   Unzipping corpora/paradigms.zip.\n",
      "[nltk_data]    | Downloading package pe08 to\n",
      "[nltk_data]    |     /Users/natashapoddar/nltk_data...\n",
      "[nltk_data]    |   Unzipping corpora/pe08.zip.\n",
      "[nltk_data]    | Downloading package perluniprops to\n",
      "[nltk_data]    |     /Users/natashapoddar/nltk_data...\n",
      "[nltk_data]    |   Unzipping misc/perluniprops.zip.\n",
      "[nltk_data]    | Downloading package pil to\n",
      "[nltk_data]    |     /Users/natashapoddar/nltk_data...\n",
      "[nltk_data]    |   Unzipping corpora/pil.zip.\n",
      "[nltk_data]    | Downloading package pl196x to\n",
      "[nltk_data]    |     /Users/natashapoddar/nltk_data...\n",
      "[nltk_data]    |   Unzipping corpora/pl196x.zip.\n",
      "[nltk_data]    | Downloading package porter_test to\n",
      "[nltk_data]    |     /Users/natashapoddar/nltk_data...\n",
      "[nltk_data]    |   Unzipping stemmers/porter_test.zip.\n",
      "[nltk_data]    | Downloading package ppattach to\n",
      "[nltk_data]    |     /Users/natashapoddar/nltk_data...\n",
      "[nltk_data]    |   Unzipping corpora/ppattach.zip.\n",
      "[nltk_data]    | Downloading package problem_reports to\n",
      "[nltk_data]    |     /Users/natashapoddar/nltk_data...\n",
      "[nltk_data]    |   Unzipping corpora/problem_reports.zip.\n",
      "[nltk_data]    | Downloading package product_reviews_1 to\n",
      "[nltk_data]    |     /Users/natashapoddar/nltk_data...\n",
      "[nltk_data]    |   Unzipping corpora/product_reviews_1.zip.\n",
      "[nltk_data]    | Downloading package product_reviews_2 to\n",
      "[nltk_data]    |     /Users/natashapoddar/nltk_data...\n",
      "[nltk_data]    |   Unzipping corpora/product_reviews_2.zip.\n",
      "[nltk_data]    | Downloading package propbank to\n",
      "[nltk_data]    |     /Users/natashapoddar/nltk_data...\n",
      "[nltk_data]    | Downloading package pros_cons to\n",
      "[nltk_data]    |     /Users/natashapoddar/nltk_data...\n",
      "[nltk_data]    |   Unzipping corpora/pros_cons.zip.\n",
      "[nltk_data]    | Downloading package ptb to\n",
      "[nltk_data]    |     /Users/natashapoddar/nltk_data...\n",
      "[nltk_data]    |   Unzipping corpora/ptb.zip.\n",
      "[nltk_data]    | Downloading package punkt to\n",
      "[nltk_data]    |     /Users/natashapoddar/nltk_data...\n",
      "[nltk_data]    |   Unzipping tokenizers/punkt.zip.\n",
      "[nltk_data]    | Downloading package qc to\n",
      "[nltk_data]    |     /Users/natashapoddar/nltk_data...\n",
      "[nltk_data]    |   Unzipping corpora/qc.zip.\n",
      "[nltk_data]    | Downloading package reuters to\n",
      "[nltk_data]    |     /Users/natashapoddar/nltk_data...\n",
      "[nltk_data]    | Downloading package rslp to\n",
      "[nltk_data]    |     /Users/natashapoddar/nltk_data...\n",
      "[nltk_data]    |   Unzipping stemmers/rslp.zip.\n",
      "[nltk_data]    | Downloading package rte to\n",
      "[nltk_data]    |     /Users/natashapoddar/nltk_data...\n",
      "[nltk_data]    |   Unzipping corpora/rte.zip.\n",
      "[nltk_data]    | Downloading package sample_grammars to\n",
      "[nltk_data]    |     /Users/natashapoddar/nltk_data...\n",
      "[nltk_data]    |   Unzipping grammars/sample_grammars.zip.\n",
      "[nltk_data]    | Downloading package semcor to\n",
      "[nltk_data]    |     /Users/natashapoddar/nltk_data...\n",
      "[nltk_data]    | Downloading package senseval to\n",
      "[nltk_data]    |     /Users/natashapoddar/nltk_data...\n",
      "[nltk_data]    |   Unzipping corpora/senseval.zip.\n",
      "[nltk_data]    | Downloading package sentence_polarity to\n",
      "[nltk_data]    |     /Users/natashapoddar/nltk_data...\n",
      "[nltk_data]    |   Unzipping corpora/sentence_polarity.zip.\n",
      "[nltk_data]    | Downloading package sentiwordnet to\n",
      "[nltk_data]    |     /Users/natashapoddar/nltk_data...\n",
      "[nltk_data]    |   Unzipping corpora/sentiwordnet.zip.\n",
      "[nltk_data]    | Downloading package shakespeare to\n",
      "[nltk_data]    |     /Users/natashapoddar/nltk_data...\n",
      "[nltk_data]    |   Unzipping corpora/shakespeare.zip.\n",
      "[nltk_data]    | Downloading package sinica_treebank to\n",
      "[nltk_data]    |     /Users/natashapoddar/nltk_data...\n",
      "[nltk_data]    |   Unzipping corpora/sinica_treebank.zip.\n",
      "[nltk_data]    | Downloading package smultron to\n",
      "[nltk_data]    |     /Users/natashapoddar/nltk_data...\n",
      "[nltk_data]    |   Unzipping corpora/smultron.zip.\n",
      "[nltk_data]    | Downloading package snowball_data to\n",
      "[nltk_data]    |     /Users/natashapoddar/nltk_data...\n",
      "[nltk_data]    | Downloading package spanish_grammars to\n",
      "[nltk_data]    |     /Users/natashapoddar/nltk_data...\n",
      "[nltk_data]    |   Unzipping grammars/spanish_grammars.zip.\n",
      "[nltk_data]    | Downloading package state_union to\n",
      "[nltk_data]    |     /Users/natashapoddar/nltk_data...\n",
      "[nltk_data]    |   Unzipping corpora/state_union.zip.\n",
      "[nltk_data]    | Downloading package stopwords to\n",
      "[nltk_data]    |     /Users/natashapoddar/nltk_data...\n",
      "[nltk_data]    |   Unzipping corpora/stopwords.zip.\n",
      "[nltk_data]    | Downloading package subjectivity to\n",
      "[nltk_data]    |     /Users/natashapoddar/nltk_data...\n",
      "[nltk_data]    |   Unzipping corpora/subjectivity.zip.\n",
      "[nltk_data]    | Downloading package swadesh to\n",
      "[nltk_data]    |     /Users/natashapoddar/nltk_data...\n",
      "[nltk_data]    |   Unzipping corpora/swadesh.zip.\n",
      "[nltk_data]    | Downloading package switchboard to\n",
      "[nltk_data]    |     /Users/natashapoddar/nltk_data...\n",
      "[nltk_data]    |   Unzipping corpora/switchboard.zip.\n",
      "[nltk_data]    | Downloading package tagsets to\n",
      "[nltk_data]    |     /Users/natashapoddar/nltk_data...\n",
      "[nltk_data]    |   Unzipping help/tagsets.zip.\n",
      "[nltk_data]    | Downloading package timit to\n",
      "[nltk_data]    |     /Users/natashapoddar/nltk_data...\n",
      "[nltk_data]    |   Unzipping corpora/timit.zip.\n",
      "[nltk_data]    | Downloading package toolbox to\n",
      "[nltk_data]    |     /Users/natashapoddar/nltk_data...\n",
      "[nltk_data]    |   Unzipping corpora/toolbox.zip.\n",
      "[nltk_data]    | Downloading package treebank to\n",
      "[nltk_data]    |     /Users/natashapoddar/nltk_data...\n",
      "[nltk_data]    |   Unzipping corpora/treebank.zip.\n",
      "[nltk_data]    | Downloading package twitter_samples to\n",
      "[nltk_data]    |     /Users/natashapoddar/nltk_data...\n",
      "[nltk_data]    |   Unzipping corpora/twitter_samples.zip.\n",
      "[nltk_data]    | Downloading package udhr to\n",
      "[nltk_data]    |     /Users/natashapoddar/nltk_data...\n",
      "[nltk_data]    |   Unzipping corpora/udhr.zip.\n",
      "[nltk_data]    | Downloading package udhr2 to\n",
      "[nltk_data]    |     /Users/natashapoddar/nltk_data...\n",
      "[nltk_data]    |   Unzipping corpora/udhr2.zip.\n",
      "[nltk_data]    | Downloading package unicode_samples to\n",
      "[nltk_data]    |     /Users/natashapoddar/nltk_data...\n",
      "[nltk_data]    |   Unzipping corpora/unicode_samples.zip.\n",
      "[nltk_data]    | Downloading package universal_tagset to\n",
      "[nltk_data]    |     /Users/natashapoddar/nltk_data...\n",
      "[nltk_data]    |   Unzipping taggers/universal_tagset.zip.\n",
      "[nltk_data]    | Downloading package universal_treebanks_v20 to\n",
      "[nltk_data]    |     /Users/natashapoddar/nltk_data...\n",
      "[nltk_data]    | Downloading package vader_lexicon to\n",
      "[nltk_data]    |     /Users/natashapoddar/nltk_data...\n",
      "[nltk_data]    | Downloading package verbnet to\n",
      "[nltk_data]    |     /Users/natashapoddar/nltk_data...\n",
      "[nltk_data]    |   Unzipping corpora/verbnet.zip.\n",
      "[nltk_data]    | Downloading package verbnet3 to\n",
      "[nltk_data]    |     /Users/natashapoddar/nltk_data...\n",
      "[nltk_data]    |   Unzipping corpora/verbnet3.zip.\n",
      "[nltk_data]    | Downloading package webtext to\n",
      "[nltk_data]    |     /Users/natashapoddar/nltk_data...\n",
      "[nltk_data]    |   Unzipping corpora/webtext.zip.\n",
      "[nltk_data]    | Downloading package wmt15_eval to\n",
      "[nltk_data]    |     /Users/natashapoddar/nltk_data...\n",
      "[nltk_data]    |   Unzipping models/wmt15_eval.zip.\n",
      "[nltk_data]    | Downloading package word2vec_sample to\n",
      "[nltk_data]    |     /Users/natashapoddar/nltk_data...\n",
      "[nltk_data]    |   Unzipping models/word2vec_sample.zip.\n",
      "[nltk_data]    | Downloading package wordnet to\n",
      "[nltk_data]    |     /Users/natashapoddar/nltk_data...\n",
      "[nltk_data]    | Downloading package wordnet2021 to\n",
      "[nltk_data]    |     /Users/natashapoddar/nltk_data...\n",
      "[nltk_data]    | Downloading package wordnet31 to\n",
      "[nltk_data]    |     /Users/natashapoddar/nltk_data...\n",
      "[nltk_data]    | Downloading package wordnet_ic to\n",
      "[nltk_data]    |     /Users/natashapoddar/nltk_data...\n",
      "[nltk_data]    |   Unzipping corpora/wordnet_ic.zip.\n",
      "[nltk_data]    | Downloading package words to\n",
      "[nltk_data]    |     /Users/natashapoddar/nltk_data...\n",
      "[nltk_data]    |   Unzipping corpora/words.zip.\n",
      "[nltk_data]    | Downloading package ycoe to\n",
      "[nltk_data]    |     /Users/natashapoddar/nltk_data...\n",
      "[nltk_data]    |   Unzipping corpora/ycoe.zip.\n",
      "[nltk_data]    | \n",
      "[nltk_data]  Done downloading collection all\n"
     ]
    },
    {
     "data": {
      "text/plain": [
       "True"
      ]
     },
     "execution_count": 86,
     "metadata": {},
     "output_type": "execute_result"
    }
   ],
   "source": [
    "nltk.download('all')"
   ]
  },
  {
   "cell_type": "code",
   "execution_count": 80,
   "id": "d99ae8ae",
   "metadata": {},
   "outputs": [],
   "source": [
    "lemmatizer = WordNetLemmatizer()\n",
    "stemmer = PorterStemmer()"
   ]
  },
  {
   "cell_type": "code",
   "execution_count": 88,
   "id": "4ef498db",
   "metadata": {},
   "outputs": [],
   "source": [
    "for i in range(len(df['comment_text'])):\n",
    "    df['comment_text'][i] = df['comment_text'][i].lower()\n",
    "    j = []\n",
    "    for word in df['comment_text'][i].split():\n",
    "        j.append(lemmatizer.lemmatize(word, pos=\"v\"))\n",
    "        df['comment_text'][i] = \"\".join(j)"
   ]
  },
  {
   "cell_type": "code",
   "execution_count": 78,
   "id": "e2675b37",
   "metadata": {},
   "outputs": [
    {
     "name": "stdout",
     "output_type": "stream",
     "text": [
      "Collecting wordcloud\n",
      "  Downloading wordcloud-1.8.2.2-cp39-cp39-macosx_10_9_x86_64.whl (160 kB)\n",
      "\u001b[K     |████████████████████████████████| 160 kB 5.6 MB/s eta 0:00:01\n",
      "\u001b[?25hRequirement already satisfied: matplotlib in ./opt/anaconda3/lib/python3.9/site-packages (from wordcloud) (3.5.1)\n",
      "Requirement already satisfied: pillow in ./opt/anaconda3/lib/python3.9/site-packages (from wordcloud) (9.0.1)\n",
      "Requirement already satisfied: numpy>=1.6.1 in ./opt/anaconda3/lib/python3.9/site-packages (from wordcloud) (1.21.5)\n",
      "Requirement already satisfied: cycler>=0.10 in ./opt/anaconda3/lib/python3.9/site-packages (from matplotlib->wordcloud) (0.11.0)\n",
      "Requirement already satisfied: pyparsing>=2.2.1 in ./opt/anaconda3/lib/python3.9/site-packages (from matplotlib->wordcloud) (3.0.4)\n",
      "Requirement already satisfied: kiwisolver>=1.0.1 in ./opt/anaconda3/lib/python3.9/site-packages (from matplotlib->wordcloud) (1.3.2)\n",
      "Requirement already satisfied: packaging>=20.0 in ./opt/anaconda3/lib/python3.9/site-packages (from matplotlib->wordcloud) (21.3)\n",
      "Requirement already satisfied: fonttools>=4.22.0 in ./opt/anaconda3/lib/python3.9/site-packages (from matplotlib->wordcloud) (4.25.0)\n",
      "Requirement already satisfied: python-dateutil>=2.7 in ./opt/anaconda3/lib/python3.9/site-packages (from matplotlib->wordcloud) (2.8.2)\n",
      "Requirement already satisfied: six>=1.5 in ./opt/anaconda3/lib/python3.9/site-packages (from python-dateutil>=2.7->matplotlib->wordcloud) (1.16.0)\n",
      "Installing collected packages: wordcloud\n",
      "Successfully installed wordcloud-1.8.2.2\n",
      "Note: you may need to restart the kernel to use updated packages.\n"
     ]
    }
   ],
   "source": [
    "pip install wordcloud"
   ]
  },
  {
   "cell_type": "code",
   "execution_count": 89,
   "id": "63da919a",
   "metadata": {},
   "outputs": [
    {
     "data": {
      "text/html": [
       "<div>\n",
       "<style scoped>\n",
       "    .dataframe tbody tr th:only-of-type {\n",
       "        vertical-align: middle;\n",
       "    }\n",
       "\n",
       "    .dataframe tbody tr th {\n",
       "        vertical-align: top;\n",
       "    }\n",
       "\n",
       "    .dataframe thead th {\n",
       "        text-align: right;\n",
       "    }\n",
       "</style>\n",
       "<table border=\"1\" class=\"dataframe\">\n",
       "  <thead>\n",
       "    <tr style=\"text-align: right;\">\n",
       "      <th></th>\n",
       "      <th>id</th>\n",
       "      <th>comment_text</th>\n",
       "      <th>malignant</th>\n",
       "      <th>highly_malignant</th>\n",
       "      <th>rude</th>\n",
       "      <th>threat</th>\n",
       "      <th>abuse</th>\n",
       "      <th>loathe</th>\n",
       "    </tr>\n",
       "  </thead>\n",
       "  <tbody>\n",
       "    <tr>\n",
       "      <th>0</th>\n",
       "      <td>0000997932d777bf</td>\n",
       "      <td>explanationwhytheeditmakeundermyusernamehardco...</td>\n",
       "      <td>0</td>\n",
       "      <td>0</td>\n",
       "      <td>0</td>\n",
       "      <td>0</td>\n",
       "      <td>0</td>\n",
       "      <td>0</td>\n",
       "    </tr>\n",
       "    <tr>\n",
       "      <th>1</th>\n",
       "      <td>000103f0d9cfb60f</td>\n",
       "      <td>dawwhematchthisbackgroundcolourimseeminglystic...</td>\n",
       "      <td>0</td>\n",
       "      <td>0</td>\n",
       "      <td>0</td>\n",
       "      <td>0</td>\n",
       "      <td>0</td>\n",
       "      <td>0</td>\n",
       "    </tr>\n",
       "    <tr>\n",
       "      <th>2</th>\n",
       "      <td>000113f07ec002fd</td>\n",
       "      <td>heymanimreallynottrytoeditwaritsjustthatthisgu...</td>\n",
       "      <td>0</td>\n",
       "      <td>0</td>\n",
       "      <td>0</td>\n",
       "      <td>0</td>\n",
       "      <td>0</td>\n",
       "      <td>0</td>\n",
       "    </tr>\n",
       "    <tr>\n",
       "      <th>3</th>\n",
       "      <td>0001b41b1c6bb37e</td>\n",
       "      <td>moreicantmakeanyrealsuggestionsonimprovementiw...</td>\n",
       "      <td>0</td>\n",
       "      <td>0</td>\n",
       "      <td>0</td>\n",
       "      <td>0</td>\n",
       "      <td>0</td>\n",
       "      <td>0</td>\n",
       "    </tr>\n",
       "    <tr>\n",
       "      <th>4</th>\n",
       "      <td>0001d958c54c6e35</td>\n",
       "      <td>yousirbemyheroanychanceyourememberwhatpagethatson</td>\n",
       "      <td>0</td>\n",
       "      <td>0</td>\n",
       "      <td>0</td>\n",
       "      <td>0</td>\n",
       "      <td>0</td>\n",
       "      <td>0</td>\n",
       "    </tr>\n",
       "    <tr>\n",
       "      <th>...</th>\n",
       "      <td>...</td>\n",
       "      <td>...</td>\n",
       "      <td>...</td>\n",
       "      <td>...</td>\n",
       "      <td>...</td>\n",
       "      <td>...</td>\n",
       "      <td>...</td>\n",
       "      <td>...</td>\n",
       "    </tr>\n",
       "    <tr>\n",
       "      <th>159566</th>\n",
       "      <td>ffe987279560d7ff</td>\n",
       "      <td>andforthesecondtimeofaskwhenyourviewcompletely...</td>\n",
       "      <td>0</td>\n",
       "      <td>0</td>\n",
       "      <td>0</td>\n",
       "      <td>0</td>\n",
       "      <td>0</td>\n",
       "      <td>0</td>\n",
       "    </tr>\n",
       "    <tr>\n",
       "      <th>159567</th>\n",
       "      <td>ffea4adeee384e90</td>\n",
       "      <td>youshouldbeashamedofyourselfthatbeahorriblethi...</td>\n",
       "      <td>0</td>\n",
       "      <td>0</td>\n",
       "      <td>0</td>\n",
       "      <td>0</td>\n",
       "      <td>0</td>\n",
       "      <td>0</td>\n",
       "    </tr>\n",
       "    <tr>\n",
       "      <th>159568</th>\n",
       "      <td>ffee36eab5c267c9</td>\n",
       "      <td>spitzerummtheresnoactualarticleforprostitution...</td>\n",
       "      <td>0</td>\n",
       "      <td>0</td>\n",
       "      <td>0</td>\n",
       "      <td>0</td>\n",
       "      <td>0</td>\n",
       "      <td>0</td>\n",
       "    </tr>\n",
       "    <tr>\n",
       "      <th>159569</th>\n",
       "      <td>fff125370e4aaaf3</td>\n",
       "      <td>anditlooklikeitbeactuallyyouwhoputonthespeedyt...</td>\n",
       "      <td>0</td>\n",
       "      <td>0</td>\n",
       "      <td>0</td>\n",
       "      <td>0</td>\n",
       "      <td>0</td>\n",
       "      <td>0</td>\n",
       "    </tr>\n",
       "    <tr>\n",
       "      <th>159570</th>\n",
       "      <td>fff46fc426af1f9a</td>\n",
       "      <td>andireallydontthinkyouunderstandicomehereandmy...</td>\n",
       "      <td>0</td>\n",
       "      <td>0</td>\n",
       "      <td>0</td>\n",
       "      <td>0</td>\n",
       "      <td>0</td>\n",
       "      <td>0</td>\n",
       "    </tr>\n",
       "  </tbody>\n",
       "</table>\n",
       "<p>159571 rows × 8 columns</p>\n",
       "</div>"
      ],
      "text/plain": [
       "                      id                                       comment_text  \\\n",
       "0       0000997932d777bf  explanationwhytheeditmakeundermyusernamehardco...   \n",
       "1       000103f0d9cfb60f  dawwhematchthisbackgroundcolourimseeminglystic...   \n",
       "2       000113f07ec002fd  heymanimreallynottrytoeditwaritsjustthatthisgu...   \n",
       "3       0001b41b1c6bb37e  moreicantmakeanyrealsuggestionsonimprovementiw...   \n",
       "4       0001d958c54c6e35  yousirbemyheroanychanceyourememberwhatpagethatson   \n",
       "...                  ...                                                ...   \n",
       "159566  ffe987279560d7ff  andforthesecondtimeofaskwhenyourviewcompletely...   \n",
       "159567  ffea4adeee384e90  youshouldbeashamedofyourselfthatbeahorriblethi...   \n",
       "159568  ffee36eab5c267c9  spitzerummtheresnoactualarticleforprostitution...   \n",
       "159569  fff125370e4aaaf3  anditlooklikeitbeactuallyyouwhoputonthespeedyt...   \n",
       "159570  fff46fc426af1f9a  andireallydontthinkyouunderstandicomehereandmy...   \n",
       "\n",
       "        malignant  highly_malignant  rude  threat  abuse  loathe  \n",
       "0               0                 0     0       0      0       0  \n",
       "1               0                 0     0       0      0       0  \n",
       "2               0                 0     0       0      0       0  \n",
       "3               0                 0     0       0      0       0  \n",
       "4               0                 0     0       0      0       0  \n",
       "...           ...               ...   ...     ...    ...     ...  \n",
       "159566          0                 0     0       0      0       0  \n",
       "159567          0                 0     0       0      0       0  \n",
       "159568          0                 0     0       0      0       0  \n",
       "159569          0                 0     0       0      0       0  \n",
       "159570          0                 0     0       0      0       0  \n",
       "\n",
       "[159571 rows x 8 columns]"
      ]
     },
     "execution_count": 89,
     "metadata": {},
     "output_type": "execute_result"
    }
   ],
   "source": [
    "df"
   ]
  },
  {
   "cell_type": "code",
   "execution_count": 91,
   "id": "18d2d1ca",
   "metadata": {},
   "outputs": [],
   "source": [
    "tf_vec = TfidfVectorizer()"
   ]
  },
  {
   "cell_type": "code",
   "execution_count": 92,
   "id": "1b8e8ac1",
   "metadata": {},
   "outputs": [],
   "source": [
    "comment =df['comment_text']"
   ]
  },
  {
   "cell_type": "code",
   "execution_count": 93,
   "id": "7b608206",
   "metadata": {},
   "outputs": [],
   "source": [
    "x = tf_vec.fit_transform(comment)"
   ]
  },
  {
   "cell_type": "code",
   "execution_count": 123,
   "id": "70ffad9a",
   "metadata": {},
   "outputs": [
    {
     "data": {
      "text/plain": [
       "<matplotlib.legend.Legend at 0x7fce69a86760>"
      ]
     },
     "execution_count": 123,
     "metadata": {},
     "output_type": "execute_result"
    },
    {
     "data": {
      "image/png": "[encoded data removed]",
      "text/plain": [
       "<Figure size 360x360 with 1 Axes>"
      ]
     },
     "metadata": {},
     "output_type": "display_data"
    }
   ],
   "source": [
    "cols_target = ['malignant','highly_malignant','rude','threat','abuse','loathe']\n",
    "df_distribution = df[cols_target].sum()\\\n",
    "                            .to_frame()\\\n",
    "                            .rename(columns={0: 'count'})\\\n",
    "                            .sort_values('count')\n",
    "\n",
    "df_distribution.plot.pie(y='count',\n",
    "                                      title='Label distribution over comments',\n",
    "                                      figsize=(5, 5))\\\n",
    "                            .legend(loc='center left', bbox_to_anchor=(1.3, 0.5))"
   ]
  },
  {
   "cell_type": "code",
   "execution_count": 126,
   "id": "b5b588d7",
   "metadata": {},
   "outputs": [
    {
     "name": "stdout",
     "output_type": "stream",
     "text": [
      "0    143346\n",
      "1      6360\n",
      "3      4209\n",
      "2      3480\n",
      "4      1760\n",
      "5       385\n",
      "6        31\n",
      "Name: bad, dtype: int64\n",
      "0    143346\n",
      "1     16225\n",
      "Name: bad, dtype: int64\n"
     ]
    }
   ],
   "source": [
    "target_data = df[cols_target]\n",
    "\n",
    "df['bad'] =df[cols_target].sum(axis =1)\n",
    "print(df['bad'].value_counts())\n",
    "df['bad'] = df['bad'] > 0 \n",
    "df['bad'] = df['bad'].astype(int)\n",
    "print(df['bad'].value_counts())\n"
   ]
  },
  {
   "cell_type": "code",
   "execution_count": 127,
   "id": "8091a146",
   "metadata": {},
   "outputs": [],
   "source": [
    "y=df['bad']"
   ]
  },
  {
   "cell_type": "code",
   "execution_count": 94,
   "id": "379104ee",
   "metadata": {},
   "outputs": [],
   "source": [
    "from sklearn.model_selection import train_test_split\n",
    "from sklearn.metrics import r2_score\n",
    "from sklearn.metrics import accuracy_score,confusion_matrix,classification_report\n",
    "from sklearn.model_selection import GridSearchCV\n",
    "from sklearn.svm import SVC\n",
    "from sklearn.tree import DecisionTreeClassifier\n",
    "from sklearn.neighbors import KNeighborsClassifier\n",
    "from sklearn.ensemble import RandomForestClassifier\n",
    "from sklearn.model_selection import cross_val_score\n",
    "from sklearn.naive_bayes import MultinomialNB\n",
    "from sklearn.ensemble import GradientBoostingClassifier\n",
    "from sklearn.linear_model import LogisticRegression"
   ]
  },
  {
   "cell_type": "code",
   "execution_count": null,
   "id": "52aff626",
   "metadata": {},
   "outputs": [],
   "source": []
  },
  {
   "cell_type": "markdown",
   "id": "449ec4c0",
   "metadata": {},
   "source": [
    "## KNN CLASSIFIER"
   ]
  },
  {
   "cell_type": "code",
   "execution_count": 95,
   "id": "22f4313c",
   "metadata": {},
   "outputs": [],
   "source": [
    "knn=KNeighborsClassifier()"
   ]
  },
  {
   "cell_type": "code",
   "execution_count": 98,
   "id": "9aed58e9",
   "metadata": {},
   "outputs": [
    {
     "name": "stdout",
     "output_type": "stream",
     "text": [
      "At random_state {0} the training accuracy test is 0.9045951619978693\n",
      "At random_state {0} the testing accuracy test is 0.9028669904433652\n",
      "\n",
      "\n",
      "At random_state {1} the training accuracy test is 0.9046421633139061\n",
      "At random_state {1} the testing accuracy test is 0.9028669904433652\n",
      "\n",
      "\n",
      "At random_state {2} the training accuracy test is 0.9045089929184684\n",
      "At random_state {2} the testing accuracy test is 0.9031803227322576\n",
      "\n",
      "\n",
      "At random_state {3} the training accuracy test is 0.9040468133107727\n",
      "At random_state {3} the testing accuracy test is 0.9057809807300642\n",
      "\n",
      "\n",
      "At random_state {4} the training accuracy test is 0.9043679889703579\n",
      "At random_state {4} the testing accuracy test is 0.9039636534544885\n",
      "\n",
      "\n",
      "At random_state {5} the training accuracy test is 0.9038196402832612\n",
      "At random_state {5} the testing accuracy test is 0.9060316465611782\n",
      "\n",
      "\n",
      "At random_state {6} the training accuracy test is 0.9047204988406342\n",
      "At random_state {6} the testing accuracy test is 0.9046216512611625\n",
      "\n",
      "\n",
      "At random_state {7} the training accuracy test is 0.9045089929184684\n",
      "At random_state {7} the testing accuracy test is 0.9040576531411562\n",
      "\n",
      "\n",
      "At random_state {8} the training accuracy test is 0.9048536692360719\n",
      "At random_state {8} the testing accuracy test is 0.9034309885633715\n",
      "\n",
      "\n",
      "At random_state {9} the training accuracy test is 0.9046499968665789\n",
      "At random_state {9} the testing accuracy test is 0.9033996553344822\n",
      "\n",
      "\n",
      "At random_state {10} the training accuracy test is 0.9038274738359341\n",
      "At random_state {10} the testing accuracy test is 0.9059376468745104\n",
      "\n",
      "\n",
      "At random_state {11} the training accuracy test is 0.9048536692360719\n",
      "At random_state {11} the testing accuracy test is 0.9028983236722544\n",
      "\n",
      "\n",
      "At random_state {12} the training accuracy test is 0.9049790060788369\n",
      "At random_state {12} the testing accuracy test is 0.9014256619144603\n",
      "\n",
      "\n",
      "At random_state {13} the training accuracy test is 0.9037334712038604\n",
      "At random_state {13} the testing accuracy test is 0.9064703117656274\n",
      "\n",
      "\n",
      "At random_state {14} the training accuracy test is 0.904320987654321\n",
      "At random_state {14} the testing accuracy test is 0.9056243145856181\n",
      "\n",
      "\n",
      "At random_state {15} the training accuracy test is 0.9042269850222473\n",
      "At random_state {15} the testing accuracy test is 0.9050916496945011\n",
      "\n",
      "\n",
      "At random_state {16} the training accuracy test is 0.9045873284451965\n",
      "At random_state {16} the testing accuracy test is 0.9032743224189252\n",
      "\n",
      "\n",
      "At random_state {17} the training accuracy test is 0.9045011593657956\n",
      "At random_state {17} the testing accuracy test is 0.9038069873100423\n",
      "\n",
      "\n",
      "At random_state {18} the training accuracy test is 0.9050260073948737\n",
      "At random_state {18} the testing accuracy test is 0.9033369888767038\n",
      "\n",
      "\n",
      "At random_state {19} the training accuracy test is 0.9044933258131228\n",
      "At random_state {19} the testing accuracy test is 0.9064389785367382\n",
      "\n",
      "\n",
      "At random_state {20} the training accuracy test is 0.9049085041047816\n",
      "At random_state {20} the testing accuracy test is 0.9025536581544729\n",
      "\n",
      "\n",
      "At random_state {21} the training accuracy test is 0.9043366547596666\n",
      "At random_state {21} the testing accuracy test is 0.9041829860567131\n",
      "\n",
      "\n",
      "At random_state {22} the training accuracy test is 0.9048301685780535\n",
      "At random_state {22} the testing accuracy test is 0.9020209932633558\n",
      "\n",
      "\n",
      "At random_state {23} the training accuracy test is 0.9047204988406342\n",
      "At random_state {23} the testing accuracy test is 0.9026163246122513\n",
      "\n",
      "\n",
      "At random_state {24} the training accuracy test is 0.9042191514695744\n",
      "At random_state {24} the testing accuracy test is 0.9047156509478301\n",
      "\n",
      "\n",
      "At random_state {25} the training accuracy test is 0.9045089929184684\n",
      "At random_state {25} the testing accuracy test is 0.9033369888767038\n",
      "\n",
      "\n",
      "At random_state {26} the training accuracy test is 0.9048693363414175\n",
      "At random_state {26} the testing accuracy test is 0.9035249882500391\n",
      "\n",
      "\n",
      "At random_state {27} the training accuracy test is 0.9049633389734912\n",
      "At random_state {27} the testing accuracy test is 0.9025223249255836\n",
      "\n",
      "\n",
      "At random_state {28} the training accuracy test is 0.9047518330513254\n",
      "At random_state {28} the testing accuracy test is 0.9049663167789441\n",
      "\n",
      "\n",
      "At random_state {29} the training accuracy test is 0.9042661527856113\n",
      "At random_state {29} the testing accuracy test is 0.9051856493811687\n",
      "\n",
      "\n",
      "At random_state {30} the training accuracy test is 0.9049868396315097\n",
      "At random_state {30} the testing accuracy test is 0.903117656274479\n",
      "\n",
      "\n",
      "At random_state {31} the training accuracy test is 0.9048301685780535\n",
      "At random_state {31} the testing accuracy test is 0.9026476578411405\n",
      "\n",
      "\n",
      "At random_state {32} the training accuracy test is 0.9044071567337219\n",
      "At random_state {32} the testing accuracy test is 0.9055616481278396\n",
      "\n",
      "\n",
      "At random_state {33} the training accuracy test is 0.9043758225230306\n",
      "At random_state {33} the testing accuracy test is 0.9055616481278396\n",
      "\n",
      "\n",
      "At random_state {34} the training accuracy test is 0.9039841448893903\n",
      "At random_state {34} the testing accuracy test is 0.9054049819833934\n",
      "\n",
      "\n",
      "At random_state {35} the training accuracy test is 0.9047988343673623\n",
      "At random_state {35} the testing accuracy test is 0.9044649851167162\n",
      "\n",
      "\n",
      "At random_state {36} the training accuracy test is 0.9045089929184684\n",
      "At random_state {36} the testing accuracy test is 0.9033996553344822\n",
      "\n",
      "\n",
      "At random_state {37} the training accuracy test is 0.9049711725261641\n",
      "At random_state {37} the testing accuracy test is 0.902960990130033\n",
      "\n",
      "\n",
      "At random_state {38} the training accuracy test is 0.904446324497086\n",
      "At random_state {38} the testing accuracy test is 0.9035876547078177\n",
      "\n",
      "\n",
      "At random_state {39} the training accuracy test is 0.9039058093626622\n",
      "At random_state {39} the testing accuracy test is 0.9062509791634028\n",
      "\n",
      "\n",
      "At random_state {40} the training accuracy test is 0.9047361659459798\n",
      "At random_state {40} the testing accuracy test is 0.9024909916966943\n",
      "\n",
      "\n",
      "At random_state {41} the training accuracy test is 0.9041016481794824\n",
      "At random_state {41} the testing accuracy test is 0.9050289832367225\n",
      "\n",
      "\n",
      "At random_state {42} the training accuracy test is 0.9043758225230306\n",
      "At random_state {42} the testing accuracy test is 0.9043396522011593\n",
      "\n",
      "\n",
      "At random_state {43} the training accuracy test is 0.9046734975245974\n",
      "At random_state {43} the testing accuracy test is 0.9038069873100423\n",
      "\n",
      "\n",
      "At random_state {44} the training accuracy test is 0.9039606442313718\n",
      "At random_state {44} the testing accuracy test is 0.9058436471878427\n",
      "\n",
      "\n",
      "At random_state {45} the training accuracy test is 0.9041956508115561\n",
      "At random_state {45} the testing accuracy test is 0.904558984803384\n",
      "\n",
      "\n",
      "At random_state {46} the training accuracy test is 0.9045951619978693\n",
      "At random_state {46} the testing accuracy test is 0.9047469841767194\n",
      "\n",
      "\n",
      "At random_state {47} the training accuracy test is 0.9046656639719245\n",
      "At random_state {47} the testing accuracy test is 0.9043709854300486\n",
      "\n",
      "\n",
      "At random_state {48} the training accuracy test is 0.9043444883123394\n",
      "At random_state {48} the testing accuracy test is 0.9047783174056087\n",
      "\n",
      "\n",
      "At random_state {49} the training accuracy test is 0.9047361659459798\n",
      "At random_state {49} the testing accuracy test is 0.90349365502115\n",
      "\n",
      "\n",
      "At random_state {50} the training accuracy test is 0.9048223350253807\n",
      "At random_state {50} the testing accuracy test is 0.9024909916966943\n",
      "\n",
      "\n",
      "At random_state {51} the training accuracy test is 0.9049320047628\n",
      "At random_state {51} the testing accuracy test is 0.9014883283722388\n",
      "\n",
      "\n",
      "At random_state {52} the training accuracy test is 0.9043131541016481\n",
      "At random_state {52} the testing accuracy test is 0.9054363152122826\n",
      "\n",
      "\n",
      "At random_state {53} the training accuracy test is 0.9041956508115561\n",
      "At random_state {53} the testing accuracy test is 0.9074416418611938\n",
      "\n",
      "\n",
      "At random_state {54} the training accuracy test is 0.9042191514695744\n",
      "At random_state {54} the testing accuracy test is 0.904558984803384\n",
      "\n",
      "\n",
      "At random_state {55} the training accuracy test is 0.9044306573917403\n",
      "At random_state {55} the testing accuracy test is 0.9049349835500549\n",
      "\n",
      "\n",
      "At random_state {56} the training accuracy test is 0.9050103402895281\n",
      "At random_state {56} the testing accuracy test is 0.9028669904433652\n",
      "\n",
      "\n",
      "At random_state {57} the training accuracy test is 0.9039763113367174\n",
      "At random_state {57} the testing accuracy test is 0.9061256462478459\n",
      "\n",
      "\n",
      "At random_state {58} the training accuracy test is 0.9045403271291597\n",
      "At random_state {58} the testing accuracy test is 0.9048096506344979\n",
      "\n",
      "\n",
      "At random_state {59} the training accuracy test is 0.9043053205489754\n",
      "At random_state {59} the testing accuracy test is 0.9045276515744948\n",
      "\n",
      "\n",
      "At random_state {60} the training accuracy test is 0.9052766810804036\n",
      "At random_state {60} the testing accuracy test is 0.9027729907566975\n",
      "\n",
      "\n",
      "At random_state {61} the training accuracy test is 0.9043288212069938\n",
      "At random_state {61} the testing accuracy test is 0.9046216512611625\n",
      "\n",
      "\n",
      "At random_state {62} the training accuracy test is 0.9048458356833992\n",
      "At random_state {62} the testing accuracy test is 0.9039949866833777\n",
      "\n",
      "\n",
      "At random_state {63} the training accuracy test is 0.9048380021307263\n",
      "At random_state {63} the testing accuracy test is 0.9033369888767038\n",
      "\n",
      "\n",
      "At random_state {64} the training accuracy test is 0.9043993231810491\n",
      "At random_state {64} the testing accuracy test is 0.9051543161522795\n",
      "\n",
      "\n",
      "At random_state {65} the training accuracy test is 0.9034906310710034\n",
      "At random_state {65} the testing accuracy test is 0.907723640921197\n",
      "\n",
      "\n",
      "At random_state {66} the training accuracy test is 0.9042269850222473\n",
      "At random_state {66} the testing accuracy test is 0.9044336518878271\n",
      "\n",
      "\n",
      "At random_state {67} the training accuracy test is 0.9040468133107727\n",
      "At random_state {67} the testing accuracy test is 0.9051543161522795\n",
      "\n",
      "\n",
      "At random_state {68} the training accuracy test is 0.9040389797580999\n",
      "At random_state {68} the testing accuracy test is 0.9066269779100736\n",
      "\n",
      "\n",
      "At random_state {69} the training accuracy test is 0.9042739863382842\n",
      "At random_state {69} the testing accuracy test is 0.9043396522011593\n",
      "\n",
      "\n",
      "At random_state {70} the training accuracy test is 0.9048693363414175\n",
      "At random_state {70} the testing accuracy test is 0.9040889863700454\n",
      "\n",
      "\n",
      "At random_state {71} the training accuracy test is 0.9058250297675001\n",
      "At random_state {71} the testing accuracy test is 0.8997650007833308\n",
      "\n",
      "\n",
      "At random_state {72} the training accuracy test is 0.9041956508115561\n",
      "At random_state {72} the testing accuracy test is 0.9063449788500705\n",
      "\n",
      "\n",
      "At random_state {73} the training accuracy test is 0.9048301685780535\n",
      "At random_state {73} the testing accuracy test is 0.9042769857433809\n",
      "\n",
      "\n",
      "At random_state {74} the training accuracy test is 0.9042034843642288\n",
      "At random_state {74} the testing accuracy test is 0.9046216512611625\n",
      "\n",
      "\n",
      "At random_state {75} the training accuracy test is 0.9043444883123394\n",
      "At random_state {75} the testing accuracy test is 0.9042143192856024\n",
      "\n",
      "\n",
      "At random_state {76} the training accuracy test is 0.9049711725261641\n",
      "At random_state {76} the testing accuracy test is 0.9032116559611468\n",
      "\n",
      "\n",
      "At random_state {77} the training accuracy test is 0.9041799837062104\n",
      "At random_state {77} the testing accuracy test is 0.9057183142722858\n",
      "\n",
      "\n",
      "At random_state {78} the training accuracy test is 0.9044854922604499\n",
      "At random_state {78} the testing accuracy test is 0.9047156509478301\n",
      "\n",
      "\n",
      "At random_state {79} the training accuracy test is 0.903952810678699\n",
      "At random_state {79} the testing accuracy test is 0.9057183142722858\n",
      "\n",
      "\n",
      "At random_state {80} the training accuracy test is 0.9049241712101272\n",
      "At random_state {80} the testing accuracy test is 0.9017076609744634\n",
      "\n",
      "\n",
      "At random_state {81} the training accuracy test is 0.9037804725198972\n",
      "At random_state {81} the testing accuracy test is 0.9070029766567445\n",
      "\n",
      "\n",
      "At random_state {82} the training accuracy test is 0.9043444883123394\n",
      "At random_state {82} the testing accuracy test is 0.9056556478145072\n",
      "\n",
      "\n",
      "At random_state {83} the training accuracy test is 0.9038901422573166\n",
      "At random_state {83} the testing accuracy test is 0.9061256462478459\n",
      "\n",
      "\n",
      "At random_state {84} the training accuracy test is 0.9041643166008648\n",
      "At random_state {84} the testing accuracy test is 0.9070343098856337\n",
      "\n",
      "\n",
      "At random_state {85} the training accuracy test is 0.9043288212069938\n",
      "At random_state {85} the testing accuracy test is 0.904558984803384\n",
      "\n",
      "\n",
      "At random_state {86} the training accuracy test is 0.9047831672620167\n",
      "At random_state {86} the testing accuracy test is 0.9041203195989347\n",
      "\n",
      "\n",
      "At random_state {87} the training accuracy test is 0.9045559942345053\n",
      "At random_state {87} the testing accuracy test is 0.9036503211655961\n",
      "\n",
      "\n",
      "At random_state {88} the training accuracy test is 0.9043836560757035\n",
      "At random_state {88} the testing accuracy test is 0.9057809807300642\n",
      "\n",
      "\n",
      "At random_state {89} the training accuracy test is 0.904156483048192\n",
      "At random_state {89} the testing accuracy test is 0.9048096506344979\n",
      "\n",
      "\n",
      "At random_state {90} the training accuracy test is 0.9046264962085605\n",
      "At random_state {90} the testing accuracy test is 0.904558984803384\n",
      "\n",
      "\n",
      "At random_state {91} the training accuracy test is 0.9047126652879613\n",
      "At random_state {91} the testing accuracy test is 0.9044336518878271\n",
      "\n",
      "\n",
      "At random_state {92} the training accuracy test is 0.9049476718681456\n",
      "At random_state {92} the testing accuracy test is 0.9036503211655961\n",
      "\n",
      "\n",
      "At random_state {93} the training accuracy test is 0.9045168264711412\n",
      "At random_state {93} the testing accuracy test is 0.9047156509478301\n",
      "\n",
      "\n",
      "At random_state {94} the training accuracy test is 0.9043444883123394\n",
      "At random_state {94} the testing accuracy test is 0.9074103086323045\n",
      "\n",
      "\n",
      "At random_state {95} the training accuracy test is 0.9040859810741367\n",
      "At random_state {95} the testing accuracy test is 0.9049663167789441\n",
      "\n",
      "\n",
      "At random_state {96} the training accuracy test is 0.9043993231810491\n",
      "At random_state {96} the testing accuracy test is 0.904684317718941\n",
      "\n",
      "\n",
      "At random_state {97} the training accuracy test is 0.9043914896283762\n",
      "At random_state {97} the testing accuracy test is 0.9051543161522795\n",
      "\n",
      "\n",
      "At random_state {98} the training accuracy test is 0.9045716613398509\n",
      "At random_state {98} the testing accuracy test is 0.9040889863700454\n",
      "\n",
      "\n",
      "At random_state {99} the training accuracy test is 0.904320987654321\n",
      "At random_state {99} the testing accuracy test is 0.9063763120789597\n",
      "\n",
      "\n"
     ]
    }
   ],
   "source": [
    "for i in range(0,100):\n",
    "    x_train,x_test,y_train,y_test=train_test_split(x,y,test_size=0.20,random_state=i)\n",
    "    knn.fit(x_train,y_train)\n",
    "    predknn=knn.predict(x_train)\n",
    "    predknn1=knn.predict(x_test)\n",
    "    print('At random_state' ,{i}, 'the training accuracy test is', accuracy_score(y_train,predknn))\n",
    "    print('At random_state' ,{i}, 'the testing accuracy test is', accuracy_score(y_test,predknn1))\n",
    "    print('\\n')"
   ]
  },
  {
   "cell_type": "markdown",
   "id": "37b8d8d4",
   "metadata": {},
   "source": [
    "## AT RANDOM STATE 65 WE HAVE THE HIGHEST ACCURACY OF 90.77%"
   ]
  },
  {
   "cell_type": "code",
   "execution_count": 99,
   "id": "e597ba2b",
   "metadata": {},
   "outputs": [],
   "source": [
    "x_train,x_test,y_train,y_test=train_test_split(x,y,test_size=0.20,random_state=65)"
   ]
  },
  {
   "cell_type": "code",
   "execution_count": 100,
   "id": "365c1aee",
   "metadata": {},
   "outputs": [
    {
     "data": {
      "text/html": [
       "<style>#sk-container-id-1 {color: black;background-color: white;}#sk-container-id-1 pre{padding: 0;}#sk-container-id-1 div.sk-toggleable {background-color: white;}#sk-container-id-1 label.sk-toggleable__label {cursor: pointer;display: block;width: 100%;margin-bottom: 0;padding: 0.3em;box-sizing: border-box;text-align: center;}#sk-container-id-1 label.sk-toggleable__label-arrow:before {content: \"▸\";float: left;margin-right: 0.25em;color: #696969;}#sk-container-id-1 label.sk-toggleable__label-arrow:hover:before {color: black;}#sk-container-id-1 div.sk-estimator:hover label.sk-toggleable__label-arrow:before {color: black;}#sk-container-id-1 div.sk-toggleable__content {max-height: 0;max-width: 0;overflow: hidden;text-align: left;background-color: #f0f8ff;}#sk-container-id-1 div.sk-toggleable__content pre {margin: 0.2em;color: black;border-radius: 0.25em;background-color: #f0f8ff;}#sk-container-id-1 input.sk-toggleable__control:checked~div.sk-toggleable__content {max-height: 200px;max-width: 100%;overflow: auto;}#sk-container-id-1 input.sk-toggleable__control:checked~label.sk-toggleable__label-arrow:before {content: \"▾\";}#sk-container-id-1 div.sk-estimator input.sk-toggleable__control:checked~label.sk-toggleable__label {background-color: #d4ebff;}#sk-container-id-1 div.sk-label input.sk-toggleable__control:checked~label.sk-toggleable__label {background-color: #d4ebff;}#sk-container-id-1 input.sk-hidden--visually {border: 0;clip: rect(1px 1px 1px 1px);clip: rect(1px, 1px, 1px, 1px);height: 1px;margin: -1px;overflow: hidden;padding: 0;position: absolute;width: 1px;}#sk-container-id-1 div.sk-estimator {font-family: monospace;background-color: #f0f8ff;border: 1px dotted black;border-radius: 0.25em;box-sizing: border-box;margin-bottom: 0.5em;}#sk-container-id-1 div.sk-estimator:hover {background-color: #d4ebff;}#sk-container-id-1 div.sk-parallel-item::after {content: \"\";width: 100%;border-bottom: 1px solid gray;flex-grow: 1;}#sk-container-id-1 div.sk-label:hover label.sk-toggleable__label {background-color: #d4ebff;}#sk-container-id-1 div.sk-serial::before {content: \"\";position: absolute;border-left: 1px solid gray;box-sizing: border-box;top: 0;bottom: 0;left: 50%;z-index: 0;}#sk-container-id-1 div.sk-serial {display: flex;flex-direction: column;align-items: center;background-color: white;padding-right: 0.2em;padding-left: 0.2em;position: relative;}#sk-container-id-1 div.sk-item {position: relative;z-index: 1;}#sk-container-id-1 div.sk-parallel {display: flex;align-items: stretch;justify-content: center;background-color: white;position: relative;}#sk-container-id-1 div.sk-item::before, #sk-container-id-1 div.sk-parallel-item::before {content: \"\";position: absolute;border-left: 1px solid gray;box-sizing: border-box;top: 0;bottom: 0;left: 50%;z-index: -1;}#sk-container-id-1 div.sk-parallel-item {display: flex;flex-direction: column;z-index: 1;position: relative;background-color: white;}#sk-container-id-1 div.sk-parallel-item:first-child::after {align-self: flex-end;width: 50%;}#sk-container-id-1 div.sk-parallel-item:last-child::after {align-self: flex-start;width: 50%;}#sk-container-id-1 div.sk-parallel-item:only-child::after {width: 0;}#sk-container-id-1 div.sk-dashed-wrapped {border: 1px dashed gray;margin: 0 0.4em 0.5em 0.4em;box-sizing: border-box;padding-bottom: 0.4em;background-color: white;}#sk-container-id-1 div.sk-label label {font-family: monospace;font-weight: bold;display: inline-block;line-height: 1.2em;}#sk-container-id-1 div.sk-label-container {text-align: center;}#sk-container-id-1 div.sk-container {/* jupyter's `normalize.less` sets `[hidden] { display: none; }` but bootstrap.min.css set `[hidden] { display: none !important; }` so we also need the `!important` here to be able to override the default hidden behavior on the sphinx rendered scikit-learn.org. See: https://github.com/scikit-learn/scikit-learn/issues/21755 */display: inline-block !important;position: relative;}#sk-container-id-1 div.sk-text-repr-fallback {display: none;}</style><div id=\"sk-container-id-1\" class=\"sk-top-container\"><div class=\"sk-text-repr-fallback\"><pre>KNeighborsClassifier()</pre><b>In a Jupyter environment, please rerun this cell to show the HTML representation or trust the notebook. <br />On GitHub, the HTML representation is unable to render, please try loading this page with nbviewer.org.</b></div><div class=\"sk-container\" hidden><div class=\"sk-item\"><div class=\"sk-estimator sk-toggleable\"><input class=\"sk-toggleable__control sk-hidden--visually\" id=\"sk-estimator-id-1\" type=\"checkbox\" checked><label for=\"sk-estimator-id-1\" class=\"sk-toggleable__label sk-toggleable__label-arrow\">KNeighborsClassifier</label><div class=\"sk-toggleable__content\"><pre>KNeighborsClassifier()</pre></div></div></div></div></div>"
      ],
      "text/plain": [
       "KNeighborsClassifier()"
      ]
     },
     "execution_count": 100,
     "metadata": {},
     "output_type": "execute_result"
    }
   ],
   "source": [
    "knn.fit(x_train,y_train)"
   ]
  },
  {
   "cell_type": "code",
   "execution_count": 101,
   "id": "8f3acf92",
   "metadata": {},
   "outputs": [],
   "source": [
    "PREKNN=knn.predict(x_test)"
   ]
  },
  {
   "cell_type": "code",
   "execution_count": 102,
   "id": "40373242",
   "metadata": {},
   "outputs": [
    {
     "name": "stdout",
     "output_type": "stream",
     "text": [
      "0.907723640921197\n"
     ]
    }
   ],
   "source": [
    "print(accuracy_score(y_test,PREKNN))"
   ]
  },
  {
   "cell_type": "code",
   "execution_count": 103,
   "id": "37e70fb0",
   "metadata": {},
   "outputs": [
    {
     "name": "stdout",
     "output_type": "stream",
     "text": [
      "[[28969     0]\n",
      " [ 2945     1]]\n"
     ]
    }
   ],
   "source": [
    "print(confusion_matrix(y_test,PREKNN))"
   ]
  },
  {
   "cell_type": "code",
   "execution_count": 104,
   "id": "e7d2169e",
   "metadata": {},
   "outputs": [
    {
     "name": "stdout",
     "output_type": "stream",
     "text": [
      "              precision    recall  f1-score   support\n",
      "\n",
      "           0       0.91      1.00      0.95     28969\n",
      "           1       1.00      0.00      0.00      2946\n",
      "\n",
      "    accuracy                           0.91     31915\n",
      "   macro avg       0.95      0.50      0.48     31915\n",
      "weighted avg       0.92      0.91      0.86     31915\n",
      "\n"
     ]
    }
   ],
   "source": [
    "print(classification_report(y_test,PREKNN))"
   ]
  },
  {
   "cell_type": "markdown",
   "id": "43494f03",
   "metadata": {},
   "source": [
    "## AUC ROC CURVE "
   ]
  },
  {
   "cell_type": "code",
   "execution_count": 168,
   "id": "68bdf09f",
   "metadata": {},
   "outputs": [],
   "source": [
    "from sklearn.metrics import roc_curve\n",
    "from sklearn.metrics import roc_auc_score"
   ]
  },
  {
   "cell_type": "code",
   "execution_count": 169,
   "id": "f524f946",
   "metadata": {},
   "outputs": [],
   "source": [
    "y_pred_prob1=knn.predict_proba(x_test)[:,1]"
   ]
  },
  {
   "cell_type": "code",
   "execution_count": 170,
   "id": "58068372",
   "metadata": {},
   "outputs": [
    {
     "data": {
      "text/plain": [
       "array([0. , 0. , 0. , ..., 0. , 0.2, 0.2])"
      ]
     },
     "execution_count": 170,
     "metadata": {},
     "output_type": "execute_result"
    }
   ],
   "source": [
    "y_pred_prob1"
   ]
  },
  {
   "cell_type": "code",
   "execution_count": 171,
   "id": "7a82fcb6",
   "metadata": {},
   "outputs": [],
   "source": [
    "tpr,fpr,thresholds=roc_curve(y_test,y_pred_prob1)"
   ]
  },
  {
   "cell_type": "code",
   "execution_count": 172,
   "id": "a7c4983d",
   "metadata": {},
   "outputs": [
    {
     "data": {
      "text/plain": [
       "array([0.        , 0.        , 0.        , 0.        , 0.        ,\n",
       "       0.33648498, 1.        ])"
      ]
     },
     "execution_count": 172,
     "metadata": {},
     "output_type": "execute_result"
    }
   ],
   "source": [
    "tpr"
   ]
  },
  {
   "cell_type": "code",
   "execution_count": 173,
   "id": "fc8788eb",
   "metadata": {},
   "outputs": [
    {
     "data": {
      "text/plain": [
       "array([0.00000000e+00, 3.17762949e-04, 9.53288847e-04, 3.49539244e-03,\n",
       "       1.38226883e-01, 9.63457261e-01, 1.00000000e+00])"
      ]
     },
     "execution_count": 173,
     "metadata": {},
     "output_type": "execute_result"
    }
   ],
   "source": [
    "fpr"
   ]
  },
  {
   "cell_type": "code",
   "execution_count": 174,
   "id": "0b28e735",
   "metadata": {},
   "outputs": [
    {
     "data": {
      "text/plain": [
       "array([2. , 1. , 0.8, 0.6, 0.4, 0.2, 0. ])"
      ]
     },
     "execution_count": 174,
     "metadata": {},
     "output_type": "execute_result"
    }
   ],
   "source": [
    "thresholds"
   ]
  },
  {
   "cell_type": "code",
   "execution_count": 175,
   "id": "d7435c4a",
   "metadata": {},
   "outputs": [
    {
     "data": {
      "image/png": "[encoded data removed]",
      "text/plain": [
       "<Figure size 432x288 with 1 Axes>"
      ]
     },
     "metadata": {
      "needs_background": "light"
     },
     "output_type": "display_data"
    }
   ],
   "source": [
    "plt.plot([0,1],[0,1],'k--')\n",
    "plt.plot(tpr,fpr,label='KNN')\n",
    "plt.xlabel('FALSE_POSITIVE_RATE')\n",
    "plt.ylabel('TRUE_POSITIVE_RATE')\n",
    "plt.title('KNN CLASSIFIER')\n",
    "plt.show()"
   ]
  },
  {
   "cell_type": "code",
   "execution_count": 176,
   "id": "a5302750",
   "metadata": {},
   "outputs": [
    {
     "data": {
      "text/plain": [
       "0.5017476962186209"
      ]
     },
     "execution_count": 176,
     "metadata": {},
     "output_type": "execute_result"
    }
   ],
   "source": [
    "auc_score=roc_auc_score(y_test,(knn.predict(x_test)))\n",
    "auc_score"
   ]
  },
  {
   "cell_type": "markdown",
   "id": "171f2c7b",
   "metadata": {},
   "source": [
    "## MULTINOMIAL NB"
   ]
  },
  {
   "cell_type": "code",
   "execution_count": 130,
   "id": "89c2ba14",
   "metadata": {},
   "outputs": [],
   "source": [
    "mb=MultinomialNB()"
   ]
  },
  {
   "cell_type": "code",
   "execution_count": 131,
   "id": "1f9574a0",
   "metadata": {},
   "outputs": [
    {
     "name": "stdout",
     "output_type": "stream",
     "text": [
      "At random_state {0} the training accuracy test is 0.8988453343360281\n",
      "At random_state {0} the testing accuracy test is 0.8964750117499608\n",
      "\n",
      "\n",
      "At random_state {1} the training accuracy test is 0.8986024942031711\n",
      "At random_state {1} the testing accuracy test is 0.8974463418455272\n",
      "\n",
      "\n",
      "At random_state {2} the training accuracy test is 0.8985163251237701\n",
      "At random_state {2} the testing accuracy test is 0.8977910073633087\n",
      "\n",
      "\n",
      "At random_state {3} the training accuracy test is 0.8979444757786551\n",
      "At random_state {3} the testing accuracy test is 0.9000783330722231\n",
      "\n",
      "\n",
      "At random_state {4} the training accuracy test is 0.8984614902550605\n",
      "At random_state {4} the testing accuracy test is 0.8980103399655335\n",
      "\n",
      "\n",
      "At random_state {5} the training accuracy test is 0.897952309331328\n",
      "At random_state {5} the testing accuracy test is 0.9000469998433338\n",
      "\n",
      "\n",
      "At random_state {6} the training accuracy test is 0.8983909882810052\n",
      "At random_state {6} the testing accuracy test is 0.8980416731944227\n",
      "\n",
      "\n",
      "At random_state {7} the training accuracy test is 0.898437989597042\n",
      "At random_state {7} the testing accuracy test is 0.8981043396522012\n",
      "\n",
      "\n",
      "At random_state {8} the training accuracy test is 0.898563326439807\n",
      "At random_state {8} the testing accuracy test is 0.8976030079899734\n",
      "\n",
      "\n",
      "At random_state {9} the training accuracy test is 0.8985711599924798\n",
      "At random_state {9} the testing accuracy test is 0.8975716747610841\n",
      "\n",
      "\n",
      "At random_state {10} the training accuracy test is 0.897866140251927\n",
      "At random_state {10} the testing accuracy test is 0.9003916653611155\n",
      "\n",
      "\n",
      "At random_state {11} the training accuracy test is 0.8986181613085167\n",
      "At random_state {11} the testing accuracy test is 0.8973836753877487\n",
      "\n",
      "\n",
      "At random_state {12} the training accuracy test is 0.8989863382841387\n",
      "At random_state {12} the testing accuracy test is 0.8959110136299546\n",
      "\n",
      "\n",
      "At random_state {13} the training accuracy test is 0.8977094691984709\n",
      "At random_state {13} the testing accuracy test is 0.9010183299389002\n",
      "\n",
      "\n",
      "At random_state {14} the training accuracy test is 0.8980854797267657\n",
      "At random_state {14} the testing accuracy test is 0.8995143349522168\n",
      "\n",
      "\n",
      "At random_state {15} the training accuracy test is 0.8982264836748762\n",
      "At random_state {15} the testing accuracy test is 0.8989503368322106\n",
      "\n",
      "\n",
      "At random_state {16} the training accuracy test is 0.8986964968352448\n",
      "At random_state {16} the testing accuracy test is 0.8970703430988564\n",
      "\n",
      "\n",
      "At random_state {17} the training accuracy test is 0.8986103277558438\n",
      "At random_state {17} the testing accuracy test is 0.8974150086166379\n",
      "\n",
      "\n",
      "At random_state {18} the training accuracy test is 0.8985554928871342\n",
      "At random_state {18} the testing accuracy test is 0.8976343412188627\n",
      "\n",
      "\n",
      "At random_state {19} the training accuracy test is 0.8978426395939086\n",
      "At random_state {19} the testing accuracy test is 0.9004856650477832\n",
      "\n",
      "\n",
      "At random_state {20} the training accuracy test is 0.8988375007833552\n",
      "At random_state {20} the testing accuracy test is 0.8965063449788501\n",
      "\n",
      "\n",
      "At random_state {21} the training accuracy test is 0.8983204863069499\n",
      "At random_state {21} the testing accuracy test is 0.8985743380855398\n",
      "\n",
      "\n",
      "At random_state {22} the training accuracy test is 0.8988688349940465\n",
      "At random_state {22} the testing accuracy test is 0.8963810120632931\n",
      "\n",
      "\n",
      "At random_state {23} the training accuracy test is 0.8986494955192079\n",
      "At random_state {23} the testing accuracy test is 0.8972583424721917\n",
      "\n",
      "\n",
      "At random_state {24} the training accuracy test is 0.8983909882810052\n",
      "At random_state {24} the testing accuracy test is 0.8982923390255366\n",
      "\n",
      "\n",
      "At random_state {25} the training accuracy test is 0.8985711599924798\n",
      "At random_state {25} the testing accuracy test is 0.8975716747610841\n",
      "\n",
      "\n",
      "At random_state {26} the training accuracy test is 0.8985868270978254\n",
      "At random_state {26} the testing accuracy test is 0.8975090083033057\n",
      "\n",
      "\n",
      "At random_state {27} the training accuracy test is 0.8989001692047377\n",
      "At random_state {27} the testing accuracy test is 0.8962556791477362\n",
      "\n",
      "\n",
      "At random_state {28} the training accuracy test is 0.8980228113053832\n",
      "At random_state {28} the testing accuracy test is 0.8997650007833308\n",
      "\n",
      "\n",
      "At random_state {29} the training accuracy test is 0.8980776461740929\n",
      "At random_state {29} the testing accuracy test is 0.899545668181106\n",
      "\n",
      "\n",
      "At random_state {30} the training accuracy test is 0.8985868270978254\n",
      "At random_state {30} the testing accuracy test is 0.8975090083033057\n",
      "\n",
      "\n",
      "At random_state {31} the training accuracy test is 0.8988688349940465\n",
      "At random_state {31} the testing accuracy test is 0.8961303462321792\n",
      "\n",
      "\n",
      "At random_state {32} the training accuracy test is 0.8980776461740929\n",
      "At random_state {32} the testing accuracy test is 0.8992950023499922\n",
      "\n",
      "\n",
      "At random_state {33} the training accuracy test is 0.8980306448580561\n",
      "At random_state {33} the testing accuracy test is 0.8997336675544415\n",
      "\n",
      "\n",
      "At random_state {34} the training accuracy test is 0.8980463119634017\n",
      "At random_state {34} the testing accuracy test is 0.899671001096663\n",
      "\n",
      "\n",
      "At random_state {35} the training accuracy test is 0.8983361534122956\n",
      "At random_state {35} the testing accuracy test is 0.8985116716277612\n",
      "\n",
      "\n",
      "At random_state {36} the training accuracy test is 0.8986024942031711\n",
      "At random_state {36} the testing accuracy test is 0.8974463418455272\n",
      "\n",
      "\n",
      "At random_state {37} the training accuracy test is 0.8985946606504982\n",
      "At random_state {37} the testing accuracy test is 0.8974776750744164\n",
      "\n",
      "\n",
      "At random_state {38} the training accuracy test is 0.8985084915710974\n",
      "At random_state {38} the testing accuracy test is 0.897822340592198\n",
      "\n",
      "\n",
      "At random_state {39} the training accuracy test is 0.8977173027511437\n",
      "At random_state {39} the testing accuracy test is 0.9009869967100109\n",
      "\n",
      "\n",
      "At random_state {40} the training accuracy test is 0.8986886632825719\n",
      "At random_state {40} the testing accuracy test is 0.8971016763277456\n",
      "\n",
      "\n",
      "At random_state {41} the training accuracy test is 0.898234317227549\n",
      "At random_state {41} the testing accuracy test is 0.8989190036033213\n",
      "\n",
      "\n",
      "At random_state {42} the training accuracy test is 0.8983518205176412\n",
      "At random_state {42} the testing accuracy test is 0.8984490051699827\n",
      "\n",
      "\n",
      "At random_state {43} the training accuracy test is 0.8984693238077333\n",
      "At random_state {43} the testing accuracy test is 0.8979790067366442\n",
      "\n",
      "\n",
      "At random_state {44} the training accuracy test is 0.8980463119634017\n",
      "At random_state {44} the testing accuracy test is 0.899671001096663\n",
      "\n",
      "\n",
      "At random_state {45} the training accuracy test is 0.8982813185435858\n",
      "At random_state {45} the testing accuracy test is 0.8987310042299859\n",
      "\n",
      "\n",
      "At random_state {46} the training accuracy test is 0.8981794823588394\n",
      "At random_state {46} the testing accuracy test is 0.899138336205546\n",
      "\n",
      "\n",
      "At random_state {47} the training accuracy test is 0.898398821833678\n",
      "At random_state {47} the testing accuracy test is 0.8982610057966474\n",
      "\n",
      "\n",
      "At random_state {48} the training accuracy test is 0.8983674876229868\n",
      "At random_state {48} the testing accuracy test is 0.8983863387122043\n",
      "\n",
      "\n",
      "At random_state {49} the training accuracy test is 0.8985398257817886\n",
      "At random_state {49} the testing accuracy test is 0.8976970076766411\n",
      "\n",
      "\n",
      "At random_state {50} the training accuracy test is 0.8986729961772263\n",
      "At random_state {50} the testing accuracy test is 0.897164342785524\n",
      "\n",
      "\n",
      "At random_state {51} the training accuracy test is 0.8990333396001755\n",
      "At random_state {51} the testing accuracy test is 0.8957230142566192\n",
      "\n",
      "\n",
      "At random_state {52} the training accuracy test is 0.8981246474901298\n",
      "At random_state {52} the testing accuracy test is 0.8993576688077707\n",
      "\n",
      "\n",
      "At random_state {53} the training accuracy test is 0.89762330011907\n",
      "At random_state {53} the testing accuracy test is 0.9013629954566819\n",
      "\n",
      "\n",
      "At random_state {54} the training accuracy test is 0.8982186501222035\n",
      "At random_state {54} the testing accuracy test is 0.8989816700610997\n",
      "\n",
      "\n",
      "At random_state {55} the training accuracy test is 0.898234317227549\n",
      "At random_state {55} the testing accuracy test is 0.8989190036033213\n",
      "\n",
      "\n",
      "At random_state {56} the training accuracy test is 0.8987826659146456\n",
      "At random_state {56} the testing accuracy test is 0.8967256775810747\n",
      "\n",
      "\n",
      "At random_state {57} the training accuracy test is 0.8980463119634017\n",
      "At random_state {57} the testing accuracy test is 0.899671001096663\n",
      "\n",
      "\n",
      "At random_state {58} the training accuracy test is 0.8983283198596227\n",
      "At random_state {58} the testing accuracy test is 0.8985430048566505\n",
      "\n",
      "\n",
      "At random_state {59} the training accuracy test is 0.8982969856489315\n",
      "At random_state {59} the testing accuracy test is 0.8986683377722074\n",
      "\n",
      "\n",
      "At random_state {60} the training accuracy test is 0.8988218336780096\n",
      "At random_state {60} the testing accuracy test is 0.8965690114366286\n",
      "\n",
      "\n",
      "At random_state {61} the training accuracy test is 0.8982186501222035\n",
      "At random_state {61} the testing accuracy test is 0.8989816700610997\n",
      "\n",
      "\n",
      "At random_state {62} the training accuracy test is 0.8983439869649683\n",
      "At random_state {62} the testing accuracy test is 0.898480338398872\n",
      "\n",
      "\n",
      "At random_state {63} the training accuracy test is 0.8986729961772263\n",
      "At random_state {63} the testing accuracy test is 0.897164342785524\n",
      "\n",
      "\n",
      "At random_state {64} the training accuracy test is 0.8981716488061666\n",
      "At random_state {64} the testing accuracy test is 0.8991696694344352\n",
      "\n",
      "\n",
      "At random_state {65} the training accuracy test is 0.8976624678824341\n",
      "At random_state {65} the testing accuracy test is 0.9012063293122357\n",
      "\n",
      "\n",
      "At random_state {66} the training accuracy test is 0.8981403145954754\n",
      "At random_state {66} the testing accuracy test is 0.8992950023499922\n",
      "\n",
      "\n",
      "At random_state {67} the training accuracy test is 0.8980384784107288\n",
      "At random_state {67} the testing accuracy test is 0.8997023343255522\n",
      "\n",
      "\n",
      "At random_state {68} the training accuracy test is 0.8977408034091621\n",
      "At random_state {68} the testing accuracy test is 0.9008929970233432\n",
      "\n",
      "\n",
      "At random_state {69} the training accuracy test is 0.8983126527542771\n",
      "At random_state {69} the testing accuracy test is 0.8986056713144289\n",
      "\n",
      "\n",
      "At random_state {70} the training accuracy test is 0.8982499843328946\n",
      "At random_state {70} the testing accuracy test is 0.8988563371455428\n",
      "\n",
      "\n",
      "At random_state {71} the training accuracy test is 0.8995895218399449\n",
      "At random_state {71} the testing accuracy test is 0.8934983550054834\n",
      "\n",
      "\n",
      "At random_state {72} the training accuracy test is 0.8977408034091621\n",
      "At random_state {72} the testing accuracy test is 0.9008929970233432\n",
      "\n",
      "\n",
      "At random_state {73} the training accuracy test is 0.8983048192016043\n",
      "At random_state {73} the testing accuracy test is 0.8986370045433182\n",
      "\n",
      "\n",
      "At random_state {74} the training accuracy test is 0.898155981700821\n",
      "At random_state {74} the testing accuracy test is 0.8992323358922137\n",
      "\n",
      "\n",
      "At random_state {75} the training accuracy test is 0.8984301560443693\n",
      "At random_state {75} the testing accuracy test is 0.8981356728810904\n",
      "\n",
      "\n",
      "At random_state {76} the training accuracy test is 0.8986964968352448\n",
      "At random_state {76} the testing accuracy test is 0.8970703430988564\n",
      "\n",
      "\n",
      "At random_state {77} the training accuracy test is 0.8981246474901298\n",
      "At random_state {77} the testing accuracy test is 0.8993576688077707\n",
      "\n",
      "\n",
      "At random_state {78} the training accuracy test is 0.8983048192016043\n",
      "At random_state {78} the testing accuracy test is 0.8986370045433182\n",
      "\n",
      "\n",
      "At random_state {79} the training accuracy test is 0.89806981262142\n",
      "At random_state {79} the testing accuracy test is 0.8995770014099953\n",
      "\n",
      "\n",
      "At random_state {80} the training accuracy test is 0.8988531678887008\n",
      "At random_state {80} the testing accuracy test is 0.8961930126899577\n",
      "\n",
      "\n",
      "At random_state {81} the training accuracy test is 0.8976703014351068\n",
      "At random_state {81} the testing accuracy test is 0.9011749960833464\n",
      "\n",
      "\n",
      "At random_state {82} the training accuracy test is 0.8980228113053832\n",
      "At random_state {82} the testing accuracy test is 0.8997650007833308\n",
      "\n",
      "\n",
      "At random_state {83} the training accuracy test is 0.897866140251927\n",
      "At random_state {83} the testing accuracy test is 0.9003916653611155\n",
      "\n",
      "\n",
      "At random_state {84} the training accuracy test is 0.8976076330137244\n",
      "At random_state {84} the testing accuracy test is 0.9014256619144603\n",
      "\n",
      "\n",
      "At random_state {85} the training accuracy test is 0.8983909882810052\n",
      "At random_state {85} the testing accuracy test is 0.8982923390255366\n",
      "\n",
      "\n",
      "At random_state {86} the training accuracy test is 0.8983518205176412\n",
      "At random_state {86} the testing accuracy test is 0.8984490051699827\n",
      "\n",
      "\n",
      "At random_state {87} the training accuracy test is 0.8986103277558438\n",
      "At random_state {87} the testing accuracy test is 0.897164342785524\n",
      "\n",
      "\n",
      "At random_state {88} the training accuracy test is 0.8978818073572726\n",
      "At random_state {88} the testing accuracy test is 0.900328998903337\n",
      "\n",
      "\n",
      "At random_state {89} the training accuracy test is 0.8982029830168579\n",
      "At random_state {89} the testing accuracy test is 0.8990443365188783\n",
      "\n",
      "\n",
      "At random_state {90} the training accuracy test is 0.8981481481481481\n",
      "At random_state {90} the testing accuracy test is 0.8992636691211029\n",
      "\n",
      "\n",
      "At random_state {91} the training accuracy test is 0.8982891520962587\n",
      "At random_state {91} the testing accuracy test is 0.8986996710010967\n",
      "\n",
      "\n",
      "At random_state {92} the training accuracy test is 0.8985319922291157\n",
      "At random_state {92} the testing accuracy test is 0.8977283409055303\n",
      "\n",
      "\n",
      "At random_state {93} the training accuracy test is 0.8983204863069499\n",
      "At random_state {93} the testing accuracy test is 0.8985743380855398\n",
      "\n",
      "\n",
      "At random_state {94} the training accuracy test is 0.8976076330137244\n",
      "At random_state {94} the testing accuracy test is 0.9014256619144603\n",
      "\n",
      "\n",
      "At random_state {95} the training accuracy test is 0.8981873159115122\n",
      "At random_state {95} the testing accuracy test is 0.8991070029766568\n",
      "\n",
      "\n",
      "At random_state {96} the training accuracy test is 0.8981246474901298\n",
      "At random_state {96} the testing accuracy test is 0.8993576688077707\n",
      "\n",
      "\n",
      "At random_state {97} the training accuracy test is 0.8981403145954754\n",
      "At random_state {97} the testing accuracy test is 0.8992950023499922\n",
      "\n",
      "\n",
      "At random_state {98} the training accuracy test is 0.8984771573604061\n",
      "At random_state {98} the testing accuracy test is 0.897947673507755\n",
      "\n",
      "\n",
      "At random_state {99} the training accuracy test is 0.8979209751206367\n",
      "At random_state {99} the testing accuracy test is 0.9001723327588909\n",
      "\n",
      "\n"
     ]
    }
   ],
   "source": [
    "for i in range(0,100):\n",
    "    x_train,x_test,y_train,y_test=train_test_split(x,y,test_size=0.20,random_state=i)\n",
    "    mb.fit(x_train,y_train)\n",
    "    predmb=mb.predict(x_train)\n",
    "    predmb1=mb.predict(x_test)\n",
    "    print('At random_state' ,{i}, 'the training accuracy test is', accuracy_score(y_train,predmb))\n",
    "    print('At random_state' ,{i}, 'the testing accuracy test is', accuracy_score(y_test,predmb1))\n",
    "    print('\\n')"
   ]
  },
  {
   "cell_type": "markdown",
   "id": "2c2698a1",
   "metadata": {},
   "source": [
    "## AT RANDOM STATE WE HAVE THE HIGHEST ACCURACY"
   ]
  },
  {
   "cell_type": "code",
   "execution_count": 108,
   "id": "118d8719",
   "metadata": {},
   "outputs": [],
   "source": [
    "x_train,x_test,y_train,y_test=train_test_split(x,y,test_size=0.20,random_state=65)"
   ]
  },
  {
   "cell_type": "code",
   "execution_count": 109,
   "id": "67107b7d",
   "metadata": {},
   "outputs": [
    {
     "data": {
      "text/html": [
       "<style>#sk-container-id-2 {color: black;background-color: white;}#sk-container-id-2 pre{padding: 0;}#sk-container-id-2 div.sk-toggleable {background-color: white;}#sk-container-id-2 label.sk-toggleable__label {cursor: pointer;display: block;width: 100%;margin-bottom: 0;padding: 0.3em;box-sizing: border-box;text-align: center;}#sk-container-id-2 label.sk-toggleable__label-arrow:before {content: \"▸\";float: left;margin-right: 0.25em;color: #696969;}#sk-container-id-2 label.sk-toggleable__label-arrow:hover:before {color: black;}#sk-container-id-2 div.sk-estimator:hover label.sk-toggleable__label-arrow:before {color: black;}#sk-container-id-2 div.sk-toggleable__content {max-height: 0;max-width: 0;overflow: hidden;text-align: left;background-color: #f0f8ff;}#sk-container-id-2 div.sk-toggleable__content pre {margin: 0.2em;color: black;border-radius: 0.25em;background-color: #f0f8ff;}#sk-container-id-2 input.sk-toggleable__control:checked~div.sk-toggleable__content {max-height: 200px;max-width: 100%;overflow: auto;}#sk-container-id-2 input.sk-toggleable__control:checked~label.sk-toggleable__label-arrow:before {content: \"▾\";}#sk-container-id-2 div.sk-estimator input.sk-toggleable__control:checked~label.sk-toggleable__label {background-color: #d4ebff;}#sk-container-id-2 div.sk-label input.sk-toggleable__control:checked~label.sk-toggleable__label {background-color: #d4ebff;}#sk-container-id-2 input.sk-hidden--visually {border: 0;clip: rect(1px 1px 1px 1px);clip: rect(1px, 1px, 1px, 1px);height: 1px;margin: -1px;overflow: hidden;padding: 0;position: absolute;width: 1px;}#sk-container-id-2 div.sk-estimator {font-family: monospace;background-color: #f0f8ff;border: 1px dotted black;border-radius: 0.25em;box-sizing: border-box;margin-bottom: 0.5em;}#sk-container-id-2 div.sk-estimator:hover {background-color: #d4ebff;}#sk-container-id-2 div.sk-parallel-item::after {content: \"\";width: 100%;border-bottom: 1px solid gray;flex-grow: 1;}#sk-container-id-2 div.sk-label:hover label.sk-toggleable__label {background-color: #d4ebff;}#sk-container-id-2 div.sk-serial::before {content: \"\";position: absolute;border-left: 1px solid gray;box-sizing: border-box;top: 0;bottom: 0;left: 50%;z-index: 0;}#sk-container-id-2 div.sk-serial {display: flex;flex-direction: column;align-items: center;background-color: white;padding-right: 0.2em;padding-left: 0.2em;position: relative;}#sk-container-id-2 div.sk-item {position: relative;z-index: 1;}#sk-container-id-2 div.sk-parallel {display: flex;align-items: stretch;justify-content: center;background-color: white;position: relative;}#sk-container-id-2 div.sk-item::before, #sk-container-id-2 div.sk-parallel-item::before {content: \"\";position: absolute;border-left: 1px solid gray;box-sizing: border-box;top: 0;bottom: 0;left: 50%;z-index: -1;}#sk-container-id-2 div.sk-parallel-item {display: flex;flex-direction: column;z-index: 1;position: relative;background-color: white;}#sk-container-id-2 div.sk-parallel-item:first-child::after {align-self: flex-end;width: 50%;}#sk-container-id-2 div.sk-parallel-item:last-child::after {align-self: flex-start;width: 50%;}#sk-container-id-2 div.sk-parallel-item:only-child::after {width: 0;}#sk-container-id-2 div.sk-dashed-wrapped {border: 1px dashed gray;margin: 0 0.4em 0.5em 0.4em;box-sizing: border-box;padding-bottom: 0.4em;background-color: white;}#sk-container-id-2 div.sk-label label {font-family: monospace;font-weight: bold;display: inline-block;line-height: 1.2em;}#sk-container-id-2 div.sk-label-container {text-align: center;}#sk-container-id-2 div.sk-container {/* jupyter's `normalize.less` sets `[hidden] { display: none; }` but bootstrap.min.css set `[hidden] { display: none !important; }` so we also need the `!important` here to be able to override the default hidden behavior on the sphinx rendered scikit-learn.org. See: https://github.com/scikit-learn/scikit-learn/issues/21755 */display: inline-block !important;position: relative;}#sk-container-id-2 div.sk-text-repr-fallback {display: none;}</style><div id=\"sk-container-id-2\" class=\"sk-top-container\"><div class=\"sk-text-repr-fallback\"><pre>MultinomialNB()</pre><b>In a Jupyter environment, please rerun this cell to show the HTML representation or trust the notebook. <br />On GitHub, the HTML representation is unable to render, please try loading this page with nbviewer.org.</b></div><div class=\"sk-container\" hidden><div class=\"sk-item\"><div class=\"sk-estimator sk-toggleable\"><input class=\"sk-toggleable__control sk-hidden--visually\" id=\"sk-estimator-id-2\" type=\"checkbox\" checked><label for=\"sk-estimator-id-2\" class=\"sk-toggleable__label sk-toggleable__label-arrow\">MultinomialNB</label><div class=\"sk-toggleable__content\"><pre>MultinomialNB()</pre></div></div></div></div></div>"
      ],
      "text/plain": [
       "MultinomialNB()"
      ]
     },
     "execution_count": 109,
     "metadata": {},
     "output_type": "execute_result"
    }
   ],
   "source": [
    "mb.fit(x_train,y_train)"
   ]
  },
  {
   "cell_type": "code",
   "execution_count": 110,
   "id": "89613f46",
   "metadata": {},
   "outputs": [],
   "source": [
    "PREMB=mb.predict(x_test)"
   ]
  },
  {
   "cell_type": "code",
   "execution_count": 113,
   "id": "f9af8298",
   "metadata": {},
   "outputs": [
    {
     "name": "stdout",
     "output_type": "stream",
     "text": [
      "0.907723640921197\n"
     ]
    }
   ],
   "source": [
    "print(accuracy_score(y_test,PREMB))"
   ]
  },
  {
   "cell_type": "code",
   "execution_count": 114,
   "id": "7d8cad66",
   "metadata": {},
   "outputs": [
    {
     "name": "stdout",
     "output_type": "stream",
     "text": [
      "[[28969     0]\n",
      " [ 2945     1]]\n"
     ]
    }
   ],
   "source": [
    "print(confusion_matrix(y_test,PREMB))"
   ]
  },
  {
   "cell_type": "code",
   "execution_count": 115,
   "id": "852aa56a",
   "metadata": {},
   "outputs": [
    {
     "name": "stdout",
     "output_type": "stream",
     "text": [
      "              precision    recall  f1-score   support\n",
      "\n",
      "           0       0.91      1.00      0.95     28969\n",
      "           1       1.00      0.00      0.00      2946\n",
      "\n",
      "    accuracy                           0.91     31915\n",
      "   macro avg       0.95      0.50      0.48     31915\n",
      "weighted avg       0.92      0.91      0.86     31915\n",
      "\n"
     ]
    }
   ],
   "source": [
    "print(classification_report(y_test,PREMB))"
   ]
  },
  {
   "cell_type": "markdown",
   "id": "6e844081",
   "metadata": {},
   "source": [
    "## AUC ROC CURVE "
   ]
  },
  {
   "cell_type": "code",
   "execution_count": 177,
   "id": "fb643687",
   "metadata": {},
   "outputs": [],
   "source": [
    "y_pred_prob2=mb.predict_proba(x_test)[:,1]"
   ]
  },
  {
   "cell_type": "code",
   "execution_count": 178,
   "id": "95a62d2c",
   "metadata": {},
   "outputs": [
    {
     "data": {
      "text/plain": [
       "array([0.15334667, 0.08304031, 0.15334667, ..., 0.08304031, 0.08304031,\n",
       "       0.08304031])"
      ]
     },
     "execution_count": 178,
     "metadata": {},
     "output_type": "execute_result"
    }
   ],
   "source": [
    "y_pred_prob2"
   ]
  },
  {
   "cell_type": "code",
   "execution_count": 179,
   "id": "675f8f9e",
   "metadata": {},
   "outputs": [],
   "source": [
    "tpr,fpr,thresholds=roc_curve(y_test,y_pred_prob2)"
   ]
  },
  {
   "cell_type": "code",
   "execution_count": 180,
   "id": "6b9cea22",
   "metadata": {},
   "outputs": [
    {
     "data": {
      "text/plain": [
       "array([0.00000000e+00, 0.00000000e+00, 0.00000000e+00, 0.00000000e+00,\n",
       "       0.00000000e+00, 1.04282536e-04, 1.73804227e-04, 2.08565072e-04,\n",
       "       1.98241101e-01, 1.98275862e-01, 1.98345384e-01, 1.98380145e-01,\n",
       "       9.91205506e-01, 9.95759177e-01, 9.97045328e-01, 9.97879588e-01,\n",
       "       9.98261958e-01, 9.98435762e-01, 9.98505284e-01, 9.98644327e-01,\n",
       "       9.98852892e-01, 9.99130979e-01, 9.99409066e-01, 1.00000000e+00])"
      ]
     },
     "execution_count": 180,
     "metadata": {},
     "output_type": "execute_result"
    }
   ],
   "source": [
    "tpr"
   ]
  },
  {
   "cell_type": "code",
   "execution_count": 181,
   "id": "46bf053c",
   "metadata": {},
   "outputs": [
    {
     "data": {
      "text/plain": [
       "array([0.00000000e+00, 3.17762949e-04, 6.35525898e-04, 1.27105180e-03,\n",
       "       9.21512552e-03, 7.94725135e-01, 7.94725135e-01, 7.94725135e-01,\n",
       "       9.99364474e-01, 9.99682237e-01, 9.99682237e-01, 9.99682237e-01,\n",
       "       1.00000000e+00, 1.00000000e+00, 1.00000000e+00, 1.00000000e+00,\n",
       "       1.00000000e+00, 1.00000000e+00, 1.00000000e+00, 1.00000000e+00,\n",
       "       1.00000000e+00, 1.00000000e+00, 1.00000000e+00, 1.00000000e+00])"
      ]
     },
     "execution_count": 181,
     "metadata": {},
     "output_type": "execute_result"
    }
   ],
   "source": [
    "fpr"
   ]
  },
  {
   "cell_type": "code",
   "execution_count": 182,
   "id": "c8d35366",
   "metadata": {},
   "outputs": [
    {
     "data": {
      "text/plain": [
       "array([1.52078036, 0.52078036, 0.47523223, 0.42011635, 0.35206425,\n",
       "       0.26591601, 0.21363955, 0.18007354, 0.15334667, 0.10773821,\n",
       "       0.10364824, 0.09345414, 0.08304031, 0.05693621, 0.04331876,\n",
       "       0.02930229, 0.02522182, 0.02213889, 0.01972754, 0.01778988,\n",
       "       0.01486899, 0.01374094, 0.00944267, 0.00392197])"
      ]
     },
     "execution_count": 182,
     "metadata": {},
     "output_type": "execute_result"
    }
   ],
   "source": [
    "thresholds"
   ]
  },
  {
   "cell_type": "code",
   "execution_count": 183,
   "id": "c255e7ad",
   "metadata": {},
   "outputs": [
    {
     "data": {
      "image/png": "[encoded data removed]",
      "text/plain": [
       "<Figure size 432x288 with 1 Axes>"
      ]
     },
     "metadata": {
      "needs_background": "light"
     },
     "output_type": "display_data"
    }
   ],
   "source": [
    "plt.plot([0,1],[0,1],'k--')\n",
    "plt.plot(tpr,fpr,label='MNB')\n",
    "plt.xlabel('FALSE_POSITIVE_RATE')\n",
    "plt.ylabel('TRUE_POSITIVE_RATE')\n",
    "plt.title('MNB CLASSIFIER')\n",
    "plt.show()"
   ]
  },
  {
   "cell_type": "code",
   "execution_count": 184,
   "id": "51870d0c",
   "metadata": {},
   "outputs": [
    {
     "data": {
      "text/plain": [
       "0.5017476962186209"
      ]
     },
     "execution_count": 184,
     "metadata": {},
     "output_type": "execute_result"
    }
   ],
   "source": [
    "auc_score2=roc_auc_score(y_test,(mb.predict(x_test)))\n",
    "auc_score"
   ]
  },
  {
   "cell_type": "markdown",
   "id": "26d4d0e5",
   "metadata": {},
   "source": [
    "## LOGISTIC REGRESSION "
   ]
  },
  {
   "cell_type": "code",
   "execution_count": 128,
   "id": "f8b210f3",
   "metadata": {},
   "outputs": [],
   "source": [
    "lr=LogisticRegression()"
   ]
  },
  {
   "cell_type": "code",
   "execution_count": 129,
   "id": "1e118803",
   "metadata": {},
   "outputs": [
    {
     "name": "stdout",
     "output_type": "stream",
     "text": [
      "At random_state {0} the training accuracy test is 0.8988453343360281\n",
      "At random_state {0} the testing accuracy test is 0.8964750117499608\n",
      "\n",
      "\n",
      "At random_state {1} the training accuracy test is 0.8986024942031711\n",
      "At random_state {1} the testing accuracy test is 0.8974463418455272\n",
      "\n",
      "\n",
      "At random_state {2} the training accuracy test is 0.8985163251237701\n",
      "At random_state {2} the testing accuracy test is 0.8977910073633087\n",
      "\n",
      "\n",
      "At random_state {3} the training accuracy test is 0.8979444757786551\n",
      "At random_state {3} the testing accuracy test is 0.9000783330722231\n",
      "\n",
      "\n",
      "At random_state {4} the training accuracy test is 0.8984614902550605\n",
      "At random_state {4} the testing accuracy test is 0.8980103399655335\n",
      "\n",
      "\n",
      "At random_state {5} the training accuracy test is 0.897952309331328\n",
      "At random_state {5} the testing accuracy test is 0.9000469998433338\n",
      "\n",
      "\n",
      "At random_state {6} the training accuracy test is 0.8983909882810052\n",
      "At random_state {6} the testing accuracy test is 0.8980416731944227\n",
      "\n",
      "\n",
      "At random_state {7} the training accuracy test is 0.898437989597042\n",
      "At random_state {7} the testing accuracy test is 0.8981043396522012\n",
      "\n",
      "\n",
      "At random_state {8} the training accuracy test is 0.898563326439807\n",
      "At random_state {8} the testing accuracy test is 0.8976030079899734\n",
      "\n",
      "\n",
      "At random_state {9} the training accuracy test is 0.8985711599924798\n",
      "At random_state {9} the testing accuracy test is 0.8975716747610841\n",
      "\n",
      "\n",
      "At random_state {10} the training accuracy test is 0.897866140251927\n",
      "At random_state {10} the testing accuracy test is 0.9003916653611155\n",
      "\n",
      "\n",
      "At random_state {11} the training accuracy test is 0.8986181613085167\n",
      "At random_state {11} the testing accuracy test is 0.8973836753877487\n",
      "\n",
      "\n",
      "At random_state {12} the training accuracy test is 0.8989863382841387\n",
      "At random_state {12} the testing accuracy test is 0.8959110136299546\n",
      "\n",
      "\n",
      "At random_state {13} the training accuracy test is 0.8977094691984709\n",
      "At random_state {13} the testing accuracy test is 0.9010183299389002\n",
      "\n",
      "\n",
      "At random_state {14} the training accuracy test is 0.8980854797267657\n",
      "At random_state {14} the testing accuracy test is 0.8995143349522168\n",
      "\n",
      "\n",
      "At random_state {15} the training accuracy test is 0.8982264836748762\n",
      "At random_state {15} the testing accuracy test is 0.8989503368322106\n",
      "\n",
      "\n",
      "At random_state {16} the training accuracy test is 0.8986964968352448\n",
      "At random_state {16} the testing accuracy test is 0.8970703430988564\n",
      "\n",
      "\n",
      "At random_state {17} the training accuracy test is 0.8986103277558438\n",
      "At random_state {17} the testing accuracy test is 0.8974150086166379\n",
      "\n",
      "\n",
      "At random_state {18} the training accuracy test is 0.8985554928871342\n",
      "At random_state {18} the testing accuracy test is 0.8976343412188627\n",
      "\n",
      "\n",
      "At random_state {19} the training accuracy test is 0.8978426395939086\n",
      "At random_state {19} the testing accuracy test is 0.9004856650477832\n",
      "\n",
      "\n",
      "At random_state {20} the training accuracy test is 0.8988375007833552\n",
      "At random_state {20} the testing accuracy test is 0.8965063449788501\n",
      "\n",
      "\n",
      "At random_state {21} the training accuracy test is 0.8983204863069499\n",
      "At random_state {21} the testing accuracy test is 0.8985743380855398\n",
      "\n",
      "\n",
      "At random_state {22} the training accuracy test is 0.8988688349940465\n",
      "At random_state {22} the testing accuracy test is 0.8963810120632931\n",
      "\n",
      "\n",
      "At random_state {23} the training accuracy test is 0.8986494955192079\n",
      "At random_state {23} the testing accuracy test is 0.8972583424721917\n",
      "\n",
      "\n",
      "At random_state {24} the training accuracy test is 0.8983909882810052\n",
      "At random_state {24} the testing accuracy test is 0.8982923390255366\n",
      "\n",
      "\n",
      "At random_state {25} the training accuracy test is 0.8985711599924798\n",
      "At random_state {25} the testing accuracy test is 0.8975716747610841\n",
      "\n",
      "\n",
      "At random_state {26} the training accuracy test is 0.8985868270978254\n",
      "At random_state {26} the testing accuracy test is 0.8975090083033057\n",
      "\n",
      "\n",
      "At random_state {27} the training accuracy test is 0.8989001692047377\n",
      "At random_state {27} the testing accuracy test is 0.8962556791477362\n",
      "\n",
      "\n",
      "At random_state {28} the training accuracy test is 0.8980228113053832\n",
      "At random_state {28} the testing accuracy test is 0.8997650007833308\n",
      "\n",
      "\n",
      "At random_state {29} the training accuracy test is 0.8980776461740929\n",
      "At random_state {29} the testing accuracy test is 0.899545668181106\n",
      "\n",
      "\n",
      "At random_state {30} the training accuracy test is 0.8985868270978254\n",
      "At random_state {30} the testing accuracy test is 0.8975090083033057\n",
      "\n",
      "\n",
      "At random_state {31} the training accuracy test is 0.8988688349940465\n",
      "At random_state {31} the testing accuracy test is 0.8961303462321792\n",
      "\n",
      "\n",
      "At random_state {32} the training accuracy test is 0.8980776461740929\n",
      "At random_state {32} the testing accuracy test is 0.8992950023499922\n",
      "\n",
      "\n",
      "At random_state {33} the training accuracy test is 0.8980306448580561\n",
      "At random_state {33} the testing accuracy test is 0.8997336675544415\n",
      "\n",
      "\n",
      "At random_state {34} the training accuracy test is 0.8980463119634017\n",
      "At random_state {34} the testing accuracy test is 0.899671001096663\n",
      "\n",
      "\n",
      "At random_state {35} the training accuracy test is 0.8983361534122956\n",
      "At random_state {35} the testing accuracy test is 0.8985116716277612\n",
      "\n",
      "\n",
      "At random_state {36} the training accuracy test is 0.8986024942031711\n",
      "At random_state {36} the testing accuracy test is 0.8974463418455272\n",
      "\n",
      "\n",
      "At random_state {37} the training accuracy test is 0.8985946606504982\n",
      "At random_state {37} the testing accuracy test is 0.8974776750744164\n",
      "\n",
      "\n",
      "At random_state {38} the training accuracy test is 0.8985084915710974\n",
      "At random_state {38} the testing accuracy test is 0.897822340592198\n",
      "\n",
      "\n",
      "At random_state {39} the training accuracy test is 0.8977173027511437\n",
      "At random_state {39} the testing accuracy test is 0.9009869967100109\n",
      "\n",
      "\n",
      "At random_state {40} the training accuracy test is 0.8986886632825719\n",
      "At random_state {40} the testing accuracy test is 0.8971016763277456\n",
      "\n",
      "\n",
      "At random_state {41} the training accuracy test is 0.898234317227549\n",
      "At random_state {41} the testing accuracy test is 0.8989190036033213\n",
      "\n",
      "\n",
      "At random_state {42} the training accuracy test is 0.8983518205176412\n",
      "At random_state {42} the testing accuracy test is 0.8984490051699827\n",
      "\n",
      "\n",
      "At random_state {43} the training accuracy test is 0.8984693238077333\n",
      "At random_state {43} the testing accuracy test is 0.8979790067366442\n",
      "\n",
      "\n",
      "At random_state {44} the training accuracy test is 0.8980463119634017\n",
      "At random_state {44} the testing accuracy test is 0.899671001096663\n",
      "\n",
      "\n",
      "At random_state {45} the training accuracy test is 0.8982813185435858\n",
      "At random_state {45} the testing accuracy test is 0.8987310042299859\n",
      "\n",
      "\n",
      "At random_state {46} the training accuracy test is 0.8981794823588394\n",
      "At random_state {46} the testing accuracy test is 0.899138336205546\n",
      "\n",
      "\n",
      "At random_state {47} the training accuracy test is 0.898398821833678\n",
      "At random_state {47} the testing accuracy test is 0.8982610057966474\n",
      "\n",
      "\n",
      "At random_state {48} the training accuracy test is 0.8983674876229868\n",
      "At random_state {48} the testing accuracy test is 0.8983863387122043\n",
      "\n",
      "\n",
      "At random_state {49} the training accuracy test is 0.8985398257817886\n",
      "At random_state {49} the testing accuracy test is 0.8976970076766411\n",
      "\n",
      "\n",
      "At random_state {50} the training accuracy test is 0.8986729961772263\n",
      "At random_state {50} the testing accuracy test is 0.897164342785524\n",
      "\n",
      "\n",
      "At random_state {51} the training accuracy test is 0.8990333396001755\n",
      "At random_state {51} the testing accuracy test is 0.8957230142566192\n",
      "\n",
      "\n",
      "At random_state {52} the training accuracy test is 0.8981246474901298\n",
      "At random_state {52} the testing accuracy test is 0.8993576688077707\n",
      "\n",
      "\n",
      "At random_state {53} the training accuracy test is 0.89762330011907\n",
      "At random_state {53} the testing accuracy test is 0.9013629954566819\n",
      "\n",
      "\n",
      "At random_state {54} the training accuracy test is 0.8982186501222035\n",
      "At random_state {54} the testing accuracy test is 0.8989816700610997\n",
      "\n",
      "\n",
      "At random_state {55} the training accuracy test is 0.898234317227549\n",
      "At random_state {55} the testing accuracy test is 0.8989190036033213\n",
      "\n",
      "\n",
      "At random_state {56} the training accuracy test is 0.8987826659146456\n",
      "At random_state {56} the testing accuracy test is 0.8967256775810747\n",
      "\n",
      "\n",
      "At random_state {57} the training accuracy test is 0.8980463119634017\n",
      "At random_state {57} the testing accuracy test is 0.899671001096663\n",
      "\n",
      "\n",
      "At random_state {58} the training accuracy test is 0.8983283198596227\n",
      "At random_state {58} the testing accuracy test is 0.8985430048566505\n",
      "\n",
      "\n",
      "At random_state {59} the training accuracy test is 0.8982969856489315\n",
      "At random_state {59} the testing accuracy test is 0.8986683377722074\n",
      "\n",
      "\n",
      "At random_state {60} the training accuracy test is 0.8988218336780096\n",
      "At random_state {60} the testing accuracy test is 0.8965690114366286\n",
      "\n",
      "\n",
      "At random_state {61} the training accuracy test is 0.8982186501222035\n",
      "At random_state {61} the testing accuracy test is 0.8989816700610997\n",
      "\n",
      "\n",
      "At random_state {62} the training accuracy test is 0.8983439869649683\n",
      "At random_state {62} the testing accuracy test is 0.898480338398872\n",
      "\n",
      "\n",
      "At random_state {63} the training accuracy test is 0.8986729961772263\n",
      "At random_state {63} the testing accuracy test is 0.897164342785524\n",
      "\n",
      "\n",
      "At random_state {64} the training accuracy test is 0.8981716488061666\n",
      "At random_state {64} the testing accuracy test is 0.8991696694344352\n",
      "\n",
      "\n",
      "At random_state {65} the training accuracy test is 0.8976624678824341\n",
      "At random_state {65} the testing accuracy test is 0.9012063293122357\n",
      "\n",
      "\n",
      "At random_state {66} the training accuracy test is 0.8981403145954754\n",
      "At random_state {66} the testing accuracy test is 0.8992950023499922\n",
      "\n",
      "\n",
      "At random_state {67} the training accuracy test is 0.8980384784107288\n",
      "At random_state {67} the testing accuracy test is 0.8997023343255522\n",
      "\n",
      "\n",
      "At random_state {68} the training accuracy test is 0.8977408034091621\n",
      "At random_state {68} the testing accuracy test is 0.9008929970233432\n",
      "\n",
      "\n",
      "At random_state {69} the training accuracy test is 0.8983126527542771\n",
      "At random_state {69} the testing accuracy test is 0.8986056713144289\n",
      "\n",
      "\n",
      "At random_state {70} the training accuracy test is 0.8982499843328946\n",
      "At random_state {70} the testing accuracy test is 0.8988563371455428\n",
      "\n",
      "\n",
      "At random_state {71} the training accuracy test is 0.8995895218399449\n",
      "At random_state {71} the testing accuracy test is 0.8934983550054834\n",
      "\n",
      "\n",
      "At random_state {72} the training accuracy test is 0.8977408034091621\n",
      "At random_state {72} the testing accuracy test is 0.9008929970233432\n",
      "\n",
      "\n",
      "At random_state {73} the training accuracy test is 0.8983048192016043\n",
      "At random_state {73} the testing accuracy test is 0.8986370045433182\n",
      "\n",
      "\n",
      "At random_state {74} the training accuracy test is 0.898155981700821\n",
      "At random_state {74} the testing accuracy test is 0.8992323358922137\n",
      "\n",
      "\n",
      "At random_state {75} the training accuracy test is 0.8984301560443693\n",
      "At random_state {75} the testing accuracy test is 0.8981356728810904\n",
      "\n",
      "\n",
      "At random_state {76} the training accuracy test is 0.8986964968352448\n",
      "At random_state {76} the testing accuracy test is 0.8970703430988564\n",
      "\n",
      "\n",
      "At random_state {77} the training accuracy test is 0.8981246474901298\n",
      "At random_state {77} the testing accuracy test is 0.8993576688077707\n",
      "\n",
      "\n",
      "At random_state {78} the training accuracy test is 0.8983048192016043\n",
      "At random_state {78} the testing accuracy test is 0.8986370045433182\n",
      "\n",
      "\n",
      "At random_state {79} the training accuracy test is 0.89806981262142\n",
      "At random_state {79} the testing accuracy test is 0.8995770014099953\n",
      "\n",
      "\n",
      "At random_state {80} the training accuracy test is 0.8988531678887008\n",
      "At random_state {80} the testing accuracy test is 0.8961930126899577\n",
      "\n",
      "\n",
      "At random_state {81} the training accuracy test is 0.8976703014351068\n",
      "At random_state {81} the testing accuracy test is 0.9011749960833464\n",
      "\n",
      "\n",
      "At random_state {82} the training accuracy test is 0.8980228113053832\n",
      "At random_state {82} the testing accuracy test is 0.8997650007833308\n",
      "\n",
      "\n",
      "At random_state {83} the training accuracy test is 0.897866140251927\n",
      "At random_state {83} the testing accuracy test is 0.9003916653611155\n",
      "\n",
      "\n",
      "At random_state {84} the training accuracy test is 0.8976076330137244\n",
      "At random_state {84} the testing accuracy test is 0.9014256619144603\n",
      "\n",
      "\n",
      "At random_state {85} the training accuracy test is 0.8983909882810052\n",
      "At random_state {85} the testing accuracy test is 0.8982923390255366\n",
      "\n",
      "\n",
      "At random_state {86} the training accuracy test is 0.8983518205176412\n",
      "At random_state {86} the testing accuracy test is 0.8984490051699827\n",
      "\n",
      "\n",
      "At random_state {87} the training accuracy test is 0.8986103277558438\n",
      "At random_state {87} the testing accuracy test is 0.897164342785524\n",
      "\n",
      "\n",
      "At random_state {88} the training accuracy test is 0.8978818073572726\n",
      "At random_state {88} the testing accuracy test is 0.900328998903337\n",
      "\n",
      "\n",
      "At random_state {89} the training accuracy test is 0.8982029830168579\n",
      "At random_state {89} the testing accuracy test is 0.8990443365188783\n",
      "\n",
      "\n",
      "At random_state {90} the training accuracy test is 0.8981481481481481\n",
      "At random_state {90} the testing accuracy test is 0.8992636691211029\n",
      "\n",
      "\n",
      "At random_state {91} the training accuracy test is 0.8982891520962587\n",
      "At random_state {91} the testing accuracy test is 0.8986996710010967\n",
      "\n",
      "\n",
      "At random_state {92} the training accuracy test is 0.8985319922291157\n",
      "At random_state {92} the testing accuracy test is 0.8977283409055303\n",
      "\n",
      "\n",
      "At random_state {93} the training accuracy test is 0.8983204863069499\n",
      "At random_state {93} the testing accuracy test is 0.8985743380855398\n",
      "\n",
      "\n",
      "At random_state {94} the training accuracy test is 0.8976076330137244\n",
      "At random_state {94} the testing accuracy test is 0.9014256619144603\n",
      "\n",
      "\n",
      "At random_state {95} the training accuracy test is 0.8981873159115122\n",
      "At random_state {95} the testing accuracy test is 0.8991070029766568\n",
      "\n",
      "\n",
      "At random_state {96} the training accuracy test is 0.8981246474901298\n",
      "At random_state {96} the testing accuracy test is 0.8993576688077707\n",
      "\n",
      "\n",
      "At random_state {97} the training accuracy test is 0.8981403145954754\n",
      "At random_state {97} the testing accuracy test is 0.8992950023499922\n",
      "\n",
      "\n",
      "At random_state {98} the training accuracy test is 0.8984771573604061\n",
      "At random_state {98} the testing accuracy test is 0.897947673507755\n",
      "\n",
      "\n",
      "At random_state {99} the training accuracy test is 0.8979209751206367\n",
      "At random_state {99} the testing accuracy test is 0.9001723327588909\n",
      "\n",
      "\n"
     ]
    }
   ],
   "source": [
    "for i in range(0,100):\n",
    "    x_train,x_test,y_train,y_test=train_test_split(x,y,test_size=0.20,random_state=i)\n",
    "    lr.fit(x_train,y_train)\n",
    "    predr=lr.predict(x_train)\n",
    "    pred=lr.predict(x_test)\n",
    "    print('At random_state' ,{i}, 'the training accuracy test is', accuracy_score(y_train,predr))\n",
    "    print('At random_state' ,{i}, 'the testing accuracy test is', accuracy_score(y_test,pred))\n",
    "    print('\\n')"
   ]
  },
  {
   "cell_type": "markdown",
   "id": "fe0457ef",
   "metadata": {},
   "source": [
    "## AT RANDOM STATE 94 WE HAVE THE HIGHEST ACCURACY OF 90.14%"
   ]
  },
  {
   "cell_type": "code",
   "execution_count": 185,
   "id": "934b733c",
   "metadata": {},
   "outputs": [],
   "source": [
    "x_train,x_test,y_train,y_test=train_test_split(x,y,test_size=0.20,random_state=94)"
   ]
  },
  {
   "cell_type": "code",
   "execution_count": 186,
   "id": "e2a37625",
   "metadata": {},
   "outputs": [
    {
     "data": {
      "text/html": [
       "<style>#sk-container-id-6 {color: black;background-color: white;}#sk-container-id-6 pre{padding: 0;}#sk-container-id-6 div.sk-toggleable {background-color: white;}#sk-container-id-6 label.sk-toggleable__label {cursor: pointer;display: block;width: 100%;margin-bottom: 0;padding: 0.3em;box-sizing: border-box;text-align: center;}#sk-container-id-6 label.sk-toggleable__label-arrow:before {content: \"▸\";float: left;margin-right: 0.25em;color: #696969;}#sk-container-id-6 label.sk-toggleable__label-arrow:hover:before {color: black;}#sk-container-id-6 div.sk-estimator:hover label.sk-toggleable__label-arrow:before {color: black;}#sk-container-id-6 div.sk-toggleable__content {max-height: 0;max-width: 0;overflow: hidden;text-align: left;background-color: #f0f8ff;}#sk-container-id-6 div.sk-toggleable__content pre {margin: 0.2em;color: black;border-radius: 0.25em;background-color: #f0f8ff;}#sk-container-id-6 input.sk-toggleable__control:checked~div.sk-toggleable__content {max-height: 200px;max-width: 100%;overflow: auto;}#sk-container-id-6 input.sk-toggleable__control:checked~label.sk-toggleable__label-arrow:before {content: \"▾\";}#sk-container-id-6 div.sk-estimator input.sk-toggleable__control:checked~label.sk-toggleable__label {background-color: #d4ebff;}#sk-container-id-6 div.sk-label input.sk-toggleable__control:checked~label.sk-toggleable__label {background-color: #d4ebff;}#sk-container-id-6 input.sk-hidden--visually {border: 0;clip: rect(1px 1px 1px 1px);clip: rect(1px, 1px, 1px, 1px);height: 1px;margin: -1px;overflow: hidden;padding: 0;position: absolute;width: 1px;}#sk-container-id-6 div.sk-estimator {font-family: monospace;background-color: #f0f8ff;border: 1px dotted black;border-radius: 0.25em;box-sizing: border-box;margin-bottom: 0.5em;}#sk-container-id-6 div.sk-estimator:hover {background-color: #d4ebff;}#sk-container-id-6 div.sk-parallel-item::after {content: \"\";width: 100%;border-bottom: 1px solid gray;flex-grow: 1;}#sk-container-id-6 div.sk-label:hover label.sk-toggleable__label {background-color: #d4ebff;}#sk-container-id-6 div.sk-serial::before {content: \"\";position: absolute;border-left: 1px solid gray;box-sizing: border-box;top: 0;bottom: 0;left: 50%;z-index: 0;}#sk-container-id-6 div.sk-serial {display: flex;flex-direction: column;align-items: center;background-color: white;padding-right: 0.2em;padding-left: 0.2em;position: relative;}#sk-container-id-6 div.sk-item {position: relative;z-index: 1;}#sk-container-id-6 div.sk-parallel {display: flex;align-items: stretch;justify-content: center;background-color: white;position: relative;}#sk-container-id-6 div.sk-item::before, #sk-container-id-6 div.sk-parallel-item::before {content: \"\";position: absolute;border-left: 1px solid gray;box-sizing: border-box;top: 0;bottom: 0;left: 50%;z-index: -1;}#sk-container-id-6 div.sk-parallel-item {display: flex;flex-direction: column;z-index: 1;position: relative;background-color: white;}#sk-container-id-6 div.sk-parallel-item:first-child::after {align-self: flex-end;width: 50%;}#sk-container-id-6 div.sk-parallel-item:last-child::after {align-self: flex-start;width: 50%;}#sk-container-id-6 div.sk-parallel-item:only-child::after {width: 0;}#sk-container-id-6 div.sk-dashed-wrapped {border: 1px dashed gray;margin: 0 0.4em 0.5em 0.4em;box-sizing: border-box;padding-bottom: 0.4em;background-color: white;}#sk-container-id-6 div.sk-label label {font-family: monospace;font-weight: bold;display: inline-block;line-height: 1.2em;}#sk-container-id-6 div.sk-label-container {text-align: center;}#sk-container-id-6 div.sk-container {/* jupyter's `normalize.less` sets `[hidden] { display: none; }` but bootstrap.min.css set `[hidden] { display: none !important; }` so we also need the `!important` here to be able to override the default hidden behavior on the sphinx rendered scikit-learn.org. See: https://github.com/scikit-learn/scikit-learn/issues/21755 */display: inline-block !important;position: relative;}#sk-container-id-6 div.sk-text-repr-fallback {display: none;}</style><div id=\"sk-container-id-6\" class=\"sk-top-container\"><div class=\"sk-text-repr-fallback\"><pre>LogisticRegression()</pre><b>In a Jupyter environment, please rerun this cell to show the HTML representation or trust the notebook. <br />On GitHub, the HTML representation is unable to render, please try loading this page with nbviewer.org.</b></div><div class=\"sk-container\" hidden><div class=\"sk-item\"><div class=\"sk-estimator sk-toggleable\"><input class=\"sk-toggleable__control sk-hidden--visually\" id=\"sk-estimator-id-8\" type=\"checkbox\" checked><label for=\"sk-estimator-id-8\" class=\"sk-toggleable__label sk-toggleable__label-arrow\">LogisticRegression</label><div class=\"sk-toggleable__content\"><pre>LogisticRegression()</pre></div></div></div></div></div>"
      ],
      "text/plain": [
       "LogisticRegression()"
      ]
     },
     "execution_count": 186,
     "metadata": {},
     "output_type": "execute_result"
    }
   ],
   "source": [
    "lr.fit(x_train,y_train)"
   ]
  },
  {
   "cell_type": "code",
   "execution_count": 187,
   "id": "6937f5d4",
   "metadata": {},
   "outputs": [],
   "source": [
    "PRELR=lr.predict(x_test)"
   ]
  },
  {
   "cell_type": "code",
   "execution_count": 188,
   "id": "1720b740",
   "metadata": {},
   "outputs": [
    {
     "name": "stdout",
     "output_type": "stream",
     "text": [
      "0.9014256619144603\n"
     ]
    }
   ],
   "source": [
    "print(accuracy_score(y_test,PRELR))"
   ]
  },
  {
   "cell_type": "code",
   "execution_count": 189,
   "id": "58433264",
   "metadata": {},
   "outputs": [
    {
     "name": "stdout",
     "output_type": "stream",
     "text": [
      "[[28768     0]\n",
      " [ 3146     1]]\n"
     ]
    }
   ],
   "source": [
    "print(confusion_matrix(y_test,PRELR))"
   ]
  },
  {
   "cell_type": "code",
   "execution_count": 190,
   "id": "952fab97",
   "metadata": {},
   "outputs": [
    {
     "name": "stdout",
     "output_type": "stream",
     "text": [
      "              precision    recall  f1-score   support\n",
      "\n",
      "           0       0.90      1.00      0.95     28768\n",
      "           1       1.00      0.00      0.00      3147\n",
      "\n",
      "    accuracy                           0.90     31915\n",
      "   macro avg       0.95      0.50      0.47     31915\n",
      "weighted avg       0.91      0.90      0.85     31915\n",
      "\n"
     ]
    }
   ],
   "source": [
    "print(classification_report(y_test,PRELR))"
   ]
  },
  {
   "cell_type": "markdown",
   "id": "342491ab",
   "metadata": {},
   "source": [
    "## AUC ROC CURVE"
   ]
  },
  {
   "cell_type": "code",
   "execution_count": 191,
   "id": "31ae600d",
   "metadata": {},
   "outputs": [],
   "source": [
    "y_pred_prob3=lr.predict_proba(x_test)[:,1]"
   ]
  },
  {
   "cell_type": "code",
   "execution_count": 192,
   "id": "dd793a0d",
   "metadata": {},
   "outputs": [
    {
     "data": {
      "text/plain": [
       "array([0.09943729, 0.09943729, 0.09943729, ..., 0.09943729, 0.09943729,\n",
       "       0.09943729])"
      ]
     },
     "execution_count": 192,
     "metadata": {},
     "output_type": "execute_result"
    }
   ],
   "source": [
    "y_pred_prob3"
   ]
  },
  {
   "cell_type": "code",
   "execution_count": 193,
   "id": "008aec9e",
   "metadata": {},
   "outputs": [],
   "source": [
    "tpr,fpr,thresholds=roc_curve(y_test,y_pred_prob3)"
   ]
  },
  {
   "cell_type": "code",
   "execution_count": 194,
   "id": "0c83462b",
   "metadata": {},
   "outputs": [
    {
     "data": {
      "text/plain": [
       "array([0.00000000e+00, 0.00000000e+00, 0.00000000e+00, 0.00000000e+00,\n",
       "       3.47608454e-05, 1.73804227e-04, 9.90301724e-01, 9.95654894e-01,\n",
       "       9.97184372e-01, 9.97566741e-01, 9.98088154e-01, 9.98713849e-01,\n",
       "       9.98818131e-01, 9.98887653e-01, 9.98991935e-01, 9.99235261e-01,\n",
       "       9.99339544e-01, 9.99548109e-01, 9.99652392e-01, 9.99687152e-01,\n",
       "       1.00000000e+00])"
      ]
     },
     "execution_count": 194,
     "metadata": {},
     "output_type": "execute_result"
    }
   ],
   "source": [
    "tpr"
   ]
  },
  {
   "cell_type": "code",
   "execution_count": 195,
   "id": "f0965a81",
   "metadata": {},
   "outputs": [
    {
     "data": {
      "text/plain": [
       "array([0.00000000e+00, 3.17762949e-04, 6.35525898e-04, 1.58881474e-03,\n",
       "       1.58881474e-03, 8.89736257e-03, 9.99364474e-01, 1.00000000e+00,\n",
       "       1.00000000e+00, 1.00000000e+00, 1.00000000e+00, 1.00000000e+00,\n",
       "       1.00000000e+00, 1.00000000e+00, 1.00000000e+00, 1.00000000e+00,\n",
       "       1.00000000e+00, 1.00000000e+00, 1.00000000e+00, 1.00000000e+00,\n",
       "       1.00000000e+00])"
      ]
     },
     "execution_count": 195,
     "metadata": {},
     "output_type": "execute_result"
    }
   ],
   "source": [
    "fpr"
   ]
  },
  {
   "cell_type": "code",
   "execution_count": 196,
   "id": "bab405b2",
   "metadata": {},
   "outputs": [
    {
     "data": {
      "text/plain": [
       "array([1.6169442 , 0.6169442 , 0.35205894, 0.30663623, 0.26725601,\n",
       "       0.19763533, 0.09943729, 0.09153583, 0.08514205, 0.07984915,\n",
       "       0.07538182, 0.07154812, 0.0682107 , 0.06526909, 0.06264835,\n",
       "       0.06029163, 0.05620467, 0.05441324, 0.0512252 , 0.04603758,\n",
       "       0.02911914])"
      ]
     },
     "execution_count": 196,
     "metadata": {},
     "output_type": "execute_result"
    }
   ],
   "source": [
    "thresholds"
   ]
  },
  {
   "cell_type": "code",
   "execution_count": null,
   "id": "4487d1aa",
   "metadata": {},
   "outputs": [],
   "source": [
    "plt.plot([0,1],[0,1],'k--')\n",
    "plt.plot(tpr,fpr,label='LR')\n",
    "plt.xlabel('FALSE_POSITIVE_RATE')\n",
    "plt.ylabel('TRUE_POSITIVE_RATE')\n",
    "plt.title('LOGISTIC REGRESSION')\n",
    "plt.show()"
   ]
  },
  {
   "cell_type": "code",
   "execution_count": 197,
   "id": "4b7fe49f",
   "metadata": {},
   "outputs": [
    {
     "data": {
      "text/plain": [
       "0.5017476962186209"
      ]
     },
     "execution_count": 197,
     "metadata": {},
     "output_type": "execute_result"
    }
   ],
   "source": [
    "auc_score3=roc_auc_score(y_test,(lr.predict(x_test)))\n",
    "auc_score"
   ]
  },
  {
   "cell_type": "markdown",
   "id": "aeb90950",
   "metadata": {},
   "source": [
    "## DECISION TREE CLASSIFIER"
   ]
  },
  {
   "cell_type": "code",
   "execution_count": 132,
   "id": "cbbb049c",
   "metadata": {},
   "outputs": [],
   "source": [
    "dtc=DecisionTreeClassifier()"
   ]
  },
  {
   "cell_type": "code",
   "execution_count": 133,
   "id": "721c3f5a",
   "metadata": {},
   "outputs": [
    {
     "name": "stdout",
     "output_type": "stream",
     "text": [
      "At random_state {0} the training accuracy test is 0.9998824967099079\n",
      "At random_state {0} the testing accuracy test is 0.8974150086166379\n",
      "\n",
      "\n",
      "At random_state {1} the training accuracy test is 0.9998511624992167\n",
      "At random_state {1} the testing accuracy test is 0.8987936706877644\n",
      "\n",
      "\n",
      "At random_state {2} the training accuracy test is 0.9998433289465438\n",
      "At random_state {2} the testing accuracy test is 0.8988876703744321\n",
      "\n",
      "\n",
      "At random_state {3} the training accuracy test is 0.999874663157235\n",
      "At random_state {3} the testing accuracy test is 0.900861663794454\n",
      "\n",
      "\n",
      "At random_state {4} the training accuracy test is 0.9998589960518894\n",
      "At random_state {4} the testing accuracy test is 0.8989190036033213\n",
      "\n",
      "\n",
      "At random_state {5} the training accuracy test is 0.9998511624992167\n",
      "At random_state {5} the testing accuracy test is 0.9010809963966787\n",
      "\n",
      "\n",
      "At random_state {6} the training accuracy test is 0.9998824967099079\n",
      "At random_state {6} the testing accuracy test is 0.8989190036033213\n",
      "\n",
      "\n",
      "At random_state {7} the training accuracy test is 0.9998589960518894\n",
      "At random_state {7} the testing accuracy test is 0.8992010026633245\n",
      "\n",
      "\n",
      "At random_state {8} the training accuracy test is 0.9998511624992167\n",
      "At random_state {8} the testing accuracy test is 0.8986683377722074\n",
      "\n",
      "\n",
      "At random_state {9} the training accuracy test is 0.9998903302625807\n",
      "At random_state {9} the testing accuracy test is 0.8986056713144289\n",
      "\n",
      "\n",
      "At random_state {10} the training accuracy test is 0.999874663157235\n",
      "At random_state {10} the testing accuracy test is 0.9012689957700141\n",
      "\n",
      "\n",
      "At random_state {11} the training accuracy test is 0.9998589960518894\n",
      "At random_state {11} the testing accuracy test is 0.8981356728810904\n",
      "\n",
      "\n",
      "At random_state {12} the training accuracy test is 0.9998433289465438\n",
      "At random_state {12} the testing accuracy test is 0.8971330095566348\n",
      "\n",
      "\n",
      "At random_state {13} the training accuracy test is 0.9998511624992167\n",
      "At random_state {13} the testing accuracy test is 0.9018016606611311\n",
      "\n",
      "\n",
      "At random_state {14} the training accuracy test is 0.999874663157235\n",
      "At random_state {14} the testing accuracy test is 0.90020366598778\n",
      "\n",
      "\n",
      "At random_state {15} the training accuracy test is 0.9998903302625807\n",
      "At random_state {15} the testing accuracy test is 0.8999530001566661\n",
      "\n",
      "\n",
      "At random_state {16} the training accuracy test is 0.9998589960518894\n",
      "At random_state {16} the testing accuracy test is 0.897822340592198\n",
      "\n",
      "\n",
      "At random_state {17} the training accuracy test is 0.9998433289465438\n",
      "At random_state {17} the testing accuracy test is 0.8982610057966474\n",
      "\n",
      "\n",
      "At random_state {18} the training accuracy test is 0.9998433289465438\n",
      "At random_state {18} the testing accuracy test is 0.8986370045433182\n",
      "\n",
      "\n",
      "At random_state {19} the training accuracy test is 0.9998511624992167\n",
      "At random_state {19} the testing accuracy test is 0.9014883283722388\n",
      "\n",
      "\n",
      "At random_state {20} the training accuracy test is 0.9998824967099079\n",
      "At random_state {20} the testing accuracy test is 0.8975403415321949\n",
      "\n",
      "\n",
      "At random_state {21} the training accuracy test is 0.9998433289465438\n",
      "At random_state {21} the testing accuracy test is 0.8995143349522168\n",
      "\n",
      "\n",
      "At random_state {22} the training accuracy test is 0.999874663157235\n",
      "At random_state {22} the testing accuracy test is 0.8973523421588595\n",
      "\n",
      "\n",
      "At random_state {23} the training accuracy test is 0.9998198282885254\n",
      "At random_state {23} the testing accuracy test is 0.8980416731944227\n",
      "\n",
      "\n",
      "At random_state {24} the training accuracy test is 0.9998824967099079\n",
      "At random_state {24} the testing accuracy test is 0.8992636691211029\n",
      "\n",
      "\n",
      "At random_state {25} the training accuracy test is 0.9998354953938711\n",
      "At random_state {25} the testing accuracy test is 0.8986056713144289\n",
      "\n",
      "\n",
      "At random_state {26} the training accuracy test is 0.9998589960518894\n",
      "At random_state {26} the testing accuracy test is 0.8986683377722074\n",
      "\n",
      "\n",
      "At random_state {27} the training accuracy test is 0.9998354953938711\n",
      "At random_state {27} the testing accuracy test is 0.8974463418455272\n",
      "\n",
      "\n",
      "At random_state {28} the training accuracy test is 0.999874663157235\n",
      "At random_state {28} the testing accuracy test is 0.9007049976500079\n",
      "\n",
      "\n",
      "At random_state {29} the training accuracy test is 0.9998276618411982\n",
      "At random_state {29} the testing accuracy test is 0.9003603321322262\n",
      "\n",
      "\n",
      "At random_state {30} the training accuracy test is 0.999874663157235\n",
      "At random_state {30} the testing accuracy test is 0.898480338398872\n",
      "\n",
      "\n",
      "At random_state {31} the training accuracy test is 0.9998354953938711\n",
      "At random_state {31} the testing accuracy test is 0.8972583424721917\n",
      "\n",
      "\n",
      "At random_state {32} the training accuracy test is 0.9998668296045623\n",
      "At random_state {32} the testing accuracy test is 0.9006109979633401\n",
      "\n",
      "\n",
      "At random_state {33} the training accuracy test is 0.9998668296045623\n",
      "At random_state {33} the testing accuracy test is 0.9007676641077863\n",
      "\n",
      "\n",
      "At random_state {34} the training accuracy test is 0.9998589960518894\n",
      "At random_state {34} the testing accuracy test is 0.9004229985900047\n",
      "\n",
      "\n",
      "At random_state {35} the training accuracy test is 0.9998511624992167\n",
      "At random_state {35} the testing accuracy test is 0.8992950023499922\n",
      "\n",
      "\n",
      "At random_state {36} the training accuracy test is 0.9998589960518894\n",
      "At random_state {36} the testing accuracy test is 0.8988250039166537\n",
      "\n",
      "\n",
      "At random_state {37} the training accuracy test is 0.9998668296045623\n",
      "At random_state {37} the testing accuracy test is 0.8986056713144289\n",
      "\n",
      "\n",
      "At random_state {38} the training accuracy test is 0.9998824967099079\n",
      "At random_state {38} the testing accuracy test is 0.8988250039166537\n",
      "\n",
      "\n",
      "At random_state {39} the training accuracy test is 0.999874663157235\n",
      "At random_state {39} the testing accuracy test is 0.9016763277455742\n",
      "\n",
      "\n",
      "At random_state {40} the training accuracy test is 0.999874663157235\n",
      "At random_state {40} the testing accuracy test is 0.8982923390255366\n",
      "\n",
      "\n",
      "At random_state {41} the training accuracy test is 0.9998433289465438\n",
      "At random_state {41} the testing accuracy test is 0.8999843333855554\n",
      "\n",
      "\n",
      "At random_state {42} the training accuracy test is 0.999874663157235\n",
      "At random_state {42} the testing accuracy test is 0.899013003289989\n",
      "\n",
      "\n",
      "At random_state {43} the training accuracy test is 0.9998668296045623\n",
      "At random_state {43} the testing accuracy test is 0.8988563371455428\n",
      "\n",
      "\n",
      "At random_state {44} the training accuracy test is 0.999874663157235\n",
      "At random_state {44} the testing accuracy test is 0.9003603321322262\n",
      "\n",
      "\n",
      "At random_state {45} the training accuracy test is 0.9998589960518894\n",
      "At random_state {45} the testing accuracy test is 0.8996396678677738\n",
      "\n",
      "\n",
      "At random_state {46} the training accuracy test is 0.9998668296045623\n",
      "At random_state {46} the testing accuracy test is 0.9001409995300016\n",
      "\n",
      "\n",
      "At random_state {47} the training accuracy test is 0.999874663157235\n",
      "At random_state {47} the testing accuracy test is 0.8990756697477675\n",
      "\n",
      "\n",
      "At random_state {48} the training accuracy test is 0.999874663157235\n",
      "At random_state {48} the testing accuracy test is 0.8994516684944384\n",
      "\n",
      "\n",
      "At random_state {49} the training accuracy test is 0.9998668296045623\n",
      "At random_state {49} the testing accuracy test is 0.898480338398872\n",
      "\n",
      "\n",
      "At random_state {50} the training accuracy test is 0.9998511624992167\n",
      "At random_state {50} the testing accuracy test is 0.8980103399655335\n",
      "\n",
      "\n",
      "At random_state {51} the training accuracy test is 0.9998981638152535\n",
      "At random_state {51} the testing accuracy test is 0.8965063449788501\n",
      "\n",
      "\n",
      "At random_state {52} the training accuracy test is 0.9999059973679263\n",
      "At random_state {52} the testing accuracy test is 0.9003916653611155\n",
      "\n",
      "\n",
      "At random_state {53} the training accuracy test is 0.9998433289465438\n",
      "At random_state {53} the testing accuracy test is 0.9021149929500235\n",
      "\n",
      "\n",
      "At random_state {54} the training accuracy test is 0.9998903302625807\n",
      "At random_state {54} the testing accuracy test is 0.899671001096663\n",
      "\n",
      "\n",
      "At random_state {55} the training accuracy test is 0.9998354953938711\n",
      "At random_state {55} the testing accuracy test is 0.8997963340122199\n",
      "\n",
      "\n",
      "At random_state {56} the training accuracy test is 0.9998668296045623\n",
      "At random_state {56} the testing accuracy test is 0.8980103399655335\n",
      "\n",
      "\n",
      "At random_state {57} the training accuracy test is 0.9998433289465438\n",
      "At random_state {57} the testing accuracy test is 0.900328998903337\n",
      "\n",
      "\n",
      "At random_state {58} the training accuracy test is 0.999874663157235\n",
      "At random_state {58} the testing accuracy test is 0.8996396678677738\n",
      "\n",
      "\n",
      "At random_state {59} the training accuracy test is 0.9998511624992167\n",
      "At random_state {59} the testing accuracy test is 0.8997963340122199\n",
      "\n",
      "\n",
      "At random_state {60} the training accuracy test is 0.9998354953938711\n",
      "At random_state {60} the testing accuracy test is 0.8975403415321949\n",
      "\n",
      "\n",
      "At random_state {61} the training accuracy test is 0.9998589960518894\n",
      "At random_state {61} the testing accuracy test is 0.8996396678677738\n",
      "\n",
      "\n",
      "At random_state {62} the training accuracy test is 0.9998903302625807\n",
      "At random_state {62} the testing accuracy test is 0.8992636691211029\n",
      "\n",
      "\n",
      "At random_state {63} the training accuracy test is 0.9998198282885254\n",
      "At random_state {63} the testing accuracy test is 0.8978536738210873\n",
      "\n",
      "\n",
      "At random_state {64} the training accuracy test is 0.9998433289465438\n",
      "At random_state {64} the testing accuracy test is 0.9000783330722231\n",
      "\n",
      "\n",
      "At random_state {65} the training accuracy test is 0.9998668296045623\n",
      "At random_state {65} the testing accuracy test is 0.9023656587811374\n",
      "\n",
      "\n",
      "At random_state {66} the training accuracy test is 0.9998668296045623\n",
      "At random_state {66} the testing accuracy test is 0.9002349992166693\n",
      "\n",
      "\n",
      "At random_state {67} the training accuracy test is 0.9998668296045623\n",
      "At random_state {67} the testing accuracy test is 0.9004543318188939\n",
      "\n",
      "\n",
      "At random_state {68} the training accuracy test is 0.9998589960518894\n",
      "At random_state {68} the testing accuracy test is 0.9017389942033527\n",
      "\n",
      "\n",
      "At random_state {69} the training accuracy test is 0.9998511624992167\n",
      "At random_state {69} the testing accuracy test is 0.8996083346388846\n",
      "\n",
      "\n",
      "At random_state {70} the training accuracy test is 0.9998354953938711\n",
      "At random_state {70} the testing accuracy test is 0.8996396678677738\n",
      "\n",
      "\n",
      "At random_state {71} the training accuracy test is 0.9998668296045623\n",
      "At random_state {71} the testing accuracy test is 0.8943443521854927\n",
      "\n",
      "\n",
      "At random_state {72} the training accuracy test is 0.9998668296045623\n",
      "At random_state {72} the testing accuracy test is 0.9017076609744634\n",
      "\n",
      "\n",
      "At random_state {73} the training accuracy test is 0.999874663157235\n",
      "At random_state {73} the testing accuracy test is 0.8992950023499922\n",
      "\n",
      "\n",
      "At random_state {74} the training accuracy test is 0.9998433289465438\n",
      "At random_state {74} the testing accuracy test is 0.9000156666144447\n",
      "\n",
      "\n",
      "At random_state {75} the training accuracy test is 0.9998589960518894\n",
      "At random_state {75} the testing accuracy test is 0.899013003289989\n",
      "\n",
      "\n",
      "At random_state {76} the training accuracy test is 0.9998668296045623\n",
      "At random_state {76} the testing accuracy test is 0.897947673507755\n",
      "\n",
      "\n",
      "At random_state {77} the training accuracy test is 0.9998433289465438\n",
      "At random_state {77} the testing accuracy test is 0.9003603321322262\n",
      "\n",
      "\n",
      "At random_state {78} the training accuracy test is 0.9998668296045623\n",
      "At random_state {78} the testing accuracy test is 0.8997963340122199\n",
      "\n",
      "\n",
      "At random_state {79} the training accuracy test is 0.9998903302625807\n",
      "At random_state {79} the testing accuracy test is 0.9006109979633401\n",
      "\n",
      "\n",
      "At random_state {80} the training accuracy test is 0.999874663157235\n",
      "At random_state {80} the testing accuracy test is 0.8975090083033057\n",
      "\n",
      "\n",
      "At random_state {81} the training accuracy test is 0.9998589960518894\n",
      "At random_state {81} the testing accuracy test is 0.9019583268055773\n",
      "\n",
      "\n",
      "At random_state {82} the training accuracy test is 0.9998668296045623\n",
      "At random_state {82} the testing accuracy test is 0.9005483315055617\n",
      "\n",
      "\n",
      "At random_state {83} the training accuracy test is 0.9998354953938711\n",
      "At random_state {83} the testing accuracy test is 0.9012689957700141\n",
      "\n",
      "\n",
      "At random_state {84} the training accuracy test is 0.999874663157235\n",
      "At random_state {84} the testing accuracy test is 0.9023343255522481\n",
      "\n",
      "\n",
      "At random_state {85} the training accuracy test is 0.999874663157235\n",
      "At random_state {85} the testing accuracy test is 0.8993263355788814\n",
      "\n",
      "\n",
      "At random_state {86} the training accuracy test is 0.9998589960518894\n",
      "At random_state {86} the testing accuracy test is 0.8992010026633245\n",
      "\n",
      "\n",
      "At random_state {87} the training accuracy test is 0.9998511624992167\n",
      "At random_state {87} the testing accuracy test is 0.8981983393388688\n",
      "\n",
      "\n",
      "At random_state {88} the training accuracy test is 0.9998433289465438\n",
      "At random_state {88} the testing accuracy test is 0.9012689957700141\n",
      "\n",
      "\n",
      "At random_state {89} the training accuracy test is 0.9998668296045623\n",
      "At random_state {89} the testing accuracy test is 0.8998590004699984\n",
      "\n",
      "\n",
      "At random_state {90} the training accuracy test is 0.9998668296045623\n",
      "At random_state {90} the testing accuracy test is 0.9000783330722231\n",
      "\n",
      "\n",
      "At random_state {91} the training accuracy test is 0.9998903302625807\n",
      "At random_state {91} the testing accuracy test is 0.8997336675544415\n",
      "\n",
      "\n",
      "At random_state {92} the training accuracy test is 0.9998433289465438\n",
      "At random_state {92} the testing accuracy test is 0.8987936706877644\n",
      "\n",
      "\n",
      "At random_state {93} the training accuracy test is 0.999874663157235\n",
      "At random_state {93} the testing accuracy test is 0.8993263355788814\n",
      "\n",
      "\n",
      "At random_state {94} the training accuracy test is 0.9998511624992167\n",
      "At random_state {94} the testing accuracy test is 0.9021149929500235\n",
      "\n",
      "\n",
      "At random_state {95} the training accuracy test is 0.9998354953938711\n",
      "At random_state {95} the testing accuracy test is 0.8998903336988877\n",
      "\n",
      "\n",
      "At random_state {96} the training accuracy test is 0.999874663157235\n",
      "At random_state {96} the testing accuracy test is 0.9002976656744478\n",
      "\n",
      "\n",
      "At random_state {97} the training accuracy test is 0.9998511624992167\n",
      "At random_state {97} the testing accuracy test is 0.9003603321322262\n",
      "\n",
      "\n",
      "At random_state {98} the training accuracy test is 0.999874663157235\n",
      "At random_state {98} the testing accuracy test is 0.899013003289989\n",
      "\n",
      "\n",
      "At random_state {99} the training accuracy test is 0.9998824967099079\n",
      "At random_state {99} the testing accuracy test is 0.9011749960833464\n",
      "\n",
      "\n"
     ]
    }
   ],
   "source": [
    "for i in range(0,100):\n",
    "    x_train,x_test,y_train,y_test=train_test_split(x,y,test_size=0.20,random_state=i)\n",
    "    dtc.fit(x_train,y_train)\n",
    "    preddtc=dtc.predict(x_train)\n",
    "    preddtc1=dtc.predict(x_test)\n",
    "    print('At random_state' ,{i}, 'the training accuracy test is', accuracy_score(y_train,preddtc))\n",
    "    print('At random_state' ,{i}, 'the testing accuracy test is', accuracy_score(y_test,preddtc1))\n",
    "    print('\\n')"
   ]
  },
  {
   "cell_type": "markdown",
   "id": "a81b41ec",
   "metadata": {},
   "source": [
    "## AT RANDOM STATE  84 WE HAVE THE HIGHEST ACCURACY OF 90.23%"
   ]
  },
  {
   "cell_type": "code",
   "execution_count": 134,
   "id": "5e8d09fe",
   "metadata": {},
   "outputs": [],
   "source": [
    "x_train,x_test,y_train,y_test=train_test_split(x,y,test_size=0.20,random_state=84)"
   ]
  },
  {
   "cell_type": "code",
   "execution_count": 135,
   "id": "83746094",
   "metadata": {},
   "outputs": [
    {
     "data": {
      "text/html": [
       "<style>#sk-container-id-3 {color: black;background-color: white;}#sk-container-id-3 pre{padding: 0;}#sk-container-id-3 div.sk-toggleable {background-color: white;}#sk-container-id-3 label.sk-toggleable__label {cursor: pointer;display: block;width: 100%;margin-bottom: 0;padding: 0.3em;box-sizing: border-box;text-align: center;}#sk-container-id-3 label.sk-toggleable__label-arrow:before {content: \"▸\";float: left;margin-right: 0.25em;color: #696969;}#sk-container-id-3 label.sk-toggleable__label-arrow:hover:before {color: black;}#sk-container-id-3 div.sk-estimator:hover label.sk-toggleable__label-arrow:before {color: black;}#sk-container-id-3 div.sk-toggleable__content {max-height: 0;max-width: 0;overflow: hidden;text-align: left;background-color: #f0f8ff;}#sk-container-id-3 div.sk-toggleable__content pre {margin: 0.2em;color: black;border-radius: 0.25em;background-color: #f0f8ff;}#sk-container-id-3 input.sk-toggleable__control:checked~div.sk-toggleable__content {max-height: 200px;max-width: 100%;overflow: auto;}#sk-container-id-3 input.sk-toggleable__control:checked~label.sk-toggleable__label-arrow:before {content: \"▾\";}#sk-container-id-3 div.sk-estimator input.sk-toggleable__control:checked~label.sk-toggleable__label {background-color: #d4ebff;}#sk-container-id-3 div.sk-label input.sk-toggleable__control:checked~label.sk-toggleable__label {background-color: #d4ebff;}#sk-container-id-3 input.sk-hidden--visually {border: 0;clip: rect(1px 1px 1px 1px);clip: rect(1px, 1px, 1px, 1px);height: 1px;margin: -1px;overflow: hidden;padding: 0;position: absolute;width: 1px;}#sk-container-id-3 div.sk-estimator {font-family: monospace;background-color: #f0f8ff;border: 1px dotted black;border-radius: 0.25em;box-sizing: border-box;margin-bottom: 0.5em;}#sk-container-id-3 div.sk-estimator:hover {background-color: #d4ebff;}#sk-container-id-3 div.sk-parallel-item::after {content: \"\";width: 100%;border-bottom: 1px solid gray;flex-grow: 1;}#sk-container-id-3 div.sk-label:hover label.sk-toggleable__label {background-color: #d4ebff;}#sk-container-id-3 div.sk-serial::before {content: \"\";position: absolute;border-left: 1px solid gray;box-sizing: border-box;top: 0;bottom: 0;left: 50%;z-index: 0;}#sk-container-id-3 div.sk-serial {display: flex;flex-direction: column;align-items: center;background-color: white;padding-right: 0.2em;padding-left: 0.2em;position: relative;}#sk-container-id-3 div.sk-item {position: relative;z-index: 1;}#sk-container-id-3 div.sk-parallel {display: flex;align-items: stretch;justify-content: center;background-color: white;position: relative;}#sk-container-id-3 div.sk-item::before, #sk-container-id-3 div.sk-parallel-item::before {content: \"\";position: absolute;border-left: 1px solid gray;box-sizing: border-box;top: 0;bottom: 0;left: 50%;z-index: -1;}#sk-container-id-3 div.sk-parallel-item {display: flex;flex-direction: column;z-index: 1;position: relative;background-color: white;}#sk-container-id-3 div.sk-parallel-item:first-child::after {align-self: flex-end;width: 50%;}#sk-container-id-3 div.sk-parallel-item:last-child::after {align-self: flex-start;width: 50%;}#sk-container-id-3 div.sk-parallel-item:only-child::after {width: 0;}#sk-container-id-3 div.sk-dashed-wrapped {border: 1px dashed gray;margin: 0 0.4em 0.5em 0.4em;box-sizing: border-box;padding-bottom: 0.4em;background-color: white;}#sk-container-id-3 div.sk-label label {font-family: monospace;font-weight: bold;display: inline-block;line-height: 1.2em;}#sk-container-id-3 div.sk-label-container {text-align: center;}#sk-container-id-3 div.sk-container {/* jupyter's `normalize.less` sets `[hidden] { display: none; }` but bootstrap.min.css set `[hidden] { display: none !important; }` so we also need the `!important` here to be able to override the default hidden behavior on the sphinx rendered scikit-learn.org. See: https://github.com/scikit-learn/scikit-learn/issues/21755 */display: inline-block !important;position: relative;}#sk-container-id-3 div.sk-text-repr-fallback {display: none;}</style><div id=\"sk-container-id-3\" class=\"sk-top-container\"><div class=\"sk-text-repr-fallback\"><pre>DecisionTreeClassifier()</pre><b>In a Jupyter environment, please rerun this cell to show the HTML representation or trust the notebook. <br />On GitHub, the HTML representation is unable to render, please try loading this page with nbviewer.org.</b></div><div class=\"sk-container\" hidden><div class=\"sk-item\"><div class=\"sk-estimator sk-toggleable\"><input class=\"sk-toggleable__control sk-hidden--visually\" id=\"sk-estimator-id-3\" type=\"checkbox\" checked><label for=\"sk-estimator-id-3\" class=\"sk-toggleable__label sk-toggleable__label-arrow\">DecisionTreeClassifier</label><div class=\"sk-toggleable__content\"><pre>DecisionTreeClassifier()</pre></div></div></div></div></div>"
      ],
      "text/plain": [
       "DecisionTreeClassifier()"
      ]
     },
     "execution_count": 135,
     "metadata": {},
     "output_type": "execute_result"
    }
   ],
   "source": [
    "dtc.fit(x_train,y_train)"
   ]
  },
  {
   "cell_type": "code",
   "execution_count": 136,
   "id": "a7f27093",
   "metadata": {},
   "outputs": [],
   "source": [
    "PREDTC=dtc.predict(x_test)"
   ]
  },
  {
   "cell_type": "code",
   "execution_count": 137,
   "id": "be50de8e",
   "metadata": {},
   "outputs": [
    {
     "name": "stdout",
     "output_type": "stream",
     "text": [
      "0.9023343255522481\n"
     ]
    }
   ],
   "source": [
    "print(accuracy_score(y_test,PREDTC))"
   ]
  },
  {
   "cell_type": "code",
   "execution_count": 138,
   "id": "a413d626",
   "metadata": {},
   "outputs": [
    {
     "name": "stdout",
     "output_type": "stream",
     "text": [
      "[[28761     7]\n",
      " [ 3110    37]]\n"
     ]
    }
   ],
   "source": [
    "print(confusion_matrix(y_test,PREDTC))"
   ]
  },
  {
   "cell_type": "code",
   "execution_count": 139,
   "id": "728ce456",
   "metadata": {},
   "outputs": [
    {
     "name": "stdout",
     "output_type": "stream",
     "text": [
      "              precision    recall  f1-score   support\n",
      "\n",
      "           0       0.90      1.00      0.95     28768\n",
      "           1       0.84      0.01      0.02      3147\n",
      "\n",
      "    accuracy                           0.90     31915\n",
      "   macro avg       0.87      0.51      0.49     31915\n",
      "weighted avg       0.90      0.90      0.86     31915\n",
      "\n"
     ]
    }
   ],
   "source": [
    "print(classification_report(y_test,PREDTC))"
   ]
  },
  {
   "cell_type": "markdown",
   "id": "80debf14",
   "metadata": {},
   "source": [
    "## AUC ROC CURVE "
   ]
  },
  {
   "cell_type": "code",
   "execution_count": 198,
   "id": "9eadf757",
   "metadata": {},
   "outputs": [],
   "source": [
    "y_pred_prob4=dtc.predict_proba(x_test)[:,1]"
   ]
  },
  {
   "cell_type": "code",
   "execution_count": 199,
   "id": "1107e666",
   "metadata": {},
   "outputs": [
    {
     "data": {
      "text/plain": [
       "array([0., 0., 0., ..., 0., 0., 0.])"
      ]
     },
     "execution_count": 199,
     "metadata": {},
     "output_type": "execute_result"
    }
   ],
   "source": [
    "y_pred_prob4"
   ]
  },
  {
   "cell_type": "code",
   "execution_count": 200,
   "id": "e1e08424",
   "metadata": {},
   "outputs": [],
   "source": [
    "tpr,fpr,thresholds=roc_curve(y_test,y_pred_prob4)"
   ]
  },
  {
   "cell_type": "code",
   "execution_count": 201,
   "id": "15be606c",
   "metadata": {},
   "outputs": [
    {
     "data": {
      "text/plain": [
       "array([0.00000000e+00, 6.95216908e-05, 6.95216908e-05, 2.08565072e-04,\n",
       "       1.00000000e+00])"
      ]
     },
     "execution_count": 201,
     "metadata": {},
     "output_type": "execute_result"
    }
   ],
   "source": [
    "tpr"
   ]
  },
  {
   "cell_type": "code",
   "execution_count": 202,
   "id": "1ce0d3e7",
   "metadata": {},
   "outputs": [
    {
     "data": {
      "text/plain": [
       "array([0.        , 0.80330473, 0.8036225 , 0.80425802, 1.        ])"
      ]
     },
     "execution_count": 202,
     "metadata": {},
     "output_type": "execute_result"
    }
   ],
   "source": [
    "fpr"
   ]
  },
  {
   "cell_type": "code",
   "execution_count": 203,
   "id": "8adfd160",
   "metadata": {},
   "outputs": [
    {
     "data": {
      "text/plain": [
       "array([2.  , 1.  , 0.75, 0.5 , 0.  ])"
      ]
     },
     "execution_count": 203,
     "metadata": {},
     "output_type": "execute_result"
    }
   ],
   "source": [
    "thresholds"
   ]
  },
  {
   "cell_type": "code",
   "execution_count": 204,
   "id": "e97a2d19",
   "metadata": {},
   "outputs": [
    {
     "data": {
      "image/png": "[encoded data removed]",
      "text/plain": [
       "<Figure size 432x288 with 1 Axes>"
      ]
     },
     "metadata": {
      "needs_background": "light"
     },
     "output_type": "display_data"
    }
   ],
   "source": [
    "plt.plot([0,1],[0,1],'k--')\n",
    "plt.plot(tpr,fpr,label='DTC')\n",
    "plt.xlabel('FALSE_POSITIVE_RATE')\n",
    "plt.ylabel('TRUE_POSITIVE_RATE')\n",
    "plt.title('DTC_CLASSIFIER')\n",
    "plt.show()"
   ]
  },
  {
   "cell_type": "code",
   "execution_count": 205,
   "id": "e98db927",
   "metadata": {},
   "outputs": [
    {
     "data": {
      "text/plain": [
       "0.5017476962186209"
      ]
     },
     "execution_count": 205,
     "metadata": {},
     "output_type": "execute_result"
    }
   ],
   "source": [
    "auc_score4=roc_auc_score(y_test,(dtc.predict(x_test)))\n",
    "auc_score"
   ]
  },
  {
   "cell_type": "markdown",
   "id": "12496024",
   "metadata": {},
   "source": [
    "## CROSS VAL SCORE"
   ]
  },
  {
   "cell_type": "code",
   "execution_count": 140,
   "id": "fae3ff1a",
   "metadata": {},
   "outputs": [],
   "source": [
    "from sklearn.model_selection import cross_val_score"
   ]
  },
  {
   "cell_type": "code",
   "execution_count": 141,
   "id": "89efee90",
   "metadata": {},
   "outputs": [
    {
     "name": "stdout",
     "output_type": "stream",
     "text": [
      "CV is 0.8983712584099408\n",
      "CV is 0.8993614151479903\n",
      "CV is 0.8984464597301827\n",
      "CV is 0.8983712584099408\n"
     ]
    }
   ],
   "source": [
    "for m in [lr,dtc,knn,mb]:\n",
    "    cv=cross_val_score(m,x,y,cv=10)\n",
    "    print('CV','is',(cv.mean()))"
   ]
  },
  {
   "cell_type": "markdown",
   "id": "1384313d",
   "metadata": {},
   "source": [
    "## THERE IS VERY SLIGHT OVER FITTING IN THE DATA SET "
   ]
  },
  {
   "cell_type": "markdown",
   "id": "bfdbbf01",
   "metadata": {},
   "source": [
    "## MODEL ACCURACY"
   ]
  },
  {
   "cell_type": "markdown",
   "id": "b49e0f58",
   "metadata": {},
   "source": [
    "## LR-90.14%\n",
    "## DTC-90.23%\n",
    "## KNN-90.77%\n",
    "## MB- 90.77%"
   ]
  },
  {
   "cell_type": "markdown",
   "id": "dcb7925a",
   "metadata": {},
   "source": [
    "## DIFFERENCE BETWEEN CV MEAN SCORE AND MODEL ACCURACY "
   ]
  },
  {
   "cell_type": "code",
   "execution_count": 142,
   "id": "caea3495",
   "metadata": {},
   "outputs": [
    {
     "data": {
      "text/plain": [
       "0.4099999999999966"
      ]
     },
     "execution_count": 142,
     "metadata": {},
     "output_type": "execute_result"
    }
   ],
   "source": [
    "90.24-89.83"
   ]
  },
  {
   "cell_type": "code",
   "execution_count": 143,
   "id": "a89e312a",
   "metadata": {},
   "outputs": [
    {
     "data": {
      "text/plain": [
       "0.29999999999999716"
      ]
     },
     "execution_count": 143,
     "metadata": {},
     "output_type": "execute_result"
    }
   ],
   "source": [
    "90.23-89.93"
   ]
  },
  {
   "cell_type": "code",
   "execution_count": 144,
   "id": "612f2b24",
   "metadata": {},
   "outputs": [
    {
     "data": {
      "text/plain": [
       "0.9299999999999926"
      ]
     },
     "execution_count": 144,
     "metadata": {},
     "output_type": "execute_result"
    }
   ],
   "source": [
    "90.77-89.84"
   ]
  },
  {
   "cell_type": "code",
   "execution_count": 145,
   "id": "cec6af4b",
   "metadata": {},
   "outputs": [
    {
     "data": {
      "text/plain": [
       "0.9399999999999977"
      ]
     },
     "execution_count": 145,
     "metadata": {},
     "output_type": "execute_result"
    }
   ],
   "source": [
    "90.77-89.83"
   ]
  },
  {
   "cell_type": "markdown",
   "id": "0bd8b718",
   "metadata": {},
   "source": [
    "## DTC MODEL HAS THE LEAST DIFFERENCE BETWEEN CV MEAN SCORE AND MODEL ACCURACY SCORE, HENCE WE WILL HYPER TUNE THE SAID MODEL "
   ]
  },
  {
   "cell_type": "markdown",
   "id": "fbb3857f",
   "metadata": {},
   "source": [
    "## HYPER TUNE - DECISION TREE CLASSIFIER MODEL "
   ]
  },
  {
   "cell_type": "code",
   "execution_count": 153,
   "id": "6392fa9a",
   "metadata": {},
   "outputs": [],
   "source": [
    "DD={'criterion':['gini','entropy','log_loss'],'min_samples_split':[2,3,],'min_samples_leaf':[1,2,3],'splitter':['best','random']}"
   ]
  },
  {
   "cell_type": "code",
   "execution_count": 154,
   "id": "6b3bec9d",
   "metadata": {},
   "outputs": [],
   "source": [
    "DTC=DecisionTreeClassifier()"
   ]
  },
  {
   "cell_type": "code",
   "execution_count": 155,
   "id": "5381f4f7",
   "metadata": {},
   "outputs": [],
   "source": [
    "gd=GridSearchCV(DTC,DD,cv=5,scoring='accuracy')"
   ]
  },
  {
   "cell_type": "code",
   "execution_count": 156,
   "id": "f8073b25",
   "metadata": {},
   "outputs": [
    {
     "data": {
      "text/html": [
       "<style>#sk-container-id-4 {color: black;background-color: white;}#sk-container-id-4 pre{padding: 0;}#sk-container-id-4 div.sk-toggleable {background-color: white;}#sk-container-id-4 label.sk-toggleable__label {cursor: pointer;display: block;width: 100%;margin-bottom: 0;padding: 0.3em;box-sizing: border-box;text-align: center;}#sk-container-id-4 label.sk-toggleable__label-arrow:before {content: \"▸\";float: left;margin-right: 0.25em;color: #696969;}#sk-container-id-4 label.sk-toggleable__label-arrow:hover:before {color: black;}#sk-container-id-4 div.sk-estimator:hover label.sk-toggleable__label-arrow:before {color: black;}#sk-container-id-4 div.sk-toggleable__content {max-height: 0;max-width: 0;overflow: hidden;text-align: left;background-color: #f0f8ff;}#sk-container-id-4 div.sk-toggleable__content pre {margin: 0.2em;color: black;border-radius: 0.25em;background-color: #f0f8ff;}#sk-container-id-4 input.sk-toggleable__control:checked~div.sk-toggleable__content {max-height: 200px;max-width: 100%;overflow: auto;}#sk-container-id-4 input.sk-toggleable__control:checked~label.sk-toggleable__label-arrow:before {content: \"▾\";}#sk-container-id-4 div.sk-estimator input.sk-toggleable__control:checked~label.sk-toggleable__label {background-color: #d4ebff;}#sk-container-id-4 div.sk-label input.sk-toggleable__control:checked~label.sk-toggleable__label {background-color: #d4ebff;}#sk-container-id-4 input.sk-hidden--visually {border: 0;clip: rect(1px 1px 1px 1px);clip: rect(1px, 1px, 1px, 1px);height: 1px;margin: -1px;overflow: hidden;padding: 0;position: absolute;width: 1px;}#sk-container-id-4 div.sk-estimator {font-family: monospace;background-color: #f0f8ff;border: 1px dotted black;border-radius: 0.25em;box-sizing: border-box;margin-bottom: 0.5em;}#sk-container-id-4 div.sk-estimator:hover {background-color: #d4ebff;}#sk-container-id-4 div.sk-parallel-item::after {content: \"\";width: 100%;border-bottom: 1px solid gray;flex-grow: 1;}#sk-container-id-4 div.sk-label:hover label.sk-toggleable__label {background-color: #d4ebff;}#sk-container-id-4 div.sk-serial::before {content: \"\";position: absolute;border-left: 1px solid gray;box-sizing: border-box;top: 0;bottom: 0;left: 50%;z-index: 0;}#sk-container-id-4 div.sk-serial {display: flex;flex-direction: column;align-items: center;background-color: white;padding-right: 0.2em;padding-left: 0.2em;position: relative;}#sk-container-id-4 div.sk-item {position: relative;z-index: 1;}#sk-container-id-4 div.sk-parallel {display: flex;align-items: stretch;justify-content: center;background-color: white;position: relative;}#sk-container-id-4 div.sk-item::before, #sk-container-id-4 div.sk-parallel-item::before {content: \"\";position: absolute;border-left: 1px solid gray;box-sizing: border-box;top: 0;bottom: 0;left: 50%;z-index: -1;}#sk-container-id-4 div.sk-parallel-item {display: flex;flex-direction: column;z-index: 1;position: relative;background-color: white;}#sk-container-id-4 div.sk-parallel-item:first-child::after {align-self: flex-end;width: 50%;}#sk-container-id-4 div.sk-parallel-item:last-child::after {align-self: flex-start;width: 50%;}#sk-container-id-4 div.sk-parallel-item:only-child::after {width: 0;}#sk-container-id-4 div.sk-dashed-wrapped {border: 1px dashed gray;margin: 0 0.4em 0.5em 0.4em;box-sizing: border-box;padding-bottom: 0.4em;background-color: white;}#sk-container-id-4 div.sk-label label {font-family: monospace;font-weight: bold;display: inline-block;line-height: 1.2em;}#sk-container-id-4 div.sk-label-container {text-align: center;}#sk-container-id-4 div.sk-container {/* jupyter's `normalize.less` sets `[hidden] { display: none; }` but bootstrap.min.css set `[hidden] { display: none !important; }` so we also need the `!important` here to be able to override the default hidden behavior on the sphinx rendered scikit-learn.org. See: https://github.com/scikit-learn/scikit-learn/issues/21755 */display: inline-block !important;position: relative;}#sk-container-id-4 div.sk-text-repr-fallback {display: none;}</style><div id=\"sk-container-id-4\" class=\"sk-top-container\"><div class=\"sk-text-repr-fallback\"><pre>GridSearchCV(cv=5, estimator=DecisionTreeClassifier(),\n",
       "             param_grid={&#x27;criterion&#x27;: [&#x27;gini&#x27;, &#x27;entropy&#x27;, &#x27;log_loss&#x27;],\n",
       "                         &#x27;min_samples_leaf&#x27;: [1, 2, 3],\n",
       "                         &#x27;min_samples_split&#x27;: [2, 3],\n",
       "                         &#x27;splitter&#x27;: [&#x27;best&#x27;, &#x27;random&#x27;]},\n",
       "             scoring=&#x27;accuracy&#x27;)</pre><b>In a Jupyter environment, please rerun this cell to show the HTML representation or trust the notebook. <br />On GitHub, the HTML representation is unable to render, please try loading this page with nbviewer.org.</b></div><div class=\"sk-container\" hidden><div class=\"sk-item sk-dashed-wrapped\"><div class=\"sk-label-container\"><div class=\"sk-label sk-toggleable\"><input class=\"sk-toggleable__control sk-hidden--visually\" id=\"sk-estimator-id-4\" type=\"checkbox\" ><label for=\"sk-estimator-id-4\" class=\"sk-toggleable__label sk-toggleable__label-arrow\">GridSearchCV</label><div class=\"sk-toggleable__content\"><pre>GridSearchCV(cv=5, estimator=DecisionTreeClassifier(),\n",
       "             param_grid={&#x27;criterion&#x27;: [&#x27;gini&#x27;, &#x27;entropy&#x27;, &#x27;log_loss&#x27;],\n",
       "                         &#x27;min_samples_leaf&#x27;: [1, 2, 3],\n",
       "                         &#x27;min_samples_split&#x27;: [2, 3],\n",
       "                         &#x27;splitter&#x27;: [&#x27;best&#x27;, &#x27;random&#x27;]},\n",
       "             scoring=&#x27;accuracy&#x27;)</pre></div></div></div><div class=\"sk-parallel\"><div class=\"sk-parallel-item\"><div class=\"sk-item\"><div class=\"sk-label-container\"><div class=\"sk-label sk-toggleable\"><input class=\"sk-toggleable__control sk-hidden--visually\" id=\"sk-estimator-id-5\" type=\"checkbox\" ><label for=\"sk-estimator-id-5\" class=\"sk-toggleable__label sk-toggleable__label-arrow\">estimator: DecisionTreeClassifier</label><div class=\"sk-toggleable__content\"><pre>DecisionTreeClassifier()</pre></div></div></div><div class=\"sk-serial\"><div class=\"sk-item\"><div class=\"sk-estimator sk-toggleable\"><input class=\"sk-toggleable__control sk-hidden--visually\" id=\"sk-estimator-id-6\" type=\"checkbox\" ><label for=\"sk-estimator-id-6\" class=\"sk-toggleable__label sk-toggleable__label-arrow\">DecisionTreeClassifier</label><div class=\"sk-toggleable__content\"><pre>DecisionTreeClassifier()</pre></div></div></div></div></div></div></div></div></div></div>"
      ],
      "text/plain": [
       "GridSearchCV(cv=5, estimator=DecisionTreeClassifier(),\n",
       "             param_grid={'criterion': ['gini', 'entropy', 'log_loss'],\n",
       "                         'min_samples_leaf': [1, 2, 3],\n",
       "                         'min_samples_split': [2, 3],\n",
       "                         'splitter': ['best', 'random']},\n",
       "             scoring='accuracy')"
      ]
     },
     "execution_count": 156,
     "metadata": {},
     "output_type": "execute_result"
    }
   ],
   "source": [
    "gd.fit(x_train,y_train)"
   ]
  },
  {
   "cell_type": "code",
   "execution_count": 158,
   "id": "ca79352b",
   "metadata": {},
   "outputs": [
    {
     "data": {
      "text/plain": [
       "{'criterion': 'gini',\n",
       " 'min_samples_leaf': 1,\n",
       " 'min_samples_split': 2,\n",
       " 'splitter': 'best'}"
      ]
     },
     "execution_count": 158,
     "metadata": {},
     "output_type": "execute_result"
    }
   ],
   "source": [
    "gd.best_params_"
   ]
  },
  {
   "cell_type": "code",
   "execution_count": 159,
   "id": "619bbcd9",
   "metadata": {},
   "outputs": [],
   "source": [
    "DTC11=DecisionTreeClassifier(criterion='gini',min_samples_split=2,splitter='best',min_samples_leaf=1)"
   ]
  },
  {
   "cell_type": "code",
   "execution_count": 160,
   "id": "7cb3f671",
   "metadata": {},
   "outputs": [
    {
     "data": {
      "text/html": [
       "<style>#sk-container-id-5 {color: black;background-color: white;}#sk-container-id-5 pre{padding: 0;}#sk-container-id-5 div.sk-toggleable {background-color: white;}#sk-container-id-5 label.sk-toggleable__label {cursor: pointer;display: block;width: 100%;margin-bottom: 0;padding: 0.3em;box-sizing: border-box;text-align: center;}#sk-container-id-5 label.sk-toggleable__label-arrow:before {content: \"▸\";float: left;margin-right: 0.25em;color: #696969;}#sk-container-id-5 label.sk-toggleable__label-arrow:hover:before {color: black;}#sk-container-id-5 div.sk-estimator:hover label.sk-toggleable__label-arrow:before {color: black;}#sk-container-id-5 div.sk-toggleable__content {max-height: 0;max-width: 0;overflow: hidden;text-align: left;background-color: #f0f8ff;}#sk-container-id-5 div.sk-toggleable__content pre {margin: 0.2em;color: black;border-radius: 0.25em;background-color: #f0f8ff;}#sk-container-id-5 input.sk-toggleable__control:checked~div.sk-toggleable__content {max-height: 200px;max-width: 100%;overflow: auto;}#sk-container-id-5 input.sk-toggleable__control:checked~label.sk-toggleable__label-arrow:before {content: \"▾\";}#sk-container-id-5 div.sk-estimator input.sk-toggleable__control:checked~label.sk-toggleable__label {background-color: #d4ebff;}#sk-container-id-5 div.sk-label input.sk-toggleable__control:checked~label.sk-toggleable__label {background-color: #d4ebff;}#sk-container-id-5 input.sk-hidden--visually {border: 0;clip: rect(1px 1px 1px 1px);clip: rect(1px, 1px, 1px, 1px);height: 1px;margin: -1px;overflow: hidden;padding: 0;position: absolute;width: 1px;}#sk-container-id-5 div.sk-estimator {font-family: monospace;background-color: #f0f8ff;border: 1px dotted black;border-radius: 0.25em;box-sizing: border-box;margin-bottom: 0.5em;}#sk-container-id-5 div.sk-estimator:hover {background-color: #d4ebff;}#sk-container-id-5 div.sk-parallel-item::after {content: \"\";width: 100%;border-bottom: 1px solid gray;flex-grow: 1;}#sk-container-id-5 div.sk-label:hover label.sk-toggleable__label {background-color: #d4ebff;}#sk-container-id-5 div.sk-serial::before {content: \"\";position: absolute;border-left: 1px solid gray;box-sizing: border-box;top: 0;bottom: 0;left: 50%;z-index: 0;}#sk-container-id-5 div.sk-serial {display: flex;flex-direction: column;align-items: center;background-color: white;padding-right: 0.2em;padding-left: 0.2em;position: relative;}#sk-container-id-5 div.sk-item {position: relative;z-index: 1;}#sk-container-id-5 div.sk-parallel {display: flex;align-items: stretch;justify-content: center;background-color: white;position: relative;}#sk-container-id-5 div.sk-item::before, #sk-container-id-5 div.sk-parallel-item::before {content: \"\";position: absolute;border-left: 1px solid gray;box-sizing: border-box;top: 0;bottom: 0;left: 50%;z-index: -1;}#sk-container-id-5 div.sk-parallel-item {display: flex;flex-direction: column;z-index: 1;position: relative;background-color: white;}#sk-container-id-5 div.sk-parallel-item:first-child::after {align-self: flex-end;width: 50%;}#sk-container-id-5 div.sk-parallel-item:last-child::after {align-self: flex-start;width: 50%;}#sk-container-id-5 div.sk-parallel-item:only-child::after {width: 0;}#sk-container-id-5 div.sk-dashed-wrapped {border: 1px dashed gray;margin: 0 0.4em 0.5em 0.4em;box-sizing: border-box;padding-bottom: 0.4em;background-color: white;}#sk-container-id-5 div.sk-label label {font-family: monospace;font-weight: bold;display: inline-block;line-height: 1.2em;}#sk-container-id-5 div.sk-label-container {text-align: center;}#sk-container-id-5 div.sk-container {/* jupyter's `normalize.less` sets `[hidden] { display: none; }` but bootstrap.min.css set `[hidden] { display: none !important; }` so we also need the `!important` here to be able to override the default hidden behavior on the sphinx rendered scikit-learn.org. See: https://github.com/scikit-learn/scikit-learn/issues/21755 */display: inline-block !important;position: relative;}#sk-container-id-5 div.sk-text-repr-fallback {display: none;}</style><div id=\"sk-container-id-5\" class=\"sk-top-container\"><div class=\"sk-text-repr-fallback\"><pre>DecisionTreeClassifier()</pre><b>In a Jupyter environment, please rerun this cell to show the HTML representation or trust the notebook. <br />On GitHub, the HTML representation is unable to render, please try loading this page with nbviewer.org.</b></div><div class=\"sk-container\" hidden><div class=\"sk-item\"><div class=\"sk-estimator sk-toggleable\"><input class=\"sk-toggleable__control sk-hidden--visually\" id=\"sk-estimator-id-7\" type=\"checkbox\" checked><label for=\"sk-estimator-id-7\" class=\"sk-toggleable__label sk-toggleable__label-arrow\">DecisionTreeClassifier</label><div class=\"sk-toggleable__content\"><pre>DecisionTreeClassifier()</pre></div></div></div></div></div>"
      ],
      "text/plain": [
       "DecisionTreeClassifier()"
      ]
     },
     "execution_count": 160,
     "metadata": {},
     "output_type": "execute_result"
    }
   ],
   "source": [
    "DTC11.fit(x_train,y_train)"
   ]
  },
  {
   "cell_type": "code",
   "execution_count": 161,
   "id": "043cc658",
   "metadata": {},
   "outputs": [],
   "source": [
    "PREDTC11=DTC11.predict(x_test)"
   ]
  },
  {
   "cell_type": "code",
   "execution_count": 162,
   "id": "d0f66cda",
   "metadata": {},
   "outputs": [
    {
     "name": "stdout",
     "output_type": "stream",
     "text": [
      "0.9023343255522481\n"
     ]
    }
   ],
   "source": [
    "print(accuracy_score(y_test,PREDTC11))"
   ]
  },
  {
   "cell_type": "code",
   "execution_count": 163,
   "id": "ae322e30",
   "metadata": {},
   "outputs": [
    {
     "name": "stdout",
     "output_type": "stream",
     "text": [
      "[[28761     7]\n",
      " [ 3110    37]]\n"
     ]
    }
   ],
   "source": [
    "print(confusion_matrix(y_test,PREDTC11))"
   ]
  },
  {
   "cell_type": "code",
   "execution_count": 164,
   "id": "5358fed0",
   "metadata": {},
   "outputs": [
    {
     "name": "stdout",
     "output_type": "stream",
     "text": [
      "              precision    recall  f1-score   support\n",
      "\n",
      "           0       0.90      1.00      0.95     28768\n",
      "           1       0.84      0.01      0.02      3147\n",
      "\n",
      "    accuracy                           0.90     31915\n",
      "   macro avg       0.87      0.51      0.49     31915\n",
      "weighted avg       0.90      0.90      0.86     31915\n",
      "\n"
     ]
    }
   ],
   "source": [
    "print(classification_report(y_test,PREDTC11))"
   ]
  },
  {
   "cell_type": "markdown",
   "id": "aeca55ab",
   "metadata": {},
   "source": [
    "## AUC ROC CURVE"
   ]
  },
  {
   "cell_type": "code",
   "execution_count": 206,
   "id": "b010e8f2",
   "metadata": {},
   "outputs": [],
   "source": [
    "y_pred_prob5=DTC11.predict_proba(x_test)[:,1]"
   ]
  },
  {
   "cell_type": "code",
   "execution_count": 207,
   "id": "b2286fa2",
   "metadata": {},
   "outputs": [
    {
     "data": {
      "text/plain": [
       "array([0., 0., 0., ..., 0., 0., 0.])"
      ]
     },
     "execution_count": 207,
     "metadata": {},
     "output_type": "execute_result"
    }
   ],
   "source": [
    "y_pred_prob5"
   ]
  },
  {
   "cell_type": "code",
   "execution_count": 208,
   "id": "991c4a12",
   "metadata": {},
   "outputs": [],
   "source": [
    "tpr,fpr,thresholds=roc_curve(y_test,y_pred_prob5)"
   ]
  },
  {
   "cell_type": "code",
   "execution_count": 209,
   "id": "3b5e8e7f",
   "metadata": {},
   "outputs": [
    {
     "data": {
      "text/plain": [
       "array([0.00000000e+00, 6.95216908e-05, 6.95216908e-05, 2.08565072e-04,\n",
       "       1.00000000e+00])"
      ]
     },
     "execution_count": 209,
     "metadata": {},
     "output_type": "execute_result"
    }
   ],
   "source": [
    "tpr"
   ]
  },
  {
   "cell_type": "code",
   "execution_count": 210,
   "id": "1c1eed84",
   "metadata": {},
   "outputs": [
    {
     "data": {
      "text/plain": [
       "array([0.        , 0.80330473, 0.8036225 , 0.80425802, 1.        ])"
      ]
     },
     "execution_count": 210,
     "metadata": {},
     "output_type": "execute_result"
    }
   ],
   "source": [
    "fpr"
   ]
  },
  {
   "cell_type": "code",
   "execution_count": 211,
   "id": "a0c6f852",
   "metadata": {},
   "outputs": [
    {
     "data": {
      "text/plain": [
       "array([2.  , 1.  , 0.75, 0.5 , 0.  ])"
      ]
     },
     "execution_count": 211,
     "metadata": {},
     "output_type": "execute_result"
    }
   ],
   "source": [
    "thresholds"
   ]
  },
  {
   "cell_type": "code",
   "execution_count": 212,
   "id": "aecf2c69",
   "metadata": {},
   "outputs": [
    {
     "data": {
      "image/png": "[encoded data removed]",
      "text/plain": [
       "<Figure size 432x288 with 1 Axes>"
      ]
     },
     "metadata": {
      "needs_background": "light"
     },
     "output_type": "display_data"
    }
   ],
   "source": [
    "plt.plot([0,1],[0,1],'k--')\n",
    "plt.plot(tpr,fpr,label='DTC')\n",
    "plt.xlabel('FALSE_POSITIVE_RATE')\n",
    "plt.ylabel('TRUE_POSITIVE_RATE')\n",
    "plt.title('DTC_CLASSIFIER')\n",
    "plt.show()"
   ]
  },
  {
   "cell_type": "code",
   "execution_count": 213,
   "id": "6ca42903",
   "metadata": {},
   "outputs": [
    {
     "data": {
      "text/plain": [
       "0.5017476962186209"
      ]
     },
     "execution_count": 213,
     "metadata": {},
     "output_type": "execute_result"
    }
   ],
   "source": [
    "auc_score5=roc_auc_score(y_test,(DTC11.predict(x_test)))\n",
    "auc_score"
   ]
  },
  {
   "cell_type": "markdown",
   "id": "cc92aa6a",
   "metadata": {},
   "source": [
    "## SAVING THE MODEL "
   ]
  },
  {
   "cell_type": "code",
   "execution_count": 220,
   "id": "ee8ef650",
   "metadata": {},
   "outputs": [],
   "source": [
    "import pickle"
   ]
  },
  {
   "cell_type": "code",
   "execution_count": 225,
   "id": "badd1c23",
   "metadata": {},
   "outputs": [],
   "source": [
    "filename='MALIGNANT_CLASSIFIERs.pkl'\n",
    "pickle.dump(DTC11,open(filename,'wb'))"
   ]
  },
  {
   "cell_type": "code",
   "execution_count": 222,
   "id": "4dcfeec2",
   "metadata": {},
   "outputs": [],
   "source": []
  },
  {
   "cell_type": "code",
   "execution_count": null,
   "id": "b301e2b7",
   "metadata": {},
   "outputs": [],
   "source": []
  }
 ],
 "metadata": {
  "kernelspec": {
   "display_name": "Python 3 (ipykernel)",
   "language": "python",
   "name": "python3"
  },
  "language_info": {
   "codemirror_mode": {
    "name": "ipython",
    "version": 3
   },
   "file_extension": ".py",
   "mimetype": "text/x-python",
   "name": "python",
   "nbconvert_exporter": "python",
   "pygments_lexer": "ipython3",
   "version": "3.9.12"
  }
 },
 "nbformat": 4,
 "nbformat_minor": 5
}
